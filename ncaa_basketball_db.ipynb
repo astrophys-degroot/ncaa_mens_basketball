{
 "cells": [
  {
   "cell_type": "markdown",
   "metadata": {},
   "source": [
    "# Notebook to make and test Postgres databases for NCAA_MBB project\n",
    "\n",
    "1. scoreboard table - table with all possible dates of men's college basketball games and whether that webpage has been obtained from ESPN\n",
    "2. games table - created in ncaa_basketball_games notebook currently but tests still offered here\n",
    "3. winloss table - simple table to make wins (1) and losses (-1) numerical"
   ]
  },
  {
   "cell_type": "code",
   "execution_count": 1,
   "metadata": {
    "collapsed": false
   },
   "outputs": [],
   "source": [
    "#import packages\n",
    "import sys\n",
    "import re\n",
    "import os\n",
    "import numpy as np\n",
    "import pandas as pd\n",
    "from sqlalchemy import create_engine\n",
    "from sqlalchemy_utils import database_exists, create_database\n",
    "import psycopg2"
   ]
  },
  {
   "cell_type": "markdown",
   "metadata": {},
   "source": [
    "## For creating, testing the base scoreboard database\n",
    "    * scoreboard database: info regarding the various ESPN scoreboard pages such as data and whether obtained\n",
    "\n"
   ]
  },
  {
   "cell_type": "code",
   "execution_count": 2,
   "metadata": {
    "collapsed": false
   },
   "outputs": [],
   "source": [
    "def scoreboard_table(username, dbname, engine, lastdate):\n",
    "        \n",
    "    scoreboard_table_name = 'scoreboard'\n",
    "    scoreboard_dir = 'scoreboard_pages/'\n",
    "    scoreboard_file = 'ncaa_mbb_scoreboard_full_YYYYMMDD.txt'\n",
    "    scoreboard_table_range = [['20021101','20030430'], \n",
    "                              ['20031101','20040430'], \n",
    "                              ['20041101','20050430'],\n",
    "                              ['20051101','20060430'],\n",
    "                              ['20061101','20070430'],\n",
    "                              ['20071101','20080430'],\n",
    "                              ['20081101','20090430'],\n",
    "                              ['20091101','20100430'],\n",
    "                              ['20101101','20110430'],\n",
    "                              ['20111101','20120430'],\n",
    "                              ['20121101','20130430'],\n",
    "                              ['20131101','20140430'],\n",
    "                              ['20141101','20150430'],\n",
    "                              ['20151101',lastdate],\n",
    "                               ] \n",
    "    \n",
    "    try:\n",
    "        #fire up the database engine\n",
    "        engine = create_engine('postgres://%s@localhost/%s'%(username, dbname))\n",
    "        db_exist = database_exists(engine.url)\n",
    "        if not db_exist:\n",
    "            create_database(engine.url)\n",
    "\n",
    "        #create empty arrays to fill\n",
    "        my_dates = []\n",
    "        my_years = []\n",
    "        my_months = []\n",
    "        my_days = []\n",
    "\n",
    "        #loop over the date ranges\n",
    "        for scoreboard in scoreboard_table_range:\n",
    "            dates_range = pd.date_range(start=scoreboard[0], end=scoreboard[1], freq='D')\n",
    "            for date_range in dates_range:\n",
    "                match = re.search('(\\d\\d\\d\\d)-(\\d\\d)-(\\d\\d)', str(date_range))\n",
    "                my_dates.append(match.group(0))\n",
    "                my_years.append(match.group(1))\n",
    "                my_months.append(match.group(2))\n",
    "                my_days.append(match.group(3))\n",
    "\n",
    "        #find which files have already been downloaded\n",
    "        in_hand = []\n",
    "        for ii in np.arange(len(my_dates)):\n",
    "            bit1 = scoreboard_file\n",
    "            bit1 = bit1.replace('YYYY', my_years[ii])\n",
    "            bit1 = bit1.replace('MM', my_months[ii])\n",
    "            bit1 = bit1.replace('DD', my_days[ii])\n",
    "            #print bit1\n",
    "\n",
    "            bit2 = scoreboard_dir  \n",
    "            if int(my_months[ii]) > 7:\n",
    "                bit2 = str(my_years[ii]) + '-' + str(int(my_years[ii])+1) + '/'\n",
    "            else:\n",
    "                bit2 = str(int(my_years[ii])-1) + '-' + str(my_years[ii]) + '/'\n",
    "            #print bit2\n",
    "\n",
    "            line = 'ls ' + scoreboard_dir + bit2 + bit1\n",
    "            #print line\n",
    "            f = os.popen(line)\n",
    "            try:\n",
    "                f.readlines()[0]\n",
    "                in_hand.append('yes')\n",
    "            except:\n",
    "                #print f.readlines()\n",
    "                in_hand.append('no')\n",
    "\n",
    "        #make a data frame of our info\n",
    "        scoreboard_df = pd.DataFrame({'date':my_dates, \n",
    "                                      'year':my_years, \n",
    "                                      'month':my_months,\n",
    "                                      'day':my_days,\n",
    "                                      'in_hand':in_hand,        \n",
    "                                    })\n",
    "        ##################################################################\n",
    "        ###are you really sure you want to rebuild the entire scoreboard database???\n",
    "        scoreboard_df.to_sql(scoreboard_table_name, engine, if_exists='replace')\n",
    "        ##################################################################\n",
    "        created = 1\n",
    "    except:\n",
    "        created = 0\n",
    "        \n",
    "    return created"
   ]
  },
  {
   "cell_type": "code",
   "execution_count": 3,
   "metadata": {
    "collapsed": true
   },
   "outputs": [],
   "source": [
    "def do_test_scoreboard(username, dbname):\n",
    "\n",
    "    con = None\n",
    "    con = psycopg2.connect(database=dbname, user=username)\n",
    "    known_table = 'scoreboard'\n",
    "    \n",
    "    sql_query = \"SELECT COUNT(*) FROM %s;\" % (known_table)\n",
    "    try:\n",
    "        count_sql = pd.read_sql_query(sql_query, con)\n",
    "        if count_sql is not None:\n",
    "            exists = True\n",
    "    except:\n",
    "        exists = False\n",
    "    print '    Table, %s, exists: %s' % (known_table, exists)\n",
    "\n",
    "    if exists is True:\n",
    "        print '      Total number of entries in %s: %i' % (known_table, count_sql.loc[0])\n",
    "\n",
    "        sql_query = \"SELECT * FROM %s;\" % (known_table)\n",
    "        try:\n",
    "            all_sql = pd.read_sql_query(sql_query, con)\n",
    "        except:\n",
    "            a = 1\n",
    "        print '      First 5 entries of %s: ' % (known_table)\n",
    "        print all_sql.head(5)\n",
    "\n",
    "        sql_query = \"SELECT * FROM %s;\" % (known_table)\n",
    "        try:\n",
    "            all_sql = pd.read_sql_query(sql_query, con)\n",
    "        except:\n",
    "            a = 1\n",
    "        print '      Last 10 entries of %s: ' % (known_table)\n",
    "        print all_sql.tail(10)\n",
    "\n",
    "        sql_query = \"SELECT DISTINCT(date) FROM %s;\" % (known_table)\n",
    "        try:\n",
    "            distinct_sql = pd.read_sql_query(sql_query, con)\n",
    "            ndistinct_date = len(distinct_sql)\n",
    "        except:\n",
    "            a = 1\n",
    "        print '     %s distinct entries in %s.' % (ndistinct_date, known_table)\n",
    "        #if count_sql.loc[0] == ndistinct_date:\n",
    "        #    print '        All entries appear to be unique'\n",
    "\n",
    "\n",
    "    print ''"
   ]
  },
  {
   "cell_type": "markdown",
   "metadata": {},
   "source": [
    "## For creating, testing the games database\n",
    "* currently performed in the ncaa_basketball_games notebook\n",
    "* database with info regarding all games played\n",
    "        -filled with data scraped from scoreboard pages "
   ]
  },
  {
   "cell_type": "code",
   "execution_count": 4,
   "metadata": {
    "collapsed": false
   },
   "outputs": [],
   "source": [
    "def do_test_games(username, dbname):\n",
    "    \n",
    "    con = None\n",
    "    con = psycopg2.connect(database=dbname, user=username)\n",
    "    known_table = 'games'\n",
    "\n",
    "    sql_query = \"SELECT COUNT(*) FROM %s;\" % (known_table)\n",
    "    try:\n",
    "        count_sql = pd.read_sql_query(sql_query, con)\n",
    "        if count_sql is not None:\n",
    "            exists = True\n",
    "    except:\n",
    "        exists = False\n",
    "    print '    Table, %s, exists: %s' % (known_table, exists)\n",
    "\n",
    "    sql_query = \"SELECT COUNT(id) FROM %s WHERE in_hand='%s' AND id >320000000;\" % (known_table, 'no')\n",
    "    try:\n",
    "        count_to_get = pd.read_sql_query(sql_query, con)\n",
    "    except:\n",
    "        print '  games table, %s, does not exist' % boxscore_table_name\n",
    "    print '    Still have %i game pages left to download.' % (count_to_get.iloc[0])\n",
    "        \n",
    "\n",
    "    print ''"
   ]
  },
  {
   "cell_type": "markdown",
   "metadata": {},
   "source": [
    "## For creating, testing the gamestats databases"
   ]
  },
  {
   "cell_type": "code",
   "execution_count": 5,
   "metadata": {
    "collapsed": true
   },
   "outputs": [],
   "source": [
    "def do_test_gamestats(username, dbname, year):\n",
    "        \n",
    "    con = None\n",
    "    con = psycopg2.connect(database=dbname, user=username)\n",
    "    known_table = 'teams' + year \n",
    "        \n",
    "    sql_query = \"SELECT COUNT(*) FROM %s;\" % (known_table)\n",
    "    try:\n",
    "        count_sql = pd.read_sql_query(sql_query, con)\n",
    "        if count_sql is not None:\n",
    "            exists = True\n",
    "    except:\n",
    "        exists = False\n",
    "    print '    Table, %s, exists: %s' % (known_table, exists)\n",
    "\n",
    "    sql_query = \"SELECT DISTINCT(game_id) FROM %s;\" % (known_table)\n",
    "    try:\n",
    "        count_to_get = pd.read_sql_query(sql_query, con)\n",
    "        print '    There are %s distinct games in the %s table' % (len(count_to_get), known_table)\n",
    "    except:\n",
    "        print '  games table, %s, does not exist' % known_table\n",
    "     \n",
    "       \n",
    "    sql_query = \"SELECT * FROM %s;\" % (known_table)\n",
    "    try:\n",
    "        all_sql = pd.read_sql_query(sql_query, con)\n",
    "        print '      First 5 entries of %s: ' % (known_table)\n",
    "        print all_sql.head(5)\n",
    "        print '      Last 10 entries of %s: ' % (known_table)\n",
    "        print all_sql.tail(10)\n",
    "    except:\n",
    "        a = 1\n",
    " \n",
    "    print ''"
   ]
  },
  {
   "cell_type": "markdown",
   "metadata": {},
   "source": [
    "## For creating, testing the winloss database\n",
    "* a simple table to turn string values of win(w) and loss(l) to intergers win(1) and loss(-1)"
   ]
  },
  {
   "cell_type": "code",
   "execution_count": 6,
   "metadata": {
    "collapsed": false
   },
   "outputs": [],
   "source": [
    "def winloss_table(username, dbname, engine):\n",
    "    \n",
    "    winloss_table_name = 'winloss'\n",
    "    \n",
    "    try:\n",
    "        #fire up the database engine\n",
    "        engine = create_engine('postgres://%s@localhost/%s'%(username, dbname))\n",
    "        db_exist = database_exists(engine.url)\n",
    "        if not db_exist:\n",
    "            create_database(engine.url)\n",
    "\n",
    "        #the simple table that we need to make wins, losses numerical\n",
    "        winloss_df = pd.DataFrame({'wl':['w','l'], \n",
    "                                   'wl_int':[1,-1],        \n",
    "                                  }, index=[0,1])\n",
    "        ##################################################################\n",
    "        ###are you really sure you want to rebuild the winloss numerical database???\n",
    "        winloss_df.to_sql(winloss_table_name, engine, if_exists='replace')\n",
    "        ##################################################################\n",
    "        created = 1\n",
    "    except:\n",
    "        created = 0\n",
    "        \n",
    "    return created"
   ]
  },
  {
   "cell_type": "code",
   "execution_count": 7,
   "metadata": {
    "collapsed": false
   },
   "outputs": [],
   "source": [
    "def do_test_winloss(username, dbname):\n",
    "\n",
    "    con = None\n",
    "    con = psycopg2.connect(database=dbname, user=username)\n",
    "    known_table = 'winloss'\n",
    "    \n",
    "    sql_query = \"SELECT COUNT(*) FROM %s;\" % (known_table)\n",
    "    try:\n",
    "        count_sql = pd.read_sql_query(sql_query, con)\n",
    "        if count_sql is not None:\n",
    "            exists = True\n",
    "    except:\n",
    "        exists = False\n",
    "    print '    Table, %s, exists: %s' % (known_table, exists)\n",
    "\n",
    "    if exists is True:\n",
    "        print '      Total number of entries in %s: %i' % (known_table, count_sql.loc[0])\n",
    "\n",
    "        sql_query = \"SELECT * FROM %s;\" % (known_table)\n",
    "        try:\n",
    "            all_sql = pd.read_sql_query(sql_query, con)\n",
    "        except:\n",
    "            a = 1\n",
    "        print '      First 5 entries of %s: ' % (known_table)\n",
    "        print all_sql.head(5)\n",
    "    print ''"
   ]
  },
  {
   "cell_type": "code",
   "execution_count": 9,
   "metadata": {
    "collapsed": true
   },
   "outputs": [],
   "source": [
    "def main(make_scoreboard=False, make_games=None, \n",
    "         make_gamestats=False, make_winloss=False, \n",
    "         make_test=False, \n",
    "         username=None, dbname=None, \n",
    "         lastdate=None, year=None):\n",
    "    \n",
    "    print 'Now running: ', sys.argv[0]\n",
    "    \n",
    "    #set and check the input variables\n",
    "    if username is not None:\n",
    "        username = str(username)\n",
    "    else: \n",
    "        username = 'smaug'\n",
    "    if dbname is not None:\n",
    "        dbname = str(dbname)\n",
    "    else:\n",
    "        dbname = 'ncaa_mbb_db'\n",
    "    if lastdate is None:\n",
    "        lastdate = '20160204'\n",
    "    else:\n",
    "        if len(lastdate) != 8:\n",
    "            print 'Variable lastdate must be a string of form YYYYMMDD'\n",
    "        else:\n",
    "            lastdate = str(lastdate)\n",
    "    if year is None:\n",
    "        year = '1516'\n",
    "    else:\n",
    "        if len(lastdate) != 4:\n",
    "            print 'Variable year must be a string of form Y1Y1Y2Y2'\n",
    "        else:\n",
    "            year = str(year)\n",
    "\n",
    "    \n",
    "    #connect to Postgres\n",
    "    engine = create_engine('postgres://%s@localhost/%s'%(username, dbname))\n",
    "    print '  DB url:', engine.url\n",
    "    db_exist = database_exists(engine.url)\n",
    "    if not db_exist:\n",
    "        create_database(engine.url)\n",
    "    print '  DB exists? %s' % db_exist\n",
    "    print ''\n",
    "\n",
    "\n",
    "    #whether to work on scoreboard table\n",
    "    if make_scoreboard:\n",
    "        chk = scoreboard_table(username, dbname, engine, lastdate)\n",
    "        if chk == 1:\n",
    "            print '    Table, scoreboard, successfully created!'\n",
    "        else:\n",
    "            print '    Table, scoreboard, NOT created!'\n",
    "    if make_test:\n",
    "        chk = do_test_scoreboard(username, dbname)\n",
    "\n",
    "       \n",
    "    #whether to work on the games table\n",
    "    if make_test:\n",
    "        chk = do_test_games(username, dbname)\n",
    "        \n",
    "        \n",
    "    #whether to work on the gamestats tables\n",
    "    if make_test:\n",
    "        chk = do_test_gamestats(username, dbname, year)\n",
    "\n",
    "    \n",
    "    #whether to work on winloss table\n",
    "    if make_winloss:\n",
    "        chk = winloss_table(username, dbname, engine)\n",
    "        if chk == 1:\n",
    "            print '    Table, winloss, successfully created!'\n",
    "        else:\n",
    "            print '    Table, winloss, NOT created!'\n",
    "    if make_test:\n",
    "        chk = do_test_winloss(username, dbname)\n",
    "\n"
   ]
  },
  {
   "cell_type": "code",
   "execution_count": 10,
   "metadata": {
    "collapsed": false
   },
   "outputs": [
    {
     "name": "stdout",
     "output_type": "stream",
     "text": [
      "Now running:  /anaconda/lib/python2.7/site-packages/ipykernel/__main__.py\n",
      "Variable year must be a string of form Y1Y1Y2Y2\n",
      "  DB url: postgres://smaug@localhost/ncaa_mbb_db\n",
      "  DB exists? True\n",
      "\n",
      "    Table, scoreboard, successfully created!\n"
     ]
    }
   ],
   "source": [
    "# boilerplate to execute call to main() function\n",
    "if __name__ == '__main__':\n",
    "    main(make_scoreboard=True, make_winloss=False, \n",
    "         make_games=False, make_gamestats=False, \n",
    "         make_test=False, \n",
    "         lastdate='20160301', year='1516')"
   ]
  },
  {
   "cell_type": "code",
   "execution_count": null,
   "metadata": {
    "collapsed": true
   },
   "outputs": [],
   "source": []
  },
  {
   "cell_type": "code",
   "execution_count": null,
   "metadata": {
    "collapsed": true
   },
   "outputs": [],
   "source": []
  },
  {
   "cell_type": "markdown",
   "metadata": {},
   "source": [
    "# Everything below this line is a stand alone bit of code\n",
    "# but should be run with caution. "
   ]
  },
  {
   "cell_type": "markdown",
   "metadata": {
    "collapsed": true
   },
   "source": [
    "'''\n",
    "credential and the three main databases info \n",
    "    2. games: \n",
    "    3. stats: database with info from all games played\n",
    "        -filled with data scrapped from games pages\n",
    "\n",
    "'''\n",
    "\n",
    "\n",
    "username = 'smaug'\n",
    "dbname = 'ncaa_mbb_db'\n",
    "\n",
    "\n",
    "boxscore_dir = 'boxscore_pages/'\n",
    "boxscore_file = 'ncaa_mbb_boxscore_DDDDDDDDD.txt'\n",
    "boxscore_table_name = 'games'\n",
    "\n",
    "stats_table_name = 'stats'\n",
    "stats_table_name2 = 'stats2'\n",
    "stats_table_name1415 = 'stats1415'\n",
    "\n",
    "teams_1415 = 'teams1415'\n",
    "\n"
   ]
  },
  {
   "cell_type": "markdown",
   "metadata": {
    "collapsed": false
   },
   "source": [
    "con = None\n",
    "con = psycopg2.connect(database=dbname, user=username)\n",
    "print '  ', con\n",
    "\n",
    "\n",
    "sql_query = \"SELECT COUNT(*) FROM %s;\" % (scoreboard_table_name)\n",
    "print sql_query\n",
    "try:\n",
    "    from_sql_query = pd.read_sql_query(sql_query, con)\n",
    "    print from_sql_query\n",
    "except:\n",
    "    print '  scoreboard_table does not exist' \n",
    "\n",
    "sql_query = \"SELECT COUNT(*) FROM %s WHERE in_hand='%s';\" % (scoreboard_table_name, 'no')\n",
    "print sql_query\n",
    "try:\n",
    "    from_sql_query = pd.read_sql_query(sql_query, con)\n",
    "    print from_sql_query\n",
    "except:\n",
    "    print '  scoreboard_table does not exist' \n",
    "\n",
    "\n",
    "\n"
   ]
  },
  {
   "cell_type": "markdown",
   "metadata": {
    "collapsed": true
   },
   "source": [
    "# For testing out the gamestats database"
   ]
  },
  {
   "cell_type": "markdown",
   "metadata": {
    "collapsed": false
   },
   "source": [
    "con = None\n",
    "con = psycopg2.connect(database=dbname, user=username)\n",
    "print '  ', con\n",
    "\n",
    "\n",
    "sql_query = \"SELECT COUNT(*) FROM %s;\" % (stats_table_name)\n",
    "print sql_query\n",
    "try:\n",
    "    from_sql_query = pd.read_sql_query(sql_query, con)\n",
    "    print from_sql_query.head(5)\n",
    "except:\n",
    "    print '  stats table, %s, does not exist' % stats_table_name\n",
    "\n",
    "\n",
    "#sql_query = \"select * from INFORMATION_SCHEMA.COLUMNS where TABLE_NAME='%s';\" % (stats_table_name)\n",
    "#sql_query = \"SELECT player, player_url, team_name, player_pos FROM %s;\" % (stats_table_name)\n",
    "sql_query = \"SELECT player, team_name, pf, pts, ftm, fta, fgm FROM %s;\" % (stats_table_name)\n",
    "try:\n",
    "    from_sql_query = pd.read_sql_query(sql_query, con)\n",
    "    print from_sql_query.head(10)\n",
    "except:\n",
    "    print '  stats table, %s, does not exist' % stats_table_name\n",
    "\n",
    "\n",
    "    \n",
    "\n",
    "sql_query = \"SELECT COUNT(*) FROM %s;\" % (stats_table_name2)\n",
    "try:\n",
    "    from_sql_query = pd.read_sql_query(sql_query, con)\n",
    "    print from_sql_query.head(5)\n",
    "except:\n",
    "    print '  stats table, %s, does not exist' % stats_table_name2\n",
    "\n",
    "\n",
    "#sql_query = \"select * from INFORMATION_SCHEMA.COLUMNS where TABLE_NAME='%s';\" % (stats_table_name)\n",
    "#sql_query = \"SELECT player, player_url, team_name, player_pos FROM %s;\" % (stats_table_name)\n",
    "sql_query = \"SELECT player, team_name, pf, pts, ftm, fta, fgm FROM %s;\" % (stats_table_name2)\n",
    "\n",
    "\n",
    "print sql_query\n",
    "try:\n",
    "    from_sql_query = pd.read_sql_query(sql_query, con)\n",
    "    print from_sql_query.head(30)\n",
    "except:\n",
    "    print '  stats table, %s, does not exist' % stats_table_name2\n",
    "\n",
    "\n",
    "\n"
   ]
  },
  {
   "cell_type": "markdown",
   "metadata": {
    "collapsed": true
   },
   "source": [
    "# For testing out the teams database(s)"
   ]
  },
  {
   "cell_type": "markdown",
   "metadata": {
    "collapsed": false
   },
   "source": [
    "con = None\n",
    "con = psycopg2.connect(database=dbname, user=username)\n",
    "print '  ', con\n",
    "\n",
    "\n",
    "sql_query = \"SELECT * FROM %s WHERE team_name = 'Texas Longhorns';\" % (teams_1415)\n",
    "print sql_query\n",
    "try:\n",
    "    from_sql_query = pd.read_sql_query(sql_query, con)\n",
    "    print from_sql_query.head(45)\n",
    "except:\n",
    "    print '  teams table, %s, does not exist' % teams_1415\n",
    "\n"
   ]
  },
  {
   "cell_type": "markdown",
   "metadata": {
    "collapsed": false
   },
   "source": [
    "con = None\n",
    "con = psycopg2.connect(database=dbname, user=username)\n",
    "print '  ', con\n",
    "\n",
    "\n",
    "sql_query = \"SELECT * FROM %s;\" % ('winloss')\n",
    "print sql_query\n",
    "try:\n",
    "    from_sql_query = pd.read_sql_query(sql_query, con)\n",
    "    print from_sql_query.head(5)\n",
    "except:\n",
    "    print '  stats table, %s, does not exist' % stats_table_name\n",
    "\n"
   ]
  },
  {
   "cell_type": "code",
   "execution_count": null,
   "metadata": {
    "collapsed": true
   },
   "outputs": [],
   "source": []
  },
  {
   "cell_type": "code",
   "execution_count": null,
   "metadata": {
    "collapsed": true
   },
   "outputs": [],
   "source": []
  }
 ],
 "metadata": {
  "kernelspec": {
   "display_name": "Python 2",
   "language": "python",
   "name": "python2"
  },
  "language_info": {
   "codemirror_mode": {
    "name": "ipython",
    "version": 2
   },
   "file_extension": ".py",
   "mimetype": "text/x-python",
   "name": "python",
   "nbconvert_exporter": "python",
   "pygments_lexer": "ipython2",
   "version": "2.7.11"
  }
 },
 "nbformat": 4,
 "nbformat_minor": 0
}
