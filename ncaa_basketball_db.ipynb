{
 "cells": [
  {
   "cell_type": "code",
   "execution_count": 1,
   "metadata": {
    "collapsed": false
   },
   "outputs": [],
   "source": [
    "#import packages\n",
    "\n",
    "import sys\n",
    "import re\n",
    "import os\n",
    "import numpy as np\n",
    "import pandas as pd\n",
    "from sqlalchemy import create_engine\n",
    "from sqlalchemy_utils import database_exists, create_database\n",
    "import psycopg2"
   ]
  },
  {
   "cell_type": "code",
   "execution_count": 2,
   "metadata": {
    "collapsed": true
   },
   "outputs": [],
   "source": [
    "'''\n",
    "credential and the three main databases info \n",
    "    1. scoreboard: database with info regarding the various ESPN scoreboard pages\n",
    "    2. games: database with info regarding all games played\n",
    "        -filled with data scraped from scoreboard pages \n",
    "    3. stats: database with info from all games played\n",
    "        -filled with data scrapped from games pages\n",
    "\n",
    "'''\n",
    "\n",
    "\n",
    "username = 'smaug'\n",
    "dbname = 'ncaa_mbb_db'\n",
    "\n",
    "scoreboard_dir = 'scoreboard_pages/'\n",
    "scoreboard_file = 'ncaa_mbb_scoreboard_full_YYYYMMDD.txt'\n",
    "scoreboard_table_name = 'scoreboard'\n",
    "scoreboard_table_range = [['20021101','20030430'], \n",
    "                            ['20031101','20040430'], \n",
    "                            ['20041101','20050430'],\n",
    "                            ['20051101','20060430'],\n",
    "                            ['20061101','20070430'],\n",
    "                            ['20071101','20080430'],\n",
    "                            ['20081101','20090430'],\n",
    "                            ['20091101','20100430'],\n",
    "                            ['20101101','20110430'],\n",
    "                            ['20111101','20120430'],\n",
    "                            ['20121101','20130430'],\n",
    "                            ['20131101','20140430'],\n",
    "                            ['20141101','20150430'],\n",
    "                            ['20151101','20160123'],\n",
    "                           ] \n",
    "\n",
    "boxscore_dir = 'boxscore_pages/'\n",
    "boxscore_file = 'ncaa_mbb_boxscore_DDDDDDDDD.txt'\n",
    "boxscore_table_name = 'games'\n",
    "\n",
    "stats_table_name = 'stats'\n",
    "stats_table_name2 = 'stats2'\n",
    "stats_table_name1415 = 'stats1415'\n",
    "\n",
    "teams_1415 = 'teams1415'\n",
    "\n"
   ]
  },
  {
   "cell_type": "code",
   "execution_count": null,
   "metadata": {
    "collapsed": true
   },
   "outputs": [],
   "source": []
  },
  {
   "cell_type": "markdown",
   "metadata": {},
   "source": [
    "# For creating the base scoreboard database"
   ]
  },
  {
   "cell_type": "code",
   "execution_count": 15,
   "metadata": {
    "collapsed": false
   },
   "outputs": [
    {
     "name": "stdout",
     "output_type": "stream",
     "text": [
      "  DB url: postgres://smaug@localhost/ncaa_mbb_db\n",
      "  DB exists? True\n",
      "            date day in_hand month  year\n",
      "2435  2016-01-19  19     yes    01  2016\n",
      "2436  2016-01-20  20     yes    01  2016\n",
      "2437  2016-01-21  21     yes    01  2016\n",
      "2438  2016-01-22  22     yes    01  2016\n",
      "2439  2016-01-23  23     yes    01  2016\n"
     ]
    }
   ],
   "source": [
    "### make base scoreboard database\n",
    "\n",
    "engine = create_engine('postgres://%s@localhost/%s'%(username, dbname))\n",
    "print '  DB url:', engine.url\n",
    "db_exist = database_exists(engine.url)\n",
    "if not db_exist:\n",
    "    create_database(engine.url)\n",
    "print '  DB exists? %s' % db_exist\n",
    "\n",
    "con = None\n",
    "con = psycopg2.connect(database=dbname, user=username)\n",
    "\n",
    "my_dates = []\n",
    "my_years = []\n",
    "my_months = []\n",
    "my_days = []\n",
    "for scoreboard in scoreboard_table_range:\n",
    "    dates_range = pd.date_range(start=scoreboard[0], end=scoreboard[1], freq='D')\n",
    "    for date_range in dates_range:\n",
    "        match = re.search('(\\d\\d\\d\\d)-(\\d\\d)-(\\d\\d)', str(date_range))\n",
    "        my_dates.append(match.group(0))\n",
    "        my_years.append(match.group(1))\n",
    "        my_months.append(match.group(2))\n",
    "        my_days.append(match.group(3))\n",
    "\n",
    "in_hand = []\n",
    "for ii in np.arange(len(my_dates)):\n",
    "    bit1 = scoreboard_file\n",
    "    bit1 = bit1.replace('YYYY', my_years[ii])\n",
    "    bit1 = bit1.replace('MM', my_months[ii])\n",
    "    bit1 = bit1.replace('DD', my_days[ii])\n",
    "    #print bit1\n",
    "\n",
    "    bit2 = scoreboard_dir  \n",
    "    if int(my_months[ii]) > 7:\n",
    "        bit2 = str(my_years[ii]) + '-' + str(int(my_years[ii])+1) + '/'\n",
    "    else:\n",
    "        bit2 = str(int(my_years[ii])-1) + '-' + str(my_years[ii]) + '/'\n",
    "    #print bit2\n",
    "   \n",
    "    line = 'ls ' + scoreboard_dir + bit2 + bit1\n",
    "    #print line\n",
    "    f = os.popen(line)\n",
    "    try:\n",
    "        f.readlines()[0]\n",
    "        in_hand.append('yes')\n",
    "    except:\n",
    "        #print f.readlines()\n",
    "        in_hand.append('no')\n",
    "\n",
    "\n",
    "scoreboard_df = pd.DataFrame({'date':my_dates, \n",
    "                              'year':my_years, \n",
    "                              'month':my_months,\n",
    "                              'day':my_days,\n",
    "                              'in_hand':in_hand,        \n",
    "                            })\n",
    "print scoreboard_df.tail(5)\n",
    "\n",
    "\n",
    "##################################################################\n",
    "###are you really sure you want to rebuild the entire scoreboard database???\n",
    "#scoreboard_df.to_sql(scoreboard_table_name, engine, if_exists='replace')\n",
    "##################################################################\n",
    "\n"
   ]
  },
  {
   "cell_type": "code",
   "execution_count": 5,
   "metadata": {
    "collapsed": false
   },
   "outputs": [
    {
     "name": "stdout",
     "output_type": "stream",
     "text": [
      "   <connection object at 0x109a29770; dsn: 'dbname=ncaa_mbb_db user=smaug', closed: 0>\n",
      "SELECT COUNT(*) FROM scoreboard;\n",
      "   count\n",
      "0   2440\n",
      "SELECT COUNT(*) FROM scoreboard WHERE in_hand='no';\n",
      "   count\n",
      "0      0\n"
     ]
    }
   ],
   "source": [
    "con = None\n",
    "con = psycopg2.connect(database=dbname, user=username)\n",
    "print '  ', con\n",
    "\n",
    "\n",
    "sql_query = \"SELECT COUNT(*) FROM %s;\" % (scoreboard_table_name)\n",
    "print sql_query\n",
    "try:\n",
    "    from_sql_query = pd.read_sql_query(sql_query, con)\n",
    "    print from_sql_query\n",
    "except:\n",
    "    print '  scoreboard_table does not exist' \n",
    "\n",
    "sql_query = \"SELECT COUNT(*) FROM %s WHERE in_hand='%s';\" % (scoreboard_table_name, 'no')\n",
    "print sql_query\n",
    "try:\n",
    "    from_sql_query = pd.read_sql_query(sql_query, con)\n",
    "    print from_sql_query\n",
    "except:\n",
    "    print '  scoreboard_table does not exist' \n",
    "\n",
    "\n",
    "\n"
   ]
  },
  {
   "cell_type": "markdown",
   "metadata": {
    "collapsed": true
   },
   "source": [
    "# For testing out the games database"
   ]
  },
  {
   "cell_type": "code",
   "execution_count": 16,
   "metadata": {
    "collapsed": false
   },
   "outputs": [
    {
     "name": "stdout",
     "output_type": "stream",
     "text": [
      "   <connection object at 0x109a29770; dsn: 'dbname=ncaa_mbb_db user=smaug', closed: 0>\n",
      "SELECT COUNT(*) FROM games;\n",
      "   count\n",
      "0  80100\n",
      "SELECT id, year FROM games WHERE in_hand='yes' AND id >320000000;\n",
      "          id  year\n",
      "0  320930096  2012\n",
      "1  320910096  2012\n",
      "2  320912305  2012\n",
      "3  320900221  2012\n",
      "4  320890024  2012\n"
     ]
    }
   ],
   "source": [
    "'''\n",
    "test out the 'games' database\n",
    "\n",
    "just two sample queries:\n",
    " 1. to find the total number in the database\n",
    " 2. to find the total number of entries in the database left to download\n",
    "'''\n",
    "\n",
    "con = None\n",
    "con = psycopg2.connect(database=dbname, user=username)\n",
    "print '  ', con\n",
    "\n",
    "\n",
    "sql_query = \"SELECT COUNT(*) FROM %s;\" % (boxscore_table_name)\n",
    "print sql_query\n",
    "try:\n",
    "    from_sql_query = pd.read_sql_query(sql_query, con)\n",
    "    print from_sql_query.head(5)\n",
    "except:\n",
    "    print '  games table, %s, does not exist' % boxscore_table_name\n",
    "\n",
    "sql_query = \"SELECT id, year FROM %s WHERE in_hand='%s' AND id >320000000;\" % (boxscore_table_name, 'yes')\n",
    "print sql_query\n",
    "try:\n",
    "    from_sql_query = pd.read_sql_query(sql_query, con)\n",
    "    print from_sql_query.head(5)\n",
    "except:\n",
    "    print '  games table, %s, does not exist' % boxscore_table_name\n",
    "\n",
    "\n",
    "\n",
    "\n"
   ]
  },
  {
   "cell_type": "code",
   "execution_count": null,
   "metadata": {
    "collapsed": true
   },
   "outputs": [],
   "source": []
  },
  {
   "cell_type": "markdown",
   "metadata": {
    "collapsed": true
   },
   "source": [
    "# For testing out the gamestats database"
   ]
  },
  {
   "cell_type": "code",
   "execution_count": 10,
   "metadata": {
    "collapsed": false
   },
   "outputs": [
    {
     "name": "stdout",
     "output_type": "stream",
     "text": [
      "   <connection object at 0x109a15b00; dsn: 'dbname=ncaa_mbb_db user=smaug', closed: 0>\n",
      "SELECT COUNT(*) FROM stats;\n",
      "    count\n",
      "0  434526\n",
      "             player         team_name pf pts ftm fta fgm\n",
      "0      Kyle Singler  Duke Blue Devils  5  15   1   4   5\n",
      "1      Lance Thomas  Duke Blue Devils  2   9   1   2   4\n",
      "2  Gerald Henderson  Duke Blue Devils  1  19  11  13   4\n",
      "3   Elliot Williams  Duke Blue Devils  3  11   0   0   5\n",
      "4       Jon Scheyer  Duke Blue Devils  1  18  10  14   3\n",
      "5       Nolan Smith  Duke Blue Devils  2   0   0   0   0\n",
      "6       Greg Paulus  Duke Blue Devils  0   0   0   0   0\n",
      "7   Martynas Pocius  Duke Blue Devils  0   0   0   0   0\n",
      "8     Miles Plumlee  Duke Blue Devils  4   4   0   0   2\n",
      "9      Brian Zoubek  Duke Blue Devils  2   0   0   0   0\n",
      "    count\n",
      "0  211106\n",
      "SELECT player, team_name, pf, pts, ftm, fta, fgm FROM stats2;\n",
      "               player               team_name pf pts ftm fta fgm\n",
      "0     D.J. Cunningham  UNC Asheville Bulldogs  5   8   0   1   4\n",
      "1          Will Weeks  UNC Asheville Bulldogs  4  19   3   5   8\n",
      "2       Andrew Rowsey  UNC Asheville Bulldogs  1  12   1   2   5\n",
      "3          Jaron Lane  UNC Asheville Bulldogs  3   5   3   7   1\n",
      "4    Corey Littlejohn  UNC Asheville Bulldogs  4   4   2   4   1\n",
      "5      Dakari Johnson                   BENCH  4   5   1   2   2\n",
      "6          Marcus Lee                   BENCH  1  17   3   7   7\n",
      "7        Derek Willis                   BENCH  0   2   2   2   0\n",
      "8      Alex Poythress                   BENCH  2  10   0   1   5\n",
      "9   Dominique Hawkins                   BENCH  0   0   0   0   0\n",
      "10           Jon Hood                   BENCH  0   0   0   0   0\n",
      "11      Jarrod Polson                   BENCH  0   0   0   0   0\n",
      "12      Adrian Fields   McNeese State Cowboys  1   6   0   0   2\n",
      "13     Craig McFerrin   McNeese State Cowboys  1   5   1   1   2\n",
      "14        Kevin Hardy   McNeese State Cowboys  0   5   1   2   2\n",
      "15    Ledrick Eackles   McNeese State Cowboys  2  11   0   0   4\n",
      "16     Keelan Garrett   McNeese State Cowboys  1   4   0   0   2\n",
      "17    Colby Wollenman                   BENCH  0   0   0   0   0\n",
      "18         Alex Gauna                   BENCH  1   4   0   0   2\n",
      "19    Trevor Bohnhoff                   BENCH  0   2   0   0   1\n",
      "20    Gavin Schilling                   BENCH  1   4   0   0   2\n",
      "21    Alvin Ellis III                   BENCH  1   6   0   0   3\n",
      "22        Dan Chapman                   BENCH  0   0   0   0   0\n",
      "23     Branden Dawson                   BENCH  0  12   0   0   6\n",
      "24       Travis Trice                   BENCH  0  11   0   0   4\n",
      "25      Keenan Wetzel                   BENCH  0   0   0   0   0\n",
      "26       Russell Byrd                   BENCH  2   0   0   0   0\n",
      "27      De'Mon Brooks       Davidson Wildcats  4  24  10  12   7\n",
      "28  Chris Czerapowicz       Davidson Wildcats  4   6   2   2   2\n",
      "29         Tom Droney       Davidson Wildcats  4  16   8   9   4\n"
     ]
    }
   ],
   "source": [
    "con = None\n",
    "con = psycopg2.connect(database=dbname, user=username)\n",
    "print '  ', con\n",
    "\n",
    "\n",
    "sql_query = \"SELECT COUNT(*) FROM %s;\" % (stats_table_name)\n",
    "print sql_query\n",
    "try:\n",
    "    from_sql_query = pd.read_sql_query(sql_query, con)\n",
    "    print from_sql_query.head(5)\n",
    "except:\n",
    "    print '  stats table, %s, does not exist' % stats_table_name\n",
    "\n",
    "\n",
    "#sql_query = \"select * from INFORMATION_SCHEMA.COLUMNS where TABLE_NAME='%s';\" % (stats_table_name)\n",
    "#sql_query = \"SELECT player, player_url, team_name, player_pos FROM %s;\" % (stats_table_name)\n",
    "sql_query = \"SELECT player, team_name, pf, pts, ftm, fta, fgm FROM %s;\" % (stats_table_name)\n",
    "try:\n",
    "    from_sql_query = pd.read_sql_query(sql_query, con)\n",
    "    print from_sql_query.head(10)\n",
    "except:\n",
    "    print '  stats table, %s, does not exist' % stats_table_name\n",
    "\n",
    "\n",
    "    \n",
    "\n",
    "sql_query = \"SELECT COUNT(*) FROM %s;\" % (stats_table_name2)\n",
    "try:\n",
    "    from_sql_query = pd.read_sql_query(sql_query, con)\n",
    "    print from_sql_query.head(5)\n",
    "except:\n",
    "    print '  stats table, %s, does not exist' % stats_table_name2\n",
    "\n",
    "\n",
    "#sql_query = \"select * from INFORMATION_SCHEMA.COLUMNS where TABLE_NAME='%s';\" % (stats_table_name)\n",
    "#sql_query = \"SELECT player, player_url, team_name, player_pos FROM %s;\" % (stats_table_name)\n",
    "sql_query = \"SELECT player, team_name, pf, pts, ftm, fta, fgm FROM %s;\" % (stats_table_name2)\n",
    "\n",
    "\n",
    "print sql_query\n",
    "try:\n",
    "    from_sql_query = pd.read_sql_query(sql_query, con)\n",
    "    print from_sql_query.head(30)\n",
    "except:\n",
    "    print '  stats table, %s, does not exist' % stats_table_name2\n",
    "\n",
    "\n",
    "\n"
   ]
  },
  {
   "cell_type": "code",
   "execution_count": null,
   "metadata": {
    "collapsed": true
   },
   "outputs": [],
   "source": []
  },
  {
   "cell_type": "markdown",
   "metadata": {
    "collapsed": true
   },
   "source": [
    "# For testing out the teams database(s)"
   ]
  },
  {
   "cell_type": "code",
   "execution_count": 3,
   "metadata": {
    "collapsed": false
   },
   "outputs": [
    {
     "name": "stdout",
     "output_type": "stream",
     "text": [
      "   <connection object at 0x109209b00; dsn: 'dbname=ncaa_mbb_db user=smaug', closed: 0>\n",
      "SELECT * FROM teams1415;\n",
      "        index                        0\n",
      "0         ast                      6.0\n",
      "1         blk                      3.0\n",
      "2        dreb                     22.0\n",
      "3         fga                     56.0\n",
      "4         fgm                     21.0\n",
      "5         fta                     24.0\n",
      "6         ftm                     15.0\n",
      "7         min                    200.0\n",
      "8        oreb                      5.0\n",
      "9          pf                     26.0\n",
      "10        pts                     64.0\n",
      "11        reb                     27.0\n",
      "12        stl                      7.0\n",
      "13         to                     15.0\n",
      "14        tpa                     21.0\n",
      "15        tpm                      7.0\n",
      "16      ftper                    0.625\n",
      "17      fgper                    0.375\n",
      "18      tpper       0.3333333333333333\n",
      "19         ha                        A\n",
      "20         wl                        l\n",
      "21    game_id                400598788\n",
      "22  team_name  AUB Montgomery Senators\n",
      "23        ast                     13.0\n",
      "24        blk                      5.0\n"
     ]
    }
   ],
   "source": [
    "con = None\n",
    "con = psycopg2.connect(database=dbname, user=username)\n",
    "print '  ', con\n",
    "\n",
    "\n",
    "sql_query = \"SELECT * FROM %s;\" % (teams_1415)\n",
    "print sql_query\n",
    "try:\n",
    "    from_sql_query = pd.read_sql_query(sql_query, con)\n",
    "    print from_sql_query.head(45)\n",
    "except:\n",
    "    print '  teams table, %s, does not exist' % teams_1415\n",
    "\n"
   ]
  },
  {
   "cell_type": "code",
   "execution_count": null,
   "metadata": {
    "collapsed": true
   },
   "outputs": [],
   "source": []
  },
  {
   "cell_type": "code",
   "execution_count": null,
   "metadata": {
    "collapsed": true
   },
   "outputs": [],
   "source": []
  }
 ],
 "metadata": {
  "kernelspec": {
   "display_name": "Python 2",
   "language": "python",
   "name": "python2"
  },
  "language_info": {
   "codemirror_mode": {
    "name": "ipython",
    "version": 2
   },
   "file_extension": ".py",
   "mimetype": "text/x-python",
   "name": "python",
   "nbconvert_exporter": "python",
   "pygments_lexer": "ipython2",
   "version": "2.7.11"
  }
 },
 "nbformat": 4,
 "nbformat_minor": 0
}
