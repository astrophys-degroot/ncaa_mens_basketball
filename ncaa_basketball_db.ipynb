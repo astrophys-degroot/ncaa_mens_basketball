{
 "cells": [
  {
   "cell_type": "markdown",
   "metadata": {},
   "source": [
    "# Notebook to make and create Postgres databases for NCAA_MBB project\n",
    "\n",
    "1. scoreboard table - table with all possible dates of men's college basketball games and whether that webpage has been obtained from ESPN\n",
    "2. winloss table - simple table to make wins (1) and losses (-1) numerical"
   ]
  },
  {
   "cell_type": "code",
   "execution_count": 1,
   "metadata": {
    "collapsed": false
   },
   "outputs": [],
   "source": [
    "#import packages\n",
    "import sys\n",
    "import re\n",
    "import os\n",
    "import numpy as np\n",
    "import pandas as pd\n",
    "from sqlalchemy import create_engine\n",
    "from sqlalchemy_utils import database_exists, create_database\n",
    "import psycopg2"
   ]
  },
  {
   "cell_type": "markdown",
   "metadata": {},
   "source": [
    "## For creating the base scoreboard database\n",
    "    * scoreboard database: info regarding the various ESPN scoreboard pages such as data and whether obtained\n",
    "\n"
   ]
  },
  {
   "cell_type": "code",
   "execution_count": 2,
   "metadata": {
    "collapsed": false
   },
   "outputs": [],
   "source": [
    "def scoreboard_table(username, dbname, engine, lastdate):\n",
    "        \n",
    "    scoreboard_table_name = 'scoreboard'\n",
    "    scoreboard_dir = 'scoreboard_pages/'\n",
    "    scoreboard_file = 'ncaa_mbb_scoreboard_full_YYYYMMDD.txt'\n",
    "    scoreboard_table_range = [['20021101','20030430'], \n",
    "                              ['20031101','20040430'], \n",
    "                              ['20041101','20050430'],\n",
    "                              ['20051101','20060430'],\n",
    "                              ['20061101','20070430'],\n",
    "                              ['20071101','20080430'],\n",
    "                              ['20081101','20090430'],\n",
    "                              ['20091101','20100430'],\n",
    "                              ['20101101','20110430'],\n",
    "                              ['20111101','20120430'],\n",
    "                              ['20121101','20130430'],\n",
    "                              ['20131101','20140430'],\n",
    "                              ['20141101','20150430'],\n",
    "                              ['20151101',lastdate],\n",
    "                               ] \n",
    "    \n",
    "    try:\n",
    "        #fire up the database engine\n",
    "        engine = create_engine('postgres://%s@localhost/%s'%(username, dbname))\n",
    "        db_exist = database_exists(engine.url)\n",
    "        if not db_exist:\n",
    "            create_database(engine.url)\n",
    "\n",
    "        #create empty arrays to fill\n",
    "        my_dates = []\n",
    "        my_years = []\n",
    "        my_months = []\n",
    "        my_days = []\n",
    "\n",
    "        #loop over the date ranges\n",
    "        for scoreboard in scoreboard_table_range:\n",
    "            dates_range = pd.date_range(start=scoreboard[0], end=scoreboard[1], freq='D')\n",
    "            for date_range in dates_range:\n",
    "                match = re.search('(\\d\\d\\d\\d)-(\\d\\d)-(\\d\\d)', str(date_range))\n",
    "                my_dates.append(match.group(0))\n",
    "                my_years.append(match.group(1))\n",
    "                my_months.append(match.group(2))\n",
    "                my_days.append(match.group(3))\n",
    "\n",
    "        #find which files have already been downloaded\n",
    "        in_hand = []\n",
    "        for ii in np.arange(len(my_dates)):\n",
    "            bit1 = scoreboard_file\n",
    "            bit1 = bit1.replace('YYYY', my_years[ii])\n",
    "            bit1 = bit1.replace('MM', my_months[ii])\n",
    "            bit1 = bit1.replace('DD', my_days[ii])\n",
    "            #print bit1\n",
    "\n",
    "            bit2 = scoreboard_dir  \n",
    "            if int(my_months[ii]) > 7:\n",
    "                bit2 = str(my_years[ii]) + '-' + str(int(my_years[ii])+1) + '/'\n",
    "            else:\n",
    "                bit2 = str(int(my_years[ii])-1) + '-' + str(my_years[ii]) + '/'\n",
    "            #print bit2\n",
    "\n",
    "            line = 'ls ' + scoreboard_dir + bit2 + bit1\n",
    "            #print line\n",
    "            f = os.popen(line)\n",
    "            try:\n",
    "                f.readlines()[0]\n",
    "                in_hand.append('yes')\n",
    "            except:\n",
    "                #print f.readlines()\n",
    "                in_hand.append('no')\n",
    "\n",
    "        #make a data frame of our info\n",
    "        scoreboard_df = pd.DataFrame({'date':my_dates, \n",
    "                                      'year':my_years, \n",
    "                                      'month':my_months,\n",
    "                                      'day':my_days,\n",
    "                                      'in_hand':in_hand,        \n",
    "                                    })\n",
    "        ##################################################################\n",
    "        ###are you really sure you want to rebuild the entire scoreboard database???\n",
    "        scoreboard_df.to_sql(scoreboard_table_name, engine, if_exists='replace')\n",
    "        ##################################################################\n",
    "        created = 1\n",
    "    except:\n",
    "        created = 0\n",
    "        \n",
    "    return created"
   ]
  },
  {
   "cell_type": "markdown",
   "metadata": {},
   "source": [
    "## For creating the winloss database"
   ]
  },
  {
   "cell_type": "code",
   "execution_count": 3,
   "metadata": {
    "collapsed": false
   },
   "outputs": [],
   "source": [
    "def winloss_table(username, dbname, engine):\n",
    "    \n",
    "    winloss_table_name = 'winloss'\n",
    "    \n",
    "    try:\n",
    "        #fire up the database engine\n",
    "        engine = create_engine('postgres://%s@localhost/%s'%(username, dbname))\n",
    "        db_exist = database_exists(engine.url)\n",
    "        if not db_exist:\n",
    "            create_database(engine.url)\n",
    "\n",
    "        #the simple table that we need to make wins, losses numerical\n",
    "        winloss_df = pd.DataFrame({'wl':['w','l'], \n",
    "                                   'wl_int':[1,-1],        \n",
    "                                  }, index=[0,1])\n",
    "        ##################################################################\n",
    "        ###are you really sure you want to rebuild the winloss numerical database???\n",
    "        winloss_df.to_sql(winloss_table_name, engine, if_exists='replace')\n",
    "        ##################################################################\n",
    "        created = 1\n",
    "    except:\n",
    "        created = 0\n",
    "        \n",
    "    return created"
   ]
  },
  {
   "cell_type": "code",
   "execution_count": 4,
   "metadata": {
    "collapsed": true
   },
   "outputs": [],
   "source": [
    "def do_make_test(username, dbname):\n",
    "\n",
    "    con = None\n",
    "    con = psycopg2.connect(database=dbname, user=username)\n",
    "\n",
    "    known_tables = ['scoreboard', 'winloss']\n",
    "    \n",
    "    for known_table in known_tables:\n",
    "        sql_query = \"SELECT COUNT(*) FROM %s;\" % (known_table)\n",
    "        try:\n",
    "            count_sql = pd.read_sql_query(sql_query, con)\n",
    "            if count_sql is not None:\n",
    "                exists = True\n",
    "        except:\n",
    "            exists = False\n",
    "        print '    Table, %s, exists: %s' % (known_table, exists)\n",
    "        \n",
    "        if exists is True:\n",
    "            print '      Total number of entries in %s: %i' % (known_table, count_sql.loc[0])\n",
    "\n",
    "            sql_query = \"SELECT * FROM %s;\" % (known_table)\n",
    "            try:\n",
    "                all_sql = pd.read_sql_query(sql_query, con)\n",
    "            except:\n",
    "                a = 1\n",
    "            print '      First 5 entries of %s: ' % (known_table)\n",
    "            print all_sql.head(5)\n",
    "\n",
    "\n",
    "        if known_table == 'scoreboard':\n",
    "            sql_query = \"SELECT * FROM %s;\" % (known_table)\n",
    "            try:\n",
    "                all_sql = pd.read_sql_query(sql_query, con)\n",
    "            except:\n",
    "                a = 1\n",
    "            print '      Last 10 entries of %s: ' % (known_table)\n",
    "            print all_sql.tail(10)\n",
    "\n",
    "        \n",
    "        print ''"
   ]
  },
  {
   "cell_type": "code",
   "execution_count": 5,
   "metadata": {
    "collapsed": true
   },
   "outputs": [],
   "source": [
    "def main(make_scoreboard=False, make_winloss=False, \n",
    "         make_test=False, \n",
    "         username=None, dbname=None, \n",
    "        lastdate=None):\n",
    "    \n",
    "    print 'Now running: ', sys.argv[0]\n",
    "    \n",
    "    #set and check the input variables\n",
    "    if username is not None:\n",
    "        username = str(username)\n",
    "    else: \n",
    "        username = 'smaug'\n",
    "    if dbname is not None:\n",
    "        dbname = str(dbname)\n",
    "    else:\n",
    "        dbname = 'ncaa_mbb_db'\n",
    "    \n",
    "    if lastdate is None:\n",
    "        lastdate = '20160204'\n",
    "    else:\n",
    "        if len(lastdate) != 8:\n",
    "            print 'Variable lastdate must be a string of form YYYYMMDD'\n",
    "        else:\n",
    "            lastdate = str(lastdate)\n",
    "    \n",
    "    #connect to Postgres\n",
    "    engine = create_engine('postgres://%s@localhost/%s'%(username, dbname))\n",
    "    print '  DB url:', engine.url\n",
    "    db_exist = database_exists(engine.url)\n",
    "    if not db_exist:\n",
    "        create_database(engine.url)\n",
    "    print '  DB exists? %s' % db_exist\n",
    "    print ''\n",
    "\n",
    "\n",
    "    #whether to work on scoreboard table\n",
    "    if make_scoreboard:\n",
    "        chk = scoreboard_table(username, dbname, engine, lastdate)\n",
    "        if chk == 1:\n",
    "            print '    Table, scoreboard, successfully created!'\n",
    "        else:\n",
    "            print '    Table, scoreboard, NOT created!'\n",
    "        \n",
    "    \n",
    "    #whether to work on winloss table\n",
    "    if make_winloss:\n",
    "        chk = winloss_table(username, dbname, engine)\n",
    "        if chk == 1:\n",
    "            print '    Table, winloss, successfully created!'\n",
    "        else:\n",
    "            print '    Table, winloss, NOT created!'\n",
    "\n",
    "\n",
    "    #whether to run the test suite\n",
    "    if make_test:\n",
    "        chk = do_make_test(username, dbname)"
   ]
  },
  {
   "cell_type": "code",
   "execution_count": 6,
   "metadata": {
    "collapsed": false
   },
   "outputs": [
    {
     "name": "stdout",
     "output_type": "stream",
     "text": [
      "Now running:  /anaconda/lib/python2.7/site-packages/ipykernel/__main__.py\n",
      "  DB url: postgres://smaug@localhost/ncaa_mbb_db\n",
      "  DB exists? True\n",
      "\n",
      "20160206\n",
      "    Table, scoreboard, successfully created!\n",
      "    Table, scoreboard, exists: True\n",
      "      Total number of entries in scoreboard: 2454\n",
      "      First 5 entries of scoreboard: \n",
      "   index        date day in_hand month  year\n",
      "0      0  2002-11-01  01     yes    11  2002\n",
      "1      1  2002-11-02  02     yes    11  2002\n",
      "2      2  2002-11-03  03     yes    11  2002\n",
      "3      3  2002-11-04  04     yes    11  2002\n",
      "4      4  2002-11-05  05     yes    11  2002\n",
      "      Last 10 entries of scoreboard: \n",
      "      index        date day in_hand month  year\n",
      "2444   2444  2016-01-28  28     yes    01  2016\n",
      "2445   2445  2016-01-29  29     yes    01  2016\n",
      "2446   2446  2016-01-30  30     yes    01  2016\n",
      "2447   2447  2016-01-31  31     yes    01  2016\n",
      "2448   2448  2016-02-01  01     yes    02  2016\n",
      "2449   2449  2016-02-02  02     yes    02  2016\n",
      "2450   2450  2016-02-03  03     yes    02  2016\n",
      "2451   2451  2016-02-04  04      no    02  2016\n",
      "2452   2452  2016-02-05  05      no    02  2016\n",
      "2453   2453  2016-02-06  06      no    02  2016\n",
      "\n",
      "    Table, winloss, exists: True\n",
      "      Total number of entries in winloss: 2\n",
      "      First 5 entries of winloss: \n",
      "   index wl  wl_int\n",
      "0      0  w       1\n",
      "1      1  l      -1\n",
      "\n"
     ]
    }
   ],
   "source": [
    "# boilerplate to execute call to main() function\n",
    "if __name__ == '__main__':\n",
    "    main(make_scoreboard=True, make_winloss=False, make_test=True, lastdate='20160206')"
   ]
  },
  {
   "cell_type": "code",
   "execution_count": null,
   "metadata": {
    "collapsed": true
   },
   "outputs": [],
   "source": []
  },
  {
   "cell_type": "code",
   "execution_count": null,
   "metadata": {
    "collapsed": true
   },
   "outputs": [],
   "source": []
  },
  {
   "cell_type": "markdown",
   "metadata": {},
   "source": [
    "# Everything below this line is a stand alone bit of code\n",
    "# but should be run with caution. "
   ]
  },
  {
   "cell_type": "markdown",
   "metadata": {
    "collapsed": true
   },
   "source": [
    "'''\n",
    "credential and the three main databases info \n",
    "    2. games: database with info regarding all games played\n",
    "        -filled with data scraped from scoreboard pages \n",
    "    3. stats: database with info from all games played\n",
    "        -filled with data scrapped from games pages\n",
    "\n",
    "'''\n",
    "\n",
    "\n",
    "username = 'smaug'\n",
    "dbname = 'ncaa_mbb_db'\n",
    "\n",
    "\n",
    "boxscore_dir = 'boxscore_pages/'\n",
    "boxscore_file = 'ncaa_mbb_boxscore_DDDDDDDDD.txt'\n",
    "boxscore_table_name = 'games'\n",
    "\n",
    "stats_table_name = 'stats'\n",
    "stats_table_name2 = 'stats2'\n",
    "stats_table_name1415 = 'stats1415'\n",
    "\n",
    "teams_1415 = 'teams1415'\n",
    "\n"
   ]
  },
  {
   "cell_type": "markdown",
   "metadata": {
    "collapsed": false
   },
   "source": [
    "con = None\n",
    "con = psycopg2.connect(database=dbname, user=username)\n",
    "print '  ', con\n",
    "\n",
    "\n",
    "sql_query = \"SELECT COUNT(*) FROM %s;\" % (scoreboard_table_name)\n",
    "print sql_query\n",
    "try:\n",
    "    from_sql_query = pd.read_sql_query(sql_query, con)\n",
    "    print from_sql_query\n",
    "except:\n",
    "    print '  scoreboard_table does not exist' \n",
    "\n",
    "sql_query = \"SELECT COUNT(*) FROM %s WHERE in_hand='%s';\" % (scoreboard_table_name, 'no')\n",
    "print sql_query\n",
    "try:\n",
    "    from_sql_query = pd.read_sql_query(sql_query, con)\n",
    "    print from_sql_query\n",
    "except:\n",
    "    print '  scoreboard_table does not exist' \n",
    "\n",
    "\n",
    "\n"
   ]
  },
  {
   "cell_type": "markdown",
   "metadata": {
    "collapsed": true
   },
   "source": [
    "# For testing out the games database"
   ]
  },
  {
   "cell_type": "markdown",
   "metadata": {
    "collapsed": false
   },
   "source": [
    "'''\n",
    "test out the 'games' database\n",
    "\n",
    "just two sample queries:\n",
    " 1. to find the total number in the database\n",
    " 2. to find the total number of entries in the database left to download\n",
    "'''\n",
    "\n",
    "con = None\n",
    "con = psycopg2.connect(database=dbname, user=username)\n",
    "print '  ', con\n",
    "\n",
    "\n",
    "sql_query = \"SELECT COUNT(*) FROM %s;\" % (boxscore_table_name)\n",
    "print sql_query\n",
    "try:\n",
    "    from_sql_query = pd.read_sql_query(sql_query, con)\n",
    "    print from_sql_query.head(5)\n",
    "except:\n",
    "    print '  games table, %s, does not exist' % boxscore_table_name\n",
    "\n",
    "sql_query = \"SELECT id, year FROM %s WHERE in_hand='%s' AND id >320000000;\" % (boxscore_table_name, 'yes')\n",
    "print sql_query\n",
    "try:\n",
    "    from_sql_query = pd.read_sql_query(sql_query, con)\n",
    "    print from_sql_query.head(5)\n",
    "except:\n",
    "    print '  games table, %s, does not exist' % boxscore_table_name\n",
    "\n",
    "\n",
    "\n",
    "\n"
   ]
  },
  {
   "cell_type": "markdown",
   "metadata": {
    "collapsed": true
   },
   "source": [
    "# For testing out the gamestats database"
   ]
  },
  {
   "cell_type": "markdown",
   "metadata": {
    "collapsed": false
   },
   "source": [
    "con = None\n",
    "con = psycopg2.connect(database=dbname, user=username)\n",
    "print '  ', con\n",
    "\n",
    "\n",
    "sql_query = \"SELECT COUNT(*) FROM %s;\" % (stats_table_name)\n",
    "print sql_query\n",
    "try:\n",
    "    from_sql_query = pd.read_sql_query(sql_query, con)\n",
    "    print from_sql_query.head(5)\n",
    "except:\n",
    "    print '  stats table, %s, does not exist' % stats_table_name\n",
    "\n",
    "\n",
    "#sql_query = \"select * from INFORMATION_SCHEMA.COLUMNS where TABLE_NAME='%s';\" % (stats_table_name)\n",
    "#sql_query = \"SELECT player, player_url, team_name, player_pos FROM %s;\" % (stats_table_name)\n",
    "sql_query = \"SELECT player, team_name, pf, pts, ftm, fta, fgm FROM %s;\" % (stats_table_name)\n",
    "try:\n",
    "    from_sql_query = pd.read_sql_query(sql_query, con)\n",
    "    print from_sql_query.head(10)\n",
    "except:\n",
    "    print '  stats table, %s, does not exist' % stats_table_name\n",
    "\n",
    "\n",
    "    \n",
    "\n",
    "sql_query = \"SELECT COUNT(*) FROM %s;\" % (stats_table_name2)\n",
    "try:\n",
    "    from_sql_query = pd.read_sql_query(sql_query, con)\n",
    "    print from_sql_query.head(5)\n",
    "except:\n",
    "    print '  stats table, %s, does not exist' % stats_table_name2\n",
    "\n",
    "\n",
    "#sql_query = \"select * from INFORMATION_SCHEMA.COLUMNS where TABLE_NAME='%s';\" % (stats_table_name)\n",
    "#sql_query = \"SELECT player, player_url, team_name, player_pos FROM %s;\" % (stats_table_name)\n",
    "sql_query = \"SELECT player, team_name, pf, pts, ftm, fta, fgm FROM %s;\" % (stats_table_name2)\n",
    "\n",
    "\n",
    "print sql_query\n",
    "try:\n",
    "    from_sql_query = pd.read_sql_query(sql_query, con)\n",
    "    print from_sql_query.head(30)\n",
    "except:\n",
    "    print '  stats table, %s, does not exist' % stats_table_name2\n",
    "\n",
    "\n",
    "\n"
   ]
  },
  {
   "cell_type": "markdown",
   "metadata": {
    "collapsed": true
   },
   "source": [
    "# For testing out the teams database(s)"
   ]
  },
  {
   "cell_type": "markdown",
   "metadata": {
    "collapsed": false
   },
   "source": [
    "con = None\n",
    "con = psycopg2.connect(database=dbname, user=username)\n",
    "print '  ', con\n",
    "\n",
    "\n",
    "sql_query = \"SELECT * FROM %s WHERE team_name = 'Texas Longhorns';\" % (teams_1415)\n",
    "print sql_query\n",
    "try:\n",
    "    from_sql_query = pd.read_sql_query(sql_query, con)\n",
    "    print from_sql_query.head(45)\n",
    "except:\n",
    "    print '  teams table, %s, does not exist' % teams_1415\n",
    "\n"
   ]
  },
  {
   "cell_type": "markdown",
   "metadata": {
    "collapsed": false
   },
   "source": [
    "con = None\n",
    "con = psycopg2.connect(database=dbname, user=username)\n",
    "print '  ', con\n",
    "\n",
    "\n",
    "sql_query = \"SELECT * FROM %s;\" % ('winloss')\n",
    "print sql_query\n",
    "try:\n",
    "    from_sql_query = pd.read_sql_query(sql_query, con)\n",
    "    print from_sql_query.head(5)\n",
    "except:\n",
    "    print '  stats table, %s, does not exist' % stats_table_name\n",
    "\n"
   ]
  },
  {
   "cell_type": "code",
   "execution_count": null,
   "metadata": {
    "collapsed": true
   },
   "outputs": [],
   "source": []
  },
  {
   "cell_type": "code",
   "execution_count": null,
   "metadata": {
    "collapsed": true
   },
   "outputs": [],
   "source": []
  }
 ],
 "metadata": {
  "kernelspec": {
   "display_name": "Python 2",
   "language": "python",
   "name": "python2"
  },
  "language_info": {
   "codemirror_mode": {
    "name": "ipython",
    "version": 2
   },
   "file_extension": ".py",
   "mimetype": "text/x-python",
   "name": "python",
   "nbconvert_exporter": "python",
   "pygments_lexer": "ipython2",
   "version": "2.7.11"
  }
 },
 "nbformat": 4,
 "nbformat_minor": 0
}
