{
 "cells": [
  {
   "cell_type": "code",
   "execution_count": 34,
   "metadata": {
    "collapsed": false
   },
   "outputs": [],
   "source": [
    "#import packages\n",
    "\n",
    "import sys\n",
    "import re\n",
    "import os\n",
    "import numpy as np\n",
    "import pandas as pd\n",
    "from sqlalchemy import create_engine\n",
    "from sqlalchemy_utils import database_exists, create_database\n",
    "import psycopg2"
   ]
  },
  {
   "cell_type": "code",
   "execution_count": 35,
   "metadata": {
    "collapsed": false
   },
   "outputs": [],
   "source": [
    "def winloss_table(username, dbname, engine):\n",
    "    \n",
    "    winloss_table_name = 'winloss'\n",
    "    \n",
    "    try:\n",
    "        #fire up the database engine\n",
    "        engine = create_engine('postgres://%s@localhost/%s'%(username, dbname))\n",
    "        db_exist = database_exists(engine.url)\n",
    "        if not db_exist:\n",
    "            create_database(engine.url)\n",
    "\n",
    "        #the simple table that we need to make wins, losses numerical\n",
    "        winloss_df = pd.DataFrame({'win':1, \n",
    "                                   'loss':-1,        \n",
    "                                  }, index=[0])\n",
    "        winloss_df.to_sql(winloss_table_name, engine, if_exists='replace')\n",
    "\n",
    "\n",
    "        created = 1\n",
    "    except:\n",
    "        created = 0\n",
    "        \n",
    "    return created"
   ]
  },
  {
   "cell_type": "code",
   "execution_count": 36,
   "metadata": {
    "collapsed": true
   },
   "outputs": [],
   "source": [
    "def do_make_test(username, dbname):\n",
    "\n",
    "    con = None\n",
    "    con = psycopg2.connect(database=dbname, user=username)\n",
    "\n",
    "    known_tables = ['winloss']\n",
    "    \n",
    "    for known_table in known_tables:\n",
    "        sql_query = \"SELECT COUNT(*) FROM %s;\" % (known_table)\n",
    "        try:\n",
    "            from_sql_query = pd.read_sql_query(sql_query, con)\n",
    "            if from_sql_query is not None:\n",
    "                exists = True\n",
    "        except:\n",
    "            exists = False\n",
    "        \n",
    "        print '    Table, %s, exists: %s' % (known_table, exists) \n",
    "\n",
    "\n",
    "        \n",
    "    '''\n",
    "    print sql_query\n",
    "\n",
    "    '''\n",
    "\n",
    "\n",
    "    "
   ]
  },
  {
   "cell_type": "code",
   "execution_count": 37,
   "metadata": {
    "collapsed": true
   },
   "outputs": [],
   "source": [
    "def main(make_winloss=False, make_test=False, username=None, dbname=None):\n",
    "    print 'Now running: ', sys.argv[0]\n",
    "    \n",
    "    \n",
    "    if username is not None:\n",
    "        username = str(username)\n",
    "    else: \n",
    "        username = 'smaug'\n",
    "    if dbname is not None:\n",
    "        dbname = str(dbname)\n",
    "    else:\n",
    "        dbname = 'ncaa_mbb_db'\n",
    "\n",
    "        \n",
    "    engine = create_engine('postgres://%s@localhost/%s'%(username, dbname))\n",
    "    print '  DB url:', engine.url\n",
    "    db_exist = database_exists(engine.url)\n",
    "    if not db_exist:\n",
    "        create_database(engine.url)\n",
    "    print '  DB exists? %s' % db_exist\n",
    "\n",
    "\n",
    "\n",
    "    if make_winloss:\n",
    "        chk = winloss_table(username, dbname, engine)\n",
    "        if chk == 1:\n",
    "            print '    Table, winloss, successfully created!'\n",
    "        else:\n",
    "            print '    Table, winloss, NOT created!'\n",
    "\n",
    "\n",
    "            \n",
    "    if make_test:\n",
    "        chk = do_make_test(username, dbname)"
   ]
  },
  {
   "cell_type": "code",
   "execution_count": 38,
   "metadata": {
    "collapsed": false
   },
   "outputs": [
    {
     "name": "stdout",
     "output_type": "stream",
     "text": [
      "Now running:  /anaconda/lib/python2.7/site-packages/ipykernel/__main__.py\n",
      "  DB url: postgres://smaug@localhost/ncaa_mbb_db\n",
      "  DB exists? True\n",
      "    Table, winloss, exists: True\n"
     ]
    }
   ],
   "source": [
    "# boilerplate to execute call to main() function\n",
    "if __name__ == '__main__':\n",
    "    main(make_winloss=False, make_test=True)"
   ]
  },
  {
   "cell_type": "code",
   "execution_count": null,
   "metadata": {
    "collapsed": true
   },
   "outputs": [],
   "source": []
  },
  {
   "cell_type": "code",
   "execution_count": null,
   "metadata": {
    "collapsed": true
   },
   "outputs": [],
   "source": []
  },
  {
   "cell_type": "markdown",
   "metadata": {},
   "source": [
    "# Everything below this line is a stand alone bit of code\n",
    "# but should be run with caution. "
   ]
  },
  {
   "cell_type": "code",
   "execution_count": 7,
   "metadata": {
    "collapsed": true
   },
   "outputs": [],
   "source": [
    "'''\n",
    "credential and the three main databases info \n",
    "    1. scoreboard: database with info regarding the various ESPN scoreboard pages\n",
    "    2. games: database with info regarding all games played\n",
    "        -filled with data scraped from scoreboard pages \n",
    "    3. stats: database with info from all games played\n",
    "        -filled with data scrapped from games pages\n",
    "\n",
    "'''\n",
    "\n",
    "\n",
    "username = 'smaug'\n",
    "dbname = 'ncaa_mbb_db'\n",
    "\n",
    "scoreboard_dir = 'scoreboard_pages/'\n",
    "scoreboard_file = 'ncaa_mbb_scoreboard_full_YYYYMMDD.txt'\n",
    "scoreboard_table_name = 'scoreboard'\n",
    "scoreboard_table_range = [['20021101','20030430'], \n",
    "                            ['20031101','20040430'], \n",
    "                            ['20041101','20050430'],\n",
    "                            ['20051101','20060430'],\n",
    "                            ['20061101','20070430'],\n",
    "                            ['20071101','20080430'],\n",
    "                            ['20081101','20090430'],\n",
    "                            ['20091101','20100430'],\n",
    "                            ['20101101','20110430'],\n",
    "                            ['20111101','20120430'],\n",
    "                            ['20121101','20130430'],\n",
    "                            ['20131101','20140430'],\n",
    "                            ['20141101','20150430'],\n",
    "                            ['20151101','20160123'],\n",
    "                           ] \n",
    "\n",
    "boxscore_dir = 'boxscore_pages/'\n",
    "boxscore_file = 'ncaa_mbb_boxscore_DDDDDDDDD.txt'\n",
    "boxscore_table_name = 'games'\n",
    "\n",
    "stats_table_name = 'stats'\n",
    "stats_table_name2 = 'stats2'\n",
    "stats_table_name1415 = 'stats1415'\n",
    "\n",
    "teams_1415 = 'teams1415'\n",
    "\n"
   ]
  },
  {
   "cell_type": "code",
   "execution_count": null,
   "metadata": {
    "collapsed": true
   },
   "outputs": [],
   "source": []
  },
  {
   "cell_type": "markdown",
   "metadata": {},
   "source": [
    "# For creating the base scoreboard database"
   ]
  },
  {
   "cell_type": "code",
   "execution_count": 15,
   "metadata": {
    "collapsed": false
   },
   "outputs": [
    {
     "name": "stdout",
     "output_type": "stream",
     "text": [
      "  DB url: postgres://smaug@localhost/ncaa_mbb_db\n",
      "  DB exists? True\n",
      "            date day in_hand month  year\n",
      "2435  2016-01-19  19     yes    01  2016\n",
      "2436  2016-01-20  20     yes    01  2016\n",
      "2437  2016-01-21  21     yes    01  2016\n",
      "2438  2016-01-22  22     yes    01  2016\n",
      "2439  2016-01-23  23     yes    01  2016\n"
     ]
    }
   ],
   "source": [
    "### make base scoreboard database\n",
    "\n",
    "engine = create_engine('postgres://%s@localhost/%s'%(username, dbname))\n",
    "print '  DB url:', engine.url\n",
    "db_exist = database_exists(engine.url)\n",
    "if not db_exist:\n",
    "    create_database(engine.url)\n",
    "print '  DB exists? %s' % db_exist\n",
    "\n",
    "con = None\n",
    "con = psycopg2.connect(database=dbname, user=username)\n",
    "\n",
    "my_dates = []\n",
    "my_years = []\n",
    "my_months = []\n",
    "my_days = []\n",
    "for scoreboard in scoreboard_table_range:\n",
    "    dates_range = pd.date_range(start=scoreboard[0], end=scoreboard[1], freq='D')\n",
    "    for date_range in dates_range:\n",
    "        match = re.search('(\\d\\d\\d\\d)-(\\d\\d)-(\\d\\d)', str(date_range))\n",
    "        my_dates.append(match.group(0))\n",
    "        my_years.append(match.group(1))\n",
    "        my_months.append(match.group(2))\n",
    "        my_days.append(match.group(3))\n",
    "\n",
    "in_hand = []\n",
    "for ii in np.arange(len(my_dates)):\n",
    "    bit1 = scoreboard_file\n",
    "    bit1 = bit1.replace('YYYY', my_years[ii])\n",
    "    bit1 = bit1.replace('MM', my_months[ii])\n",
    "    bit1 = bit1.replace('DD', my_days[ii])\n",
    "    #print bit1\n",
    "\n",
    "    bit2 = scoreboard_dir  \n",
    "    if int(my_months[ii]) > 7:\n",
    "        bit2 = str(my_years[ii]) + '-' + str(int(my_years[ii])+1) + '/'\n",
    "    else:\n",
    "        bit2 = str(int(my_years[ii])-1) + '-' + str(my_years[ii]) + '/'\n",
    "    #print bit2\n",
    "   \n",
    "    line = 'ls ' + scoreboard_dir + bit2 + bit1\n",
    "    #print line\n",
    "    f = os.popen(line)\n",
    "    try:\n",
    "        f.readlines()[0]\n",
    "        in_hand.append('yes')\n",
    "    except:\n",
    "        #print f.readlines()\n",
    "        in_hand.append('no')\n",
    "\n",
    "\n",
    "scoreboard_df = pd.DataFrame({'date':my_dates, \n",
    "                              'year':my_years, \n",
    "                              'month':my_months,\n",
    "                              'day':my_days,\n",
    "                              'in_hand':in_hand,        \n",
    "                            })\n",
    "print scoreboard_df.tail(5)\n",
    "\n",
    "\n",
    "##################################################################\n",
    "###are you really sure you want to rebuild the entire scoreboard database???\n",
    "#scoreboard_df.to_sql(scoreboard_table_name, engine, if_exists='replace')\n",
    "##################################################################\n",
    "\n"
   ]
  },
  {
   "cell_type": "code",
   "execution_count": 5,
   "metadata": {
    "collapsed": false
   },
   "outputs": [
    {
     "name": "stdout",
     "output_type": "stream",
     "text": [
      "   <connection object at 0x109a29770; dsn: 'dbname=ncaa_mbb_db user=smaug', closed: 0>\n",
      "SELECT COUNT(*) FROM scoreboard;\n",
      "   count\n",
      "0   2440\n",
      "SELECT COUNT(*) FROM scoreboard WHERE in_hand='no';\n",
      "   count\n",
      "0      0\n"
     ]
    }
   ],
   "source": [
    "con = None\n",
    "con = psycopg2.connect(database=dbname, user=username)\n",
    "print '  ', con\n",
    "\n",
    "\n",
    "sql_query = \"SELECT COUNT(*) FROM %s;\" % (scoreboard_table_name)\n",
    "print sql_query\n",
    "try:\n",
    "    from_sql_query = pd.read_sql_query(sql_query, con)\n",
    "    print from_sql_query\n",
    "except:\n",
    "    print '  scoreboard_table does not exist' \n",
    "\n",
    "sql_query = \"SELECT COUNT(*) FROM %s WHERE in_hand='%s';\" % (scoreboard_table_name, 'no')\n",
    "print sql_query\n",
    "try:\n",
    "    from_sql_query = pd.read_sql_query(sql_query, con)\n",
    "    print from_sql_query\n",
    "except:\n",
    "    print '  scoreboard_table does not exist' \n",
    "\n",
    "\n",
    "\n"
   ]
  },
  {
   "cell_type": "markdown",
   "metadata": {
    "collapsed": true
   },
   "source": [
    "# For testing out the games database"
   ]
  },
  {
   "cell_type": "code",
   "execution_count": 16,
   "metadata": {
    "collapsed": false
   },
   "outputs": [
    {
     "name": "stdout",
     "output_type": "stream",
     "text": [
      "   <connection object at 0x109a29770; dsn: 'dbname=ncaa_mbb_db user=smaug', closed: 0>\n",
      "SELECT COUNT(*) FROM games;\n",
      "   count\n",
      "0  80100\n",
      "SELECT id, year FROM games WHERE in_hand='yes' AND id >320000000;\n",
      "          id  year\n",
      "0  320930096  2012\n",
      "1  320910096  2012\n",
      "2  320912305  2012\n",
      "3  320900221  2012\n",
      "4  320890024  2012\n"
     ]
    }
   ],
   "source": [
    "'''\n",
    "test out the 'games' database\n",
    "\n",
    "just two sample queries:\n",
    " 1. to find the total number in the database\n",
    " 2. to find the total number of entries in the database left to download\n",
    "'''\n",
    "\n",
    "con = None\n",
    "con = psycopg2.connect(database=dbname, user=username)\n",
    "print '  ', con\n",
    "\n",
    "\n",
    "sql_query = \"SELECT COUNT(*) FROM %s;\" % (boxscore_table_name)\n",
    "print sql_query\n",
    "try:\n",
    "    from_sql_query = pd.read_sql_query(sql_query, con)\n",
    "    print from_sql_query.head(5)\n",
    "except:\n",
    "    print '  games table, %s, does not exist' % boxscore_table_name\n",
    "\n",
    "sql_query = \"SELECT id, year FROM %s WHERE in_hand='%s' AND id >320000000;\" % (boxscore_table_name, 'yes')\n",
    "print sql_query\n",
    "try:\n",
    "    from_sql_query = pd.read_sql_query(sql_query, con)\n",
    "    print from_sql_query.head(5)\n",
    "except:\n",
    "    print '  games table, %s, does not exist' % boxscore_table_name\n",
    "\n",
    "\n",
    "\n",
    "\n"
   ]
  },
  {
   "cell_type": "code",
   "execution_count": null,
   "metadata": {
    "collapsed": true
   },
   "outputs": [],
   "source": []
  },
  {
   "cell_type": "markdown",
   "metadata": {
    "collapsed": true
   },
   "source": [
    "# For testing out the gamestats database"
   ]
  },
  {
   "cell_type": "code",
   "execution_count": 10,
   "metadata": {
    "collapsed": false
   },
   "outputs": [
    {
     "name": "stdout",
     "output_type": "stream",
     "text": [
      "   <connection object at 0x109a15b00; dsn: 'dbname=ncaa_mbb_db user=smaug', closed: 0>\n",
      "SELECT COUNT(*) FROM stats;\n",
      "    count\n",
      "0  434526\n",
      "             player         team_name pf pts ftm fta fgm\n",
      "0      Kyle Singler  Duke Blue Devils  5  15   1   4   5\n",
      "1      Lance Thomas  Duke Blue Devils  2   9   1   2   4\n",
      "2  Gerald Henderson  Duke Blue Devils  1  19  11  13   4\n",
      "3   Elliot Williams  Duke Blue Devils  3  11   0   0   5\n",
      "4       Jon Scheyer  Duke Blue Devils  1  18  10  14   3\n",
      "5       Nolan Smith  Duke Blue Devils  2   0   0   0   0\n",
      "6       Greg Paulus  Duke Blue Devils  0   0   0   0   0\n",
      "7   Martynas Pocius  Duke Blue Devils  0   0   0   0   0\n",
      "8     Miles Plumlee  Duke Blue Devils  4   4   0   0   2\n",
      "9      Brian Zoubek  Duke Blue Devils  2   0   0   0   0\n",
      "    count\n",
      "0  211106\n",
      "SELECT player, team_name, pf, pts, ftm, fta, fgm FROM stats2;\n",
      "               player               team_name pf pts ftm fta fgm\n",
      "0     D.J. Cunningham  UNC Asheville Bulldogs  5   8   0   1   4\n",
      "1          Will Weeks  UNC Asheville Bulldogs  4  19   3   5   8\n",
      "2       Andrew Rowsey  UNC Asheville Bulldogs  1  12   1   2   5\n",
      "3          Jaron Lane  UNC Asheville Bulldogs  3   5   3   7   1\n",
      "4    Corey Littlejohn  UNC Asheville Bulldogs  4   4   2   4   1\n",
      "5      Dakari Johnson                   BENCH  4   5   1   2   2\n",
      "6          Marcus Lee                   BENCH  1  17   3   7   7\n",
      "7        Derek Willis                   BENCH  0   2   2   2   0\n",
      "8      Alex Poythress                   BENCH  2  10   0   1   5\n",
      "9   Dominique Hawkins                   BENCH  0   0   0   0   0\n",
      "10           Jon Hood                   BENCH  0   0   0   0   0\n",
      "11      Jarrod Polson                   BENCH  0   0   0   0   0\n",
      "12      Adrian Fields   McNeese State Cowboys  1   6   0   0   2\n",
      "13     Craig McFerrin   McNeese State Cowboys  1   5   1   1   2\n",
      "14        Kevin Hardy   McNeese State Cowboys  0   5   1   2   2\n",
      "15    Ledrick Eackles   McNeese State Cowboys  2  11   0   0   4\n",
      "16     Keelan Garrett   McNeese State Cowboys  1   4   0   0   2\n",
      "17    Colby Wollenman                   BENCH  0   0   0   0   0\n",
      "18         Alex Gauna                   BENCH  1   4   0   0   2\n",
      "19    Trevor Bohnhoff                   BENCH  0   2   0   0   1\n",
      "20    Gavin Schilling                   BENCH  1   4   0   0   2\n",
      "21    Alvin Ellis III                   BENCH  1   6   0   0   3\n",
      "22        Dan Chapman                   BENCH  0   0   0   0   0\n",
      "23     Branden Dawson                   BENCH  0  12   0   0   6\n",
      "24       Travis Trice                   BENCH  0  11   0   0   4\n",
      "25      Keenan Wetzel                   BENCH  0   0   0   0   0\n",
      "26       Russell Byrd                   BENCH  2   0   0   0   0\n",
      "27      De'Mon Brooks       Davidson Wildcats  4  24  10  12   7\n",
      "28  Chris Czerapowicz       Davidson Wildcats  4   6   2   2   2\n",
      "29         Tom Droney       Davidson Wildcats  4  16   8   9   4\n"
     ]
    }
   ],
   "source": [
    "con = None\n",
    "con = psycopg2.connect(database=dbname, user=username)\n",
    "print '  ', con\n",
    "\n",
    "\n",
    "sql_query = \"SELECT COUNT(*) FROM %s;\" % (stats_table_name)\n",
    "print sql_query\n",
    "try:\n",
    "    from_sql_query = pd.read_sql_query(sql_query, con)\n",
    "    print from_sql_query.head(5)\n",
    "except:\n",
    "    print '  stats table, %s, does not exist' % stats_table_name\n",
    "\n",
    "\n",
    "#sql_query = \"select * from INFORMATION_SCHEMA.COLUMNS where TABLE_NAME='%s';\" % (stats_table_name)\n",
    "#sql_query = \"SELECT player, player_url, team_name, player_pos FROM %s;\" % (stats_table_name)\n",
    "sql_query = \"SELECT player, team_name, pf, pts, ftm, fta, fgm FROM %s;\" % (stats_table_name)\n",
    "try:\n",
    "    from_sql_query = pd.read_sql_query(sql_query, con)\n",
    "    print from_sql_query.head(10)\n",
    "except:\n",
    "    print '  stats table, %s, does not exist' % stats_table_name\n",
    "\n",
    "\n",
    "    \n",
    "\n",
    "sql_query = \"SELECT COUNT(*) FROM %s;\" % (stats_table_name2)\n",
    "try:\n",
    "    from_sql_query = pd.read_sql_query(sql_query, con)\n",
    "    print from_sql_query.head(5)\n",
    "except:\n",
    "    print '  stats table, %s, does not exist' % stats_table_name2\n",
    "\n",
    "\n",
    "#sql_query = \"select * from INFORMATION_SCHEMA.COLUMNS where TABLE_NAME='%s';\" % (stats_table_name)\n",
    "#sql_query = \"SELECT player, player_url, team_name, player_pos FROM %s;\" % (stats_table_name)\n",
    "sql_query = \"SELECT player, team_name, pf, pts, ftm, fta, fgm FROM %s;\" % (stats_table_name2)\n",
    "\n",
    "\n",
    "print sql_query\n",
    "try:\n",
    "    from_sql_query = pd.read_sql_query(sql_query, con)\n",
    "    print from_sql_query.head(30)\n",
    "except:\n",
    "    print '  stats table, %s, does not exist' % stats_table_name2\n",
    "\n",
    "\n",
    "\n"
   ]
  },
  {
   "cell_type": "code",
   "execution_count": null,
   "metadata": {
    "collapsed": true
   },
   "outputs": [],
   "source": []
  },
  {
   "cell_type": "markdown",
   "metadata": {
    "collapsed": true
   },
   "source": [
    "# For testing out the teams database(s)"
   ]
  },
  {
   "cell_type": "code",
   "execution_count": 7,
   "metadata": {
    "collapsed": false
   },
   "outputs": [
    {
     "name": "stdout",
     "output_type": "stream",
     "text": [
      "   <connection object at 0x109909b00; dsn: 'dbname=ncaa_mbb_db user=smaug', closed: 0>\n",
      "SELECT * FROM teams1415 WHERE team_name = 'Texas Longhorns';\n",
      "    index  ast  blk  dreb  fga  fgm  fta  ftm  min  oreb       ...         to  \\\n",
      "0       0   16   14    29   61   23   18   12  200     8       ...          8   \n",
      "1       0   19    8    22   71   33   12   10  200    12       ...         12   \n",
      "2       0    8    9    25   56   25   17   15  225     8       ...         11   \n",
      "3       0   12   12    18   61   21   15    9  200    16       ...          8   \n",
      "4       0   13    2    27   71   29   12   10  200    12       ...         12   \n",
      "5       0   12    7    28   59   27   16   11  200    11       ...         14   \n",
      "6       0   15    7    30   49   21   37   31  200    13       ...         19   \n",
      "7       0   24    9    30   56   32   18    9  200    13       ...         12   \n",
      "8       0   10   10    35   49   19   37   30  200     8       ...         12   \n",
      "9       0   12    8    23   46   17   19   14  200     5       ...         12   \n",
      "10      0   21    7    21   70   27    3    1  200    16       ...         10   \n",
      "11      0   17    6    22   57   25   14   11  200    15       ...          8   \n",
      "12      0   24   11    35   65   35   37   24  200    18       ...          9   \n",
      "13      0   14    7    31   37   19   31   21  200     4       ...         12   \n",
      "14      0   15    6    35   42   23   10    7  200     6       ...         19   \n",
      "15      0    8    9    23   60   24   15   11  200    13       ...          9   \n",
      "16      0    7    5    29   50   17   12    8  200    10       ...         15   \n",
      "17      0    8    7    24   60   18    8    7  200     8       ...         12   \n",
      "18      0   16    8    32   56   32    9    7  200    11       ...         14   \n",
      "19      0   11   13    28   55   24   17   13  200    12       ...         13   \n",
      "20      0   11    4    21   40   21   23   16  200     4       ...         16   \n",
      "21      0   11   14    22   53   21   22   15  200    12       ...          8   \n",
      "22      0   14    8    25   53   23   13   11  200     9       ...         12   \n",
      "23      0   10   13    23   60   18   27   22  200    25       ...         13   \n",
      "24      0   13    5    21   45   20   19   11  200     7       ...          7   \n",
      "25      0   12   11    18   54   22   12    9  225    10       ...          9   \n",
      "26      0   11    7    25   37   20   28   17  200     5       ...         10   \n",
      "27      0   14    3    20   53   23   27   17  200    16       ...         16   \n",
      "28      0    7    8    23   52   20   34   25  200    13       ...         17   \n",
      "29      0    8    6    26   47   21   22   16  225     8       ...         18   \n",
      "30      0    9    3    37   62   30   21   18  200    10       ...         10   \n",
      "31      0    9    1    24   47   14   29   19  200    14       ...         21   \n",
      "32      0   15    8    27   53   28   20   16  200    11       ...         15   \n",
      "33      0   16    9    31   50   24   17   13  200     6       ...         12   \n",
      "\n",
      "    tpa  tpm     ftper     fgper     tpper  ha  wl    game_id        team_name  \n",
      "0    20    6  0.666667  0.377049  0.300000   A   l  400585860  Texas Longhorns  \n",
      "1    22   10  0.833333  0.464789  0.454545   A   l  400585812  Texas Longhorns  \n",
      "2    19    6  0.882353  0.446429  0.315789   H   l  400585765  Texas Longhorns  \n",
      "3    21    7  0.600000  0.344262  0.333333   A   l  400585790  Texas Longhorns  \n",
      "4    24    9  0.833333  0.408451  0.375000   H   l  400585849  Texas Longhorns  \n",
      "5    17    6  0.687500  0.457627  0.352941   A   w  400585688  Texas Longhorns  \n",
      "6    15    4  0.837838  0.428571  0.266667   H   w  400585800  Texas Longhorns  \n",
      "7    25   12  0.500000  0.571429  0.480000   H   w  400585678  Texas Longhorns  \n",
      "8    11    3  0.810811  0.387755  0.272727   A   w  400607995  Texas Longhorns  \n",
      "9    20    7  0.736842  0.369565  0.350000   A   w  400585711  Texas Longhorns  \n",
      "10   26    5  0.333333  0.385714  0.192308   A   l  400585820  Texas Longhorns  \n",
      "11   19    4  0.785714  0.438596  0.210526   H   w  400766884  Texas Longhorns  \n",
      "12   24   12  0.648649  0.538462  0.500000   H   w  400585747  Texas Longhorns  \n",
      "13   17    7  0.677419  0.513514  0.411765   H   w  400585836  Texas Longhorns  \n",
      "14   13    6  0.700000  0.547619  0.461538   H   w  400585740  Texas Longhorns  \n",
      "15   18    3  0.733333  0.400000  0.166667   H   l  400585808  Texas Longhorns  \n",
      "16   19    6  0.666667  0.340000  0.315789   A   l  400785346  Texas Longhorns  \n",
      "17   21    6  0.875000  0.300000  0.285714   H   l  400585784  Texas Longhorns  \n",
      "18   14    7  0.777778  0.571429  0.500000   H   w  400585703  Texas Longhorns  \n",
      "19   23    8  0.764706  0.436364  0.347826   A   l  400585844  Texas Longhorns  \n",
      "20   13    6  0.695652  0.525000  0.461538   A   l  400585853  Texas Longhorns  \n",
      "21   19    5  0.681818  0.396226  0.263158   H   w  400585869  Texas Longhorns  \n",
      "22   22   10  0.846154  0.433962  0.454545   A   l  400768441  Texas Longhorns  \n",
      "23   26    5  0.814815  0.300000  0.192308   H   w  400585716  Texas Longhorns  \n",
      "24   15    5  0.578947  0.444444  0.333333   H   w  400585840  Texas Longhorns  \n",
      "25   23    8  0.750000  0.407407  0.347826   H   w  400585861  Texas Longhorns  \n",
      "26   14    4  0.607143  0.540541  0.285714   A   w  400585831  Texas Longhorns  \n",
      "27   11    3  0.629630  0.433962  0.272727   H   w  400585769  Texas Longhorns  \n",
      "28   13    5  0.735294  0.384615  0.384615   A   w  400585778  Texas Longhorns  \n",
      "29   10    5  0.727273  0.446809  0.500000   H   l  400585824  Texas Longhorns  \n",
      "30   22    7  0.857143  0.483871  0.318182   H   w  400585674  Texas Longhorns  \n",
      "31   20    4  0.655172  0.297872  0.200000   A   l  400585723  Texas Longhorns  \n",
      "32   17    6  0.800000  0.528302  0.352941   H   w  400585757  Texas Longhorns  \n",
      "33   13    5  0.764706  0.480000  0.384615   A   w  400585802  Texas Longhorns  \n",
      "\n",
      "[34 rows x 24 columns]\n"
     ]
    }
   ],
   "source": [
    "con = None\n",
    "con = psycopg2.connect(database=dbname, user=username)\n",
    "print '  ', con\n",
    "\n",
    "\n",
    "sql_query = \"SELECT * FROM %s WHERE team_name = 'Texas Longhorns';\" % (teams_1415)\n",
    "print sql_query\n",
    "try:\n",
    "    from_sql_query = pd.read_sql_query(sql_query, con)\n",
    "    print from_sql_query.head(45)\n",
    "except:\n",
    "    print '  teams table, %s, does not exist' % teams_1415\n",
    "\n"
   ]
  },
  {
   "cell_type": "code",
   "execution_count": null,
   "metadata": {
    "collapsed": true
   },
   "outputs": [],
   "source": []
  },
  {
   "cell_type": "code",
   "execution_count": 11,
   "metadata": {
    "collapsed": false
   },
   "outputs": [
    {
     "name": "stdout",
     "output_type": "stream",
     "text": [
      "   <connection object at 0x109d6cd60; dsn: 'dbname=ncaa_mbb_db user=smaug', closed: 0>\n",
      "SELECT * FROM winloss;\n",
      "  stats table, stats, does not exist\n"
     ]
    }
   ],
   "source": [
    "con = None\n",
    "con = psycopg2.connect(database=dbname, user=username)\n",
    "print '  ', con\n",
    "\n",
    "\n",
    "sql_query = \"SELECT * FROM %s;\" % ('winloss')\n",
    "print sql_query\n",
    "try:\n",
    "    from_sql_query = pd.read_sql_query(sql_query, con)\n",
    "    print from_sql_query.head(5)\n",
    "except:\n",
    "    print '  stats table, %s, does not exist' % stats_table_name\n",
    "\n"
   ]
  },
  {
   "cell_type": "code",
   "execution_count": null,
   "metadata": {
    "collapsed": true
   },
   "outputs": [],
   "source": []
  },
  {
   "cell_type": "code",
   "execution_count": null,
   "metadata": {
    "collapsed": true
   },
   "outputs": [],
   "source": []
  }
 ],
 "metadata": {
  "kernelspec": {
   "display_name": "Python 2",
   "language": "python",
   "name": "python2"
  },
  "language_info": {
   "codemirror_mode": {
    "name": "ipython",
    "version": 2
   },
   "file_extension": ".py",
   "mimetype": "text/x-python",
   "name": "python",
   "nbconvert_exporter": "python",
   "pygments_lexer": "ipython2",
   "version": "2.7.11"
  }
 },
 "nbformat": 4,
 "nbformat_minor": 0
}
