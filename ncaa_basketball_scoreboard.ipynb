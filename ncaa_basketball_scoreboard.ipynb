{
 "cells": [
  {
   "cell_type": "markdown",
   "metadata": {},
   "source": [
    "\n",
    "# ESPN Scoreboard Class notebook\n",
    "\n",
    "## Actions\n",
    "- get which scoreboards need to be obtained\n",
    "\n",
    "\n",
    "## Notes\n",
    "  * Available games back until 2002-2003 season\n",
    "  * url format is pretty standard, is straight forward to get\n",
    "  * formatting for individual scoreboards also appears to be pretty standard\n",
    "  * queries database on files that we don't have in hand yet and loop through them to try and get\n"
   ]
  },
  {
   "cell_type": "code",
   "execution_count": 1,
   "metadata": {
    "collapsed": false
   },
   "outputs": [
    {
     "name": "stderr",
     "output_type": "stream",
     "text": [
      "//anaconda/lib/python2.7/site-packages/matplotlib/font_manager.py:273: UserWarning: Matplotlib is building the font cache using fc-list. This may take a moment.\n",
      "  warnings.warn('Matplotlib is building the font cache using fc-list. This may take a moment.')\n",
      "//anaconda/lib/python2.7/site-packages/matplotlib/__init__.py:872: UserWarning: axes.color_cycle is deprecated and replaced with axes.prop_cycle; please use the latter.\n",
      "  warnings.warn(self.msg_depr % (key, alt_key))\n"
     ]
    }
   ],
   "source": [
    "#import our libraries\n",
    "import sys\n",
    "import os\n",
    "import time\n",
    "import psycopg2\n",
    "import pandas as pd\n",
    "import numpy as np\n",
    "import urllib2\n",
    "import re\n",
    "from bs4 import BeautifulSoup\n",
    "from sqlalchemy import create_engine\n",
    "from sqlalchemy_utils import database_exists, create_database\n",
    "\n",
    "### other classes\n",
    "from ncaa_basketball_db import *\n"
   ]
  },
  {
   "cell_type": "code",
   "execution_count": 2,
   "metadata": {
    "collapsed": false
   },
   "outputs": [],
   "source": [
    "## class defintion for the NCAA basketball scoreboard object\n",
    "'''\n",
    "This class is intened to work with a ESPN scoreboard page including\n",
    "obtaining it, saving it, scraping info from it. \n",
    "'''\n",
    "\n",
    "class NcaaBballScoreboard():\n",
    "    \n",
    "    def __init__(self, baseurl=None, basedir=None, basefile=None, basealter=None):\n",
    "        if baseurl == None:\n",
    "            self.baseurl = 'http://scores.espn.go.com/mens-college-basketball/scoreboard/_/group/50/date/YYYYMMDD'\n",
    "        else:\n",
    "            self.baseurl = baseurl\n",
    "        if basedir == None:\n",
    "            self.basedir = 'scoreboard_pages/'\n",
    "        else:\n",
    "            self.basedir = basedir\n",
    "        if basefile == None:\n",
    "            self.basefile = 'ncaa_mbb_scoreboard_full_YYYYMMDD.txt'\n",
    "        else:\n",
    "            self.basefile = basefile   \n",
    "        if basealter == None:\n",
    "            self.basealter = 'YYYYMMDD'\n",
    "        else:\n",
    "            self.basealter = basealter\n",
    "\n",
    "            \n",
    "            "
   ]
  },
  {
   "cell_type": "code",
   "execution_count": 3,
   "metadata": {
    "collapsed": false
   },
   "outputs": [],
   "source": [
    "    ## the class get functions\n",
    "\n",
    "    def getBaseUrl(self):\n",
    "        '''\n",
    "        function to return the template url that needs to be slightly\n",
    "        modified by entering a data to get to the boxscore page for a\n",
    "        game.\n",
    "        '''\n",
    "        return self.baseurl\n",
    "\n",
    "    def getBaseDir(self):\n",
    "        '''\n",
    "        function to return the base directory for storing the raw\n",
    "        scoreboard pages\n",
    "        '''\n",
    "        return self.basedir\n",
    "    \n",
    "    def getBaseFile(self):\n",
    "        '''\n",
    "        function to return the template file name for the stored\n",
    "        raw scoreboard pages\n",
    "        '''\n",
    "        return self.basefile\n",
    "    \n",
    "    def getBaseAlter(self):\n",
    "        '''\n",
    "        function to return the string that needs to be altered in\n",
    "        the basenames \n",
    "        '''\n",
    "        return self.basealter"
   ]
  },
  {
   "cell_type": "code",
   "execution_count": 4,
   "metadata": {
    "collapsed": false
   },
   "outputs": [],
   "source": [
    "def yesterday_date():\n",
    "    '''\n",
    "    funtion to get yesterday's date in format YYYYMMDD\n",
    "    \n",
    "    It takes into account months with variable number of days.\n",
    "    It takes into account leap years.\n",
    "    It takes into account Jan 1st. \n",
    "    '''\n",
    "    \n",
    "    day = (time.strftime(\"%d\"))\n",
    "    #day = '01'\n",
    "    month = (time.strftime(\"%m\"))\n",
    "    #month = '03'\n",
    "    year = (time.strftime(\"%Y\"))\n",
    "    #year = '2016'\n",
    "\n",
    "    if day != '01':\n",
    "        if day <= '10':\n",
    "            day = '0' + str(int(day) - 1)\n",
    "        else:\n",
    "            day = str(int(day) - 1)\n",
    "    else:\n",
    "        if month <= '10':\n",
    "            month = '0' + str(int(month) - 1)\n",
    "        else:\n",
    "            month = str(int(month) - 1)\n",
    "        if month in ['04','06','09','11']:\n",
    "            day = '30'\n",
    "        elif month in ['02']:\n",
    "            if (int(year)-2000) % 4 == 0:\n",
    "                day = '29'\n",
    "            else:\n",
    "                day = '28'\n",
    "        else:\n",
    "            if month == '00':\n",
    "                year = str(int(year) - 1)\n",
    "                month = '12'\n",
    "            day = '31'\n",
    "\n",
    "\n",
    "    alternate = year + month + day\n",
    "\n",
    "    return alternate"
   ]
  },
  {
   "cell_type": "code",
   "execution_count": null,
   "metadata": {
    "collapsed": true
   },
   "outputs": [],
   "source": []
  },
  {
   "cell_type": "code",
   "execution_count": 5,
   "metadata": {
    "collapsed": true
   },
   "outputs": [],
   "source": [
    "### items between here and __main__() have not be brought into the class definition yet"
   ]
  },
  {
   "cell_type": "code",
   "execution_count": null,
   "metadata": {
    "collapsed": true
   },
   "outputs": [],
   "source": []
  },
  {
   "cell_type": "code",
   "execution_count": null,
   "metadata": {
    "collapsed": true
   },
   "outputs": [],
   "source": []
  },
  {
   "cell_type": "code",
   "execution_count": null,
   "metadata": {
    "collapsed": true
   },
   "outputs": [],
   "source": []
  },
  {
   "cell_type": "code",
   "execution_count": null,
   "metadata": {
    "collapsed": true
   },
   "outputs": [],
   "source": []
  },
  {
   "cell_type": "code",
   "execution_count": null,
   "metadata": {
    "collapsed": true
   },
   "outputs": [],
   "source": []
  },
  {
   "cell_type": "code",
   "execution_count": 6,
   "metadata": {
    "collapsed": false
   },
   "outputs": [],
   "source": [
    "def get_yester_pandas(pandas_date):\n",
    "    \n",
    "    year_str = str(pandas_date.year)\n",
    "\n",
    "    if pandas_date.month < 10:\n",
    "        month_str = '0' + str(pandas_date.month)\n",
    "    else:\n",
    "        month_str = str(pandas_date.month)\n",
    "\n",
    "    if pandas_date.day < 10:\n",
    "        day_str = '0' + str(pandas_date.day)\n",
    "    else:\n",
    "        day_str = str(pandas_date.day)\n",
    "\n",
    "    yester = year_str + month_str + day_str\n",
    "\n",
    "    return yester\n"
   ]
  },
  {
   "cell_type": "code",
   "execution_count": 7,
   "metadata": {
    "collapsed": false
   },
   "outputs": [],
   "source": [
    "def get_yester_url(baseurl, alter, yester):\n",
    "    '''\n",
    "    function that takes a template base url string and replaces\n",
    "    the string bit indicated by alter with the string bit \n",
    "    indicated by yester\n",
    "    '''\n",
    "    print '  Now looking for games on date %s.' % yester\n",
    "    yesterurl = baseurl.replace(alter, yester)\n",
    "\n",
    "    return yesterurl"
   ]
  },
  {
   "cell_type": "code",
   "execution_count": 8,
   "metadata": {
    "collapsed": true
   },
   "outputs": [],
   "source": [
    "def get_yester_filename(baseurl, alter, yester):\n",
    "    \n",
    "    yesterurl = baseurl.replace(alter, yester)\n",
    "\n",
    "    return yesterurl"
   ]
  },
  {
   "cell_type": "code",
   "execution_count": 9,
   "metadata": {
    "collapsed": true
   },
   "outputs": [],
   "source": [
    "def get_yester_meddir(base_dir, this_date):\n",
    "    \n",
    "    match = re.search('(\\d\\d\\d\\d)-(\\d\\d)-(\\d\\d)', str(this_date))\n",
    "    my_year = (match.group(1))\n",
    "    my_month = (match.group(2))\n",
    "    my_day = (match.group(3))\n",
    "\n",
    "    if int(my_month) > 7:\n",
    "        bit2 = str(my_year) + '-' + str(int(my_year)+1) + '/'\n",
    "    else:\n",
    "        bit2 = str(int(my_year)-1) + '-' + str(my_year) + '/'\n",
    "    bit2 = base_dir + bit2\n",
    " \n",
    "    return bit2"
   ]
  },
  {
   "cell_type": "code",
   "execution_count": 10,
   "metadata": {
    "collapsed": false
   },
   "outputs": [],
   "source": [
    "def scoreboard_db_open(dbname, username):\n",
    "    \n",
    "    print 'username:', username\n",
    "    print 'dbname:', dbname\n",
    "    con = None\n",
    "    con = psycopg2.connect(database=dbname, user=username)\n",
    "    #print '  ', con\n",
    "\n",
    "    return con"
   ]
  },
  {
   "cell_type": "code",
   "execution_count": 11,
   "metadata": {
    "collapsed": false
   },
   "outputs": [],
   "source": [
    "def scoreboard_db_query(my_con, scoreboard_table_name):\n",
    "\n",
    "    print 'table name:', scoreboard_table_name\n",
    "    sql_query = \"SELECT date FROM \" + scoreboard_table_name + \" WHERE in_hand = 'no'; \"\n",
    "    #print sql_query\n",
    "    try:\n",
    "        from_sql_query = pd.read_sql_query(sql_query, my_con)\n",
    "        #print from_sql_query\n",
    "    except:\n",
    "        print '  scoreboard_table does not exist' \n",
    "\n",
    "    return from_sql_query"
   ]
  },
  {
   "cell_type": "code",
   "execution_count": 12,
   "metadata": {
    "collapsed": true
   },
   "outputs": [],
   "source": [
    "def scoreboard_db_query_most_recent(my_con, scoreboard_table_name):\n",
    "\n",
    "    handval = 'yes'\n",
    "    sql_query = '''\n",
    "                SELECT date \n",
    "                  FROM %s \n",
    "                  WHERE in_hand = %r\n",
    "                  ORDER BY date DESC\n",
    "                  LIMIT 1; \n",
    "                ''' % (scoreboard_table_name, handval)\n",
    "    \n",
    "    #print sql_query\n",
    "    try:\n",
    "        from_sql_query = pd.read_sql_query(sql_query, my_con)\n",
    "        recent_date = from_sql_query['date'][0]\n",
    "        #print from_sql_query\n",
    "    except:\n",
    "        print '  scoreboard_table does not exist' \n",
    "\n",
    "    return recent_date"
   ]
  },
  {
   "cell_type": "code",
   "execution_count": 13,
   "metadata": {
    "collapsed": false
   },
   "outputs": [],
   "source": [
    "def get_yester_gamepage(yesterurl, my_con, udate, write=None, writedir=None):\n",
    "\n",
    "    if writedir is not None:\n",
    "        writedir = str(writedir)\n",
    "    else:\n",
    "        writedir = ''\n",
    " \n",
    "    headers = {'User-Agent':'Mozilla/5.0'}\n",
    "    req = urllib2.Request(yesterurl, None, headers)\n",
    "    try:\n",
    "        html = urllib2.urlopen(req).read()\n",
    "        soup = BeautifulSoup(html,'lxml')\n",
    "        #print '    ', soup[0:100]\n",
    "        daypage = soup.prettify(encoding='utf-8')\n",
    "        \n",
    "        try:\n",
    "            cur = my_con.cursor()\n",
    "            #print cur\n",
    "            #print udate\n",
    "            cur.execute(\"UPDATE scoreboard SET in_hand=%s WHERE date=%s\", ('yes', udate))        \n",
    "            my_con.commit()\n",
    "        except psycopg2.DatabaseError, e:\n",
    "            if my_con:\n",
    "                my_con.rollback()\n",
    "            print 'Error %s' % e    \n",
    "        find = 1\n",
    "    except:\n",
    "        find = 0\n",
    "    \n",
    "    if (write is not None) and (find == 1):\n",
    "        target = open(writedir + write, 'w')\n",
    "        target.write(daypage)\n",
    "        target.close()\n",
    "   \n",
    "    return find"
   ]
  },
  {
   "cell_type": "code",
   "execution_count": 14,
   "metadata": {
    "collapsed": false
   },
   "outputs": [],
   "source": [
    "def main(most_recent=False, \n",
    "        baseurl=None, basedir=None, basefile=None, basealter=None):\n",
    "   \n",
    "    print 'Now running: ', sys.argv[0]\n",
    "    \n",
    "    \n",
    "    myscoreboard = NcaaBballScoreboard(baseurl=baseurl, basedir=basedir, \n",
    "                                       basefile=basefile, basealter=basealter)\n",
    "    value = getBaseUrl(myscoreboard)\n",
    "    print value\n",
    "    value = getBaseDir(myscoreboard)\n",
    "    print value\n",
    "    value = getBaseFile(myscoreboard)\n",
    "    print value\n",
    "    value = getBaseAlter(myscoreboard)\n",
    "    print value\n",
    "\n",
    "    \n",
    "    ##database class instance\n",
    "    mydb = NcaaBballDb()\n",
    "    #help(mydb)\n",
    "    \n",
    "    print mydb.getUserName()\n",
    "    print mydb.getDbName()\n",
    "    print mydb.connectDb()\n",
    "    \n"
   ]
  },
  {
   "cell_type": "code",
   "execution_count": 15,
   "metadata": {
    "collapsed": false,
    "scrolled": false
   },
   "outputs": [
    {
     "name": "stdout",
     "output_type": "stream",
     "text": [
      "Now running:  /anaconda/lib/python2.7/site-packages/ipykernel/__main__.py\n",
      "http://scores.espn.go.com/mens-college-basketball/scoreboard/_/group/50/date/YYYYMMDD\n",
      "scoreboard_pages/\n",
      "ncaa_mbb_scoreboard_full_YYYYMMDD.txt\n",
      "YYYYMMDD\n",
      "smaug\n",
      "ncaa_mbb_db\n",
      "<connection object at 0x11b49a770; dsn: 'dbname=ncaa_mbb_db user=smaug', closed: 0>\n"
     ]
    }
   ],
   "source": [
    "# boilerplate to execute call to main() function\n",
    "if __name__ == '__main__':\n",
    "    main(most_recent=True)"
   ]
  },
  {
   "cell_type": "code",
   "execution_count": null,
   "metadata": {
    "collapsed": true
   },
   "outputs": [],
   "source": []
  },
  {
   "cell_type": "markdown",
   "metadata": {},
   "source": [
    "## anything below this line hasnt been incorporated into the class yet\n",
    "\n"
   ]
  },
  {
   "cell_type": "code",
   "execution_count": 16,
   "metadata": {
    "collapsed": false
   },
   "outputs": [
    {
     "name": "stdout",
     "output_type": "stream",
     "text": [
      "username: smaug\n",
      "dbname: ncaa_mbb_db\n",
      "table name: scoreboard\n"
     ]
    },
    {
     "ename": "NameError",
     "evalue": "name 'most_recent' is not defined",
     "output_type": "error",
     "traceback": [
      "\u001b[0;31m---------------------------------------------------------------------------\u001b[0m",
      "\u001b[0;31mNameError\u001b[0m                                 Traceback (most recent call last)",
      "\u001b[0;32m<ipython-input-16-dbd176b0a00f>\u001b[0m in \u001b[0;36m<module>\u001b[0;34m()\u001b[0m\n\u001b[1;32m     16\u001b[0m \u001b[0mmy_con\u001b[0m \u001b[0;34m=\u001b[0m \u001b[0mscoreboard_db_open\u001b[0m\u001b[0;34m(\u001b[0m\u001b[0mdbname\u001b[0m\u001b[0;34m,\u001b[0m \u001b[0musername\u001b[0m\u001b[0;34m)\u001b[0m\u001b[0;34m\u001b[0m\u001b[0m\n\u001b[1;32m     17\u001b[0m \u001b[0mremaining_dates\u001b[0m \u001b[0;34m=\u001b[0m \u001b[0mscoreboard_db_query\u001b[0m\u001b[0;34m(\u001b[0m\u001b[0mmy_con\u001b[0m\u001b[0;34m,\u001b[0m \u001b[0mscoreboard_table_name\u001b[0m\u001b[0;34m)\u001b[0m\u001b[0;34m\u001b[0m\u001b[0m\n\u001b[0;32m---> 18\u001b[0;31m \u001b[0;32mif\u001b[0m \u001b[0mmost_recent\u001b[0m \u001b[0;32mis\u001b[0m \u001b[0;32mnot\u001b[0m \u001b[0mFalse\u001b[0m\u001b[0;34m:\u001b[0m\u001b[0;34m\u001b[0m\u001b[0m\n\u001b[0m\u001b[1;32m     19\u001b[0m     \u001b[0mrec_date\u001b[0m \u001b[0;34m=\u001b[0m \u001b[0mscoreboard_db_query_most_recent\u001b[0m\u001b[0;34m(\u001b[0m\u001b[0mmy_con\u001b[0m\u001b[0;34m,\u001b[0m \u001b[0mscoreboard_table_name\u001b[0m\u001b[0;34m)\u001b[0m\u001b[0;34m\u001b[0m\u001b[0m\n\u001b[1;32m     20\u001b[0m     \u001b[0;32mprint\u001b[0m \u001b[0;34m'  Most recent date (YYYY-MM-DD) in %s table is %s'\u001b[0m \u001b[0;34m%\u001b[0m \u001b[0;34m(\u001b[0m\u001b[0mscoreboard_table_name\u001b[0m\u001b[0;34m,\u001b[0m \u001b[0mrec_date\u001b[0m\u001b[0;34m)\u001b[0m\u001b[0;34m\u001b[0m\u001b[0m\n",
      "\u001b[0;31mNameError\u001b[0m: name 'most_recent' is not defined"
     ]
    }
   ],
   "source": [
    "    \n",
    "   \n",
    "    ###input parameters\n",
    "    #baseurl = 'http://espn.go.com/mens-college-basketball/scoreboard/_/group/50/date/YYYYMMDD' #top 25 only\n",
    "    #baseurl = 'http://scores.espn.go.com/mens-college-basketball/scoreboard/_/group/50/date/YYYYMMDD' # all games\n",
    "    #basefile = 'ncaa_mbb_scoreboard_YYYYMMDD.txt'  #top 25 only\n",
    "    #basedir = 'scoreboard_pages/'\n",
    "    #basefile = 'ncaa_mbb_scoreboard_full_YYYYMMDD.txt' # all games\n",
    "    #alter = 'YYYYMMDD'\n",
    "\n",
    "    username = 'smaug'\n",
    "    dbname = 'ncaa_mbb_db'\n",
    "    scoreboard_table_name = 'scoreboard'\n",
    "\n",
    "    #open connection to database\n",
    "    my_con = scoreboard_db_open(dbname, username)\n",
    "    remaining_dates = scoreboard_db_query(my_con, scoreboard_table_name)\n",
    "    if most_recent is not False:\n",
    "        rec_date = scoreboard_db_query_most_recent(my_con, scoreboard_table_name)\n",
    "        print '  Most recent date (YYYY-MM-DD) in %s table is %s' % (scoreboard_table_name, rec_date)\n",
    "\n",
    "\n",
    "\n",
    "    ##try to get the remaining dates\n",
    "    print ''\n",
    "    #print remaining_dates['date']\n",
    "    remaining_dates = remaining_dates['date']\n",
    "    print '  %i dates need to be pulled.' % len(remaining_dates)\n",
    "    for remaining_date in reversed(remaining_dates):\n",
    "        this_dir = get_yester_meddir(basedir, remaining_date)\n",
    "        #print this_dir\n",
    "        yester = remaining_date.replace('-','')\n",
    "        url_yester_games = get_yester_url(baseurl, alter, yester)\n",
    "        #print '  ', url_yester_games\n",
    "        file_yester_gamepage = get_yester_filename(basefile, alter, yester)\n",
    "        #print file_yester_gamepage\n",
    "        yester_gamepage = get_yester_gamepage(url_yester_games, my_con, remaining_date, write=file_yester_gamepage, writedir=this_dir)\n",
    "        print '  Length of previous day page:', yester_gamepage\n",
    "\n",
    "\n",
    "\n",
    "        #sql_query = \"SELECT in_hand FROM %s WHERE date='%s';\" % (scoreboard_table_name, remaining_date)\n",
    "        #print sql_query\n",
    "        #from_sql_query = pd.read_sql_query(sql_query, my_con)\n",
    "        #print from_sql_query\n",
    "\n"
   ]
  },
  {
   "cell_type": "code",
   "execution_count": null,
   "metadata": {
    "collapsed": true
   },
   "outputs": [],
   "source": []
  },
  {
   "cell_type": "code",
   "execution_count": null,
   "metadata": {
    "collapsed": true
   },
   "outputs": [],
   "source": []
  },
  {
   "cell_type": "code",
   "execution_count": null,
   "metadata": {
    "collapsed": true
   },
   "outputs": [],
   "source": []
  }
 ],
 "metadata": {
  "kernelspec": {
   "display_name": "Python 2",
   "language": "python",
   "name": "python2"
  },
  "language_info": {
   "codemirror_mode": {
    "name": "ipython",
    "version": 2
   },
   "file_extension": ".py",
   "mimetype": "text/x-python",
   "name": "python",
   "nbconvert_exporter": "python",
   "pygments_lexer": "ipython2",
   "version": "2.7.11"
  }
 },
 "nbformat": 4,
 "nbformat_minor": 0
}
