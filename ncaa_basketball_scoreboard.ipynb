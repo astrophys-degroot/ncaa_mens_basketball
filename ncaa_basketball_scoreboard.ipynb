{
 "cells": [
  {
   "cell_type": "markdown",
   "metadata": {},
   "source": [
    "\n",
    "# ESPN Scoreboard Page Data Grab\n",
    "\n",
    "\n",
    "## Available games back until 2002-2003 season\n",
    "  * url format is pretty standard, is straight forward to get\n",
    "  * formatting appears to be pretty standard\n",
    "  * queries database on files that we don't have in hand yet and loop through them to try and get\n"
   ]
  },
  {
   "cell_type": "code",
   "execution_count": 1,
   "metadata": {
    "collapsed": false
   },
   "outputs": [],
   "source": [
    "#import our libraries\n",
    "import sys\n",
    "import os\n",
    "import time\n",
    "import psycopg2\n",
    "import pandas as pd\n",
    "import numpy as np\n",
    "import urllib2\n",
    "import re\n",
    "from bs4 import BeautifulSoup\n",
    "from sqlalchemy import create_engine\n",
    "from sqlalchemy_utils import database_exists, create_database\n"
   ]
  },
  {
   "cell_type": "code",
   "execution_count": 2,
   "metadata": {
    "collapsed": true
   },
   "outputs": [],
   "source": [
    "def get_yester():\n",
    "    '''\n",
    "    funtion to get yesterday's data\n",
    "    '''\n",
    "    \n",
    "    yesterday = str(int(time.strftime(\"%d\")) - 1)\n",
    "    alternate = time.strftime(\"%Y%m\") + yesterday\n",
    "\n",
    "    return alternate"
   ]
  },
  {
   "cell_type": "code",
   "execution_count": 3,
   "metadata": {
    "collapsed": false
   },
   "outputs": [],
   "source": [
    "def get_yester_pandas(pandas_date):\n",
    "    \n",
    "    year_str = str(pandas_date.year)\n",
    "\n",
    "    if pandas_date.month < 10:\n",
    "        month_str = '0' + str(pandas_date.month)\n",
    "    else:\n",
    "        month_str = str(pandas_date.month)\n",
    "\n",
    "    if pandas_date.day < 10:\n",
    "        day_str = '0' + str(pandas_date.day)\n",
    "    else:\n",
    "        day_str = str(pandas_date.day)\n",
    "\n",
    "    yester = year_str + month_str + day_str\n",
    "\n",
    "    return yester\n"
   ]
  },
  {
   "cell_type": "code",
   "execution_count": 4,
   "metadata": {
    "collapsed": false
   },
   "outputs": [],
   "source": [
    "def get_yester_url(baseurl, alter, yester):\n",
    "    '''\n",
    "    function that takes a template base url string and replaces\n",
    "    the string bit indicated by alter with the string bit \n",
    "    indicated by yester\n",
    "    '''\n",
    "    print '  Now looking for games on date %s.' % yester\n",
    "    yesterurl = baseurl.replace(alter, yester)\n",
    "\n",
    "    return yesterurl"
   ]
  },
  {
   "cell_type": "code",
   "execution_count": 5,
   "metadata": {
    "collapsed": true
   },
   "outputs": [],
   "source": [
    "def get_yester_filename(baseurl, alter, yester):\n",
    "    \n",
    "    yesterurl = baseurl.replace(alter, yester)\n",
    "\n",
    "    return yesterurl"
   ]
  },
  {
   "cell_type": "code",
   "execution_count": 6,
   "metadata": {
    "collapsed": true
   },
   "outputs": [],
   "source": [
    "def get_yester_meddir(base_dir, this_date):\n",
    "    \n",
    "    match = re.search('(\\d\\d\\d\\d)-(\\d\\d)-(\\d\\d)', str(this_date))\n",
    "    my_year = (match.group(1))\n",
    "    my_month = (match.group(2))\n",
    "    my_day = (match.group(3))\n",
    "\n",
    "    if int(my_month) > 7:\n",
    "        bit2 = str(my_year) + '-' + str(int(my_year)+1) + '/'\n",
    "    else:\n",
    "        bit2 = str(int(my_year)-1) + '-' + str(my_year) + '/'\n",
    "    bit2 = base_dir + bit2\n",
    " \n",
    "    return bit2"
   ]
  },
  {
   "cell_type": "code",
   "execution_count": 7,
   "metadata": {
    "collapsed": false
   },
   "outputs": [],
   "source": [
    "def scoreboard_db_open(dbname, username):\n",
    "    \n",
    "    print 'username:', username\n",
    "    print 'dbname:', dbname\n",
    "    con = None\n",
    "    con = psycopg2.connect(database=dbname, user=username)\n",
    "    #print '  ', con\n",
    "\n",
    "    return con"
   ]
  },
  {
   "cell_type": "code",
   "execution_count": 8,
   "metadata": {
    "collapsed": false
   },
   "outputs": [],
   "source": [
    "def scoreboard_db_query(my_con, scoreboard_table_name):\n",
    "\n",
    "    print 'table name:', scoreboard_table_name\n",
    "    sql_query = \"SELECT date FROM \" + scoreboard_table_name + \" WHERE in_hand = 'no'; \"\n",
    "    #print sql_query\n",
    "    try:\n",
    "        from_sql_query = pd.read_sql_query(sql_query, my_con)\n",
    "        #print from_sql_query\n",
    "    except:\n",
    "        print '  scoreboard_table does not exist' \n",
    "\n",
    "    return from_sql_query"
   ]
  },
  {
   "cell_type": "code",
   "execution_count": 9,
   "metadata": {
    "collapsed": false
   },
   "outputs": [],
   "source": [
    "def get_yester_gamepage(yesterurl, my_con, udate, write=None, writedir=None):\n",
    "\n",
    "    if writedir is not None:\n",
    "        writedir = str(writedir)\n",
    "    else:\n",
    "        writedir = ''\n",
    " \n",
    "    headers = {'User-Agent':'Mozilla/5.0'}\n",
    "    req = urllib2.Request(yesterurl, None, headers)\n",
    "    try:\n",
    "        html = urllib2.urlopen(req).read()\n",
    "        soup = BeautifulSoup(html,'lxml')\n",
    "        #print '    ', soup[0:100]\n",
    "        daypage = soup.prettify(encoding='utf-8')\n",
    "        \n",
    "        try:\n",
    "            cur = my_con.cursor()\n",
    "            #print cur\n",
    "            #print udate\n",
    "            cur.execute(\"UPDATE scoreboard SET in_hand=%s WHERE date=%s\", ('yes', udate))        \n",
    "            my_con.commit()\n",
    "        except psycopg2.DatabaseError, e:\n",
    "            if my_con:\n",
    "                my_con.rollback()\n",
    "            print 'Error %s' % e    \n",
    "        find = 1\n",
    "    except:\n",
    "        find = 0\n",
    "    \n",
    "    if (write is not None) and (find == 1):\n",
    "        target = open(writedir + write, 'w')\n",
    "        target.write(daypage)\n",
    "        target.close()\n",
    "   \n",
    "    return find"
   ]
  },
  {
   "cell_type": "code",
   "execution_count": 10,
   "metadata": {
    "collapsed": false
   },
   "outputs": [],
   "source": [
    "def main():\n",
    "   \n",
    "    print 'Now running: ', sys.argv[0]\n",
    "   \n",
    "    ###input parameters\n",
    "    #baseurl = 'http://espn.go.com/mens-college-basketball/scoreboard/_/group/50/date/YYYYMMDD' #top 25 only\n",
    "    baseurl = 'http://scores.espn.go.com/mens-college-basketball/scoreboard/_/group/50/date/YYYYMMDD' # all games\n",
    "    #basefile = 'ncaa_mbb_scoreboard_YYYYMMDD.txt'  #top 25 only\n",
    "    basedir = 'scoreboard_pages/'\n",
    "    basefile = 'ncaa_mbb_scoreboard_full_YYYYMMDD.txt' # all games\n",
    "    alter = 'YYYYMMDD'\n",
    "\n",
    "    username = 'smaug'\n",
    "    dbname = 'ncaa_mbb_db'\n",
    "    scoreboard_table_name = 'scoreboard'\n",
    "\n",
    "    #open connection to database\n",
    "    my_con = scoreboard_db_open(dbname, username)\n",
    "    remaining_dates = scoreboard_db_query(my_con, scoreboard_table_name)\n",
    "    #print remaining_dates['date']\n",
    "\n",
    "    #try to get the remaining dates\n",
    "    print ''\n",
    "    remaining_dates = remaining_dates['date']\n",
    "    print len(remaining_dates)\n",
    "    for remaining_date in reversed(remaining_dates):\n",
    "        this_dir = get_yester_meddir(basedir, remaining_date)\n",
    "        #print this_dir\n",
    "        yester = remaining_date.replace('-','')\n",
    "        url_yester_games = get_yester_url(baseurl, alter, yester)\n",
    "        #print '  ', url_yester_games\n",
    "        file_yester_gamepage = get_yester_filename(basefile, alter, yester)\n",
    "        #print file_yester_gamepage\n",
    "        yester_gamepage = get_yester_gamepage(url_yester_games, my_con, remaining_date, write=file_yester_gamepage, writedir=this_dir)\n",
    "        print '  Length of previous day page:', yester_gamepage\n",
    "\n",
    "\n",
    "\n",
    "        #sql_query = \"SELECT in_hand FROM %s WHERE date='%s';\" % (scoreboard_table_name, remaining_date)\n",
    "        #print sql_query\n",
    "        #from_sql_query = pd.read_sql_query(sql_query, my_con)\n",
    "        #print from_sql_query\n"
   ]
  },
  {
   "cell_type": "code",
   "execution_count": 11,
   "metadata": {
    "collapsed": false,
    "scrolled": false
   },
   "outputs": [
    {
     "name": "stdout",
     "output_type": "stream",
     "text": [
      "Now running:  /anaconda/lib/python2.7/site-packages/ipykernel/__main__.py\n",
      "username: smaug\n",
      "dbname: ncaa_mbb_db\n",
      "table name: scoreboard\n",
      "\n",
      "3\n",
      "  Now looking for games on date 20160206.\n",
      "  Length of previous day page: 1\n",
      "  Now looking for games on date 20160205.\n",
      "  Length of previous day page: 1\n",
      "  Now looking for games on date 20160204.\n",
      "  Length of previous day page: 1\n"
     ]
    }
   ],
   "source": [
    "# boilerplate to execute call to main() function\n",
    "if __name__ == '__main__':\n",
    "    main()"
   ]
  },
  {
   "cell_type": "code",
   "execution_count": null,
   "metadata": {
    "collapsed": true
   },
   "outputs": [],
   "source": []
  }
 ],
 "metadata": {
  "kernelspec": {
   "display_name": "Python 2",
   "language": "python",
   "name": "python2"
  },
  "language_info": {
   "codemirror_mode": {
    "name": "ipython",
    "version": 2
   },
   "file_extension": ".py",
   "mimetype": "text/x-python",
   "name": "python",
   "nbconvert_exporter": "python",
   "pygments_lexer": "ipython2",
   "version": "2.7.11"
  }
 },
 "nbformat": 4,
 "nbformat_minor": 0
}
