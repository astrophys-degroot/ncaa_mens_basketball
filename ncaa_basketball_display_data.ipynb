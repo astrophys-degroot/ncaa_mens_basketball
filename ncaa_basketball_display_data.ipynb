{
 "cells": [
  {
   "cell_type": "code",
   "execution_count": 335,
   "metadata": {
    "collapsed": false
   },
   "outputs": [],
   "source": [
    "import sys\n",
    "import psycopg2\n",
    "\n",
    "import seaborn as sns\n",
    "import pandas as pd\n",
    "import numpy as np\n",
    "import matplotlib.pyplot as plt\n",
    "import matplotlib.mlab as mlab\n",
    "\n",
    "\n",
    "from sqlalchemy import create_engine\n",
    "from sqlalchemy_utils import database_exists, create_database\n"
   ]
  },
  {
   "cell_type": "code",
   "execution_count": 336,
   "metadata": {
    "collapsed": false
   },
   "outputs": [],
   "source": [
    "def do_feature_eng(in_dataframe):\n",
    "    print '  Now engineering features!'\n",
    "\n",
    "    #now lets engineer some features\n",
    "    out_dataframe = in_dataframe\n",
    "    try:\n",
    "        out_dataframe = out_dataframe.drop(['player','player_url','team_name', \n",
    "                                      'index', 'game_id'], 1)\n",
    "    except:\n",
    "        out_dataframe = out_dataframe\n",
    "        \n",
    "    try:\n",
    "        out_dataframe = out_dataframe.drop(['player_pos', 'ha', 'wl'], 1)\n",
    "    except:\n",
    "        out_dataframe = out_dataframe\n",
    "    \n",
    "    try:\n",
    "        pts = out_dataframe['pts'].astype('float')\n",
    "        mins = out_dataframe['min'].astype('float')\n",
    "        ppm = [pts[ii]/mins[ii] for ii in np.arange(len(pts))] \n",
    "        out_dataframe['ppm'] = ppm\n",
    "        out_dataframe.fillna(0)\n",
    "    except:\n",
    "        out_dataframe = out_dataframe\n",
    "    \n",
    "    try:\n",
    "        tpm = out_dataframe['tpm'].astype('float')\n",
    "        tpa = out_dataframe['tpa'].astype('float')\n",
    "        tper = [tpm[ii]/tpa[ii] for ii in np.arange(len(tpm))] \n",
    "        out_dataframe['tper'] = tper\n",
    "        out_dataframe.fillna(0)\n",
    "    except:\n",
    "        out_dataframe = out_dataframe\n",
    "    \n",
    "    try:\n",
    "        ftm = out_dataframe['ftm'].astype('float')\n",
    "        fta = out_dataframe['fta'].astype('float')\n",
    "        ftper = [ftm[ii]/fta[ii] for ii in np.arange(len(ftm))] \n",
    "        out_dataframe['ftper'] = ftper\n",
    "        out_dataframe.fillna(0)\n",
    "    except:\n",
    "        out_dataframe = out_dataframe\n",
    "\n",
    "    try:\n",
    "        fgm = out_dataframe['fgm'].astype('float')\n",
    "        fga = out_dataframe['fga'].astype('float')\n",
    "        fgper = [fgm[ii]/fga[ii] for ii in np.arange(len(fgm))] \n",
    "        out_dataframe['fgper'] = fgper\n",
    "        out_dataframe.fillna(0)\n",
    "    except:\n",
    "        out_dataframe = out_dataframe\n",
    "\n",
    "    try:\n",
    "        out_dataframe = out_dataframe.astype(float)\n",
    "    except:\n",
    "        print 'WARNING!! Could not generate a numeric data frame!!'\n",
    "        sys.exit(0)\n",
    "    \n",
    "    \n",
    "    return out_dataframe"
   ]
  },
  {
   "cell_type": "code",
   "execution_count": 337,
   "metadata": {
    "collapsed": true
   },
   "outputs": [],
   "source": [
    "def make_heatmap(dataframe):\n",
    "    print '  Now making correlation heatmap'\n",
    "    sns.set(context=\"paper\", font=\"monospace\")\n",
    "    \n",
    "    \n",
    "    #print dataframe\n",
    "    #print ''\n",
    "    corr_matrix = dataframe.corr()\n",
    "    #print '  Correlation matrix'\n",
    "    #print '  ', corr_matrix\n",
    "\n",
    "    f, ax = plt.subplots(figsize=(12, 9))\n",
    "    sns.heatmap(corr_matrix, vmax=.8, square=True)\n",
    "    plt.title('Covariance Heatmap', fontsize=24)\n",
    "    plt.xlabel('Variable 1', fontsize=18)\n",
    "    plt.ylabel('Variable 2', fontsize=18)\n",
    "\n",
    "\n",
    "    plt.show()"
   ]
  },
  {
   "cell_type": "code",
   "execution_count": 338,
   "metadata": {
    "collapsed": false
   },
   "outputs": [],
   "source": [
    "def load_data_db(sql_query):\n",
    "    \n",
    "    dbname = 'ncaa_mbb_db'\n",
    "    username = 'smaug'\n",
    "    #print '    database we are connecting to:', dbname\n",
    "    #engine = create_engine('postgres://%s@localhost/%s'%(username,dbname))\n",
    "    #print '    DB server:', engine.url\n",
    "\n",
    "    con = None\n",
    "    con = psycopg2.connect(database=dbname, user=username)\n",
    "    \n",
    "    #sql_query = \"\"\"\n",
    "    #SELECT COUNT(*) FROM games_table;\n",
    "    #\"\"\"\n",
    "    print sql_query\n",
    "    mbb_from_sql = pd.read_sql_query(sql_query, con)\n",
    "    print mbb_from_sql\n",
    "\n"
   ]
  },
  {
   "cell_type": "code",
   "execution_count": 339,
   "metadata": {
    "collapsed": true
   },
   "outputs": [],
   "source": [
    "def scatter_pts_vs_min(pts, min):\n",
    "    print 'now here'\n",
    "    \n",
    "    xs1 = mydata['MIN']\n",
    "    ys1 = mydata['PTS']\n",
    "    xs2 = mydata2['MIN']\n",
    "    ys2 = mydata2['PTS']\n",
    "    \n",
    "    #print mydata.keys()\n",
    "    #mydata.plot(kind='scatter', x=xs, y='PTS')\n",
    "    #mydata2.plot(kind='scatter', x=ys, y='PTS')\n",
    "\n",
    "    \n",
    "    plt.plot(xs1, ys1, 'ro', label='team1')\n",
    "    plt.plot(xs2, ys2, 'bo', label='team2')\n",
    "    plt.xlabel('Minutes Played')\n",
    "    plt.ylabel('Points Scored')\n",
    "    plt.title('Player Efficiency')\n",
    "    plt.legend(loc=2)\n",
    "\n",
    "\n",
    "    plt.show()"
   ]
  },
  {
   "cell_type": "code",
   "execution_count": 340,
   "metadata": {
    "collapsed": false
   },
   "outputs": [],
   "source": [
    "def main(feature_eng=True, heatmap=False, histograms=False):\n",
    "    print 'Now running: ', sys.argv[0]\n",
    "    \n",
    "    args = sys.argv[1:]\n",
    "    \n",
    "    #connect to Postgres\n",
    "    username = 'smaug'\n",
    "    dbname = 'ncaa_mbb_db'\n",
    "    con = None\n",
    "    con = psycopg2.connect(database=dbname, user=username)\n",
    "    \n",
    "    sql_query = 'SELECT * FROM stats1415'\n",
    "    #sql_query = 'SELECT * FROM stats1314'\n",
    "    \n",
    "    my_df = pd.read_sql(sql_query, con)\n",
    "    #print my_df.head(25)\n",
    "    \n",
    "    if feature_eng is not False:\n",
    "        numeric_df = do_feature_eng(my_df)\n",
    "        numeric_df.fillna(0)\n",
    "    else:\n",
    "        numeric_df = my_df\n",
    "\n",
    "    \n",
    "\n",
    "\n",
    "    \n",
    "    if heatmap is not False:\n",
    "        worked = make_heatmap(numeric_df)\n",
    "\n",
    "        \n",
    "    if histograms is not False:\n",
    "        mins = numeric_df['pts'].astype('float')\n",
    "\n",
    "        mins_nonull = mins.notnull()\n",
    "        #help(plt.hist)\n",
    "        #sys.exit(0)\n",
    "        num_bins = np.arange(55)+1\n",
    "        # the histogram of the data\n",
    "        #n, bins, patches = plt.hist(mins, num_bins, normed=1, facecolor='green', alpha=0.5)\n",
    "        n, bins, patches = plt.hist(mins[mins_nonull], num_bins, \n",
    "                                    normed=1, facecolor='green', alpha=0.5)\n",
    "\n",
    "        # add a 'best fit' line\n",
    "        #y = mlab.normpdf(bins, mu, sigma)\n",
    "        #plt.plot(bins, y, 'r--')\n",
    "        plt.xlabel('Smarts')\n",
    "        plt.ylabel('Probability')\n",
    "        plt.title(r'Histogram of IQ: $\\mu=100$, $\\sigma=15$')\n",
    "\n",
    "        # Tweak spacing to prevent clipping of ylabel\n",
    "        #plt.subplots_adjust(left=0.15)\n",
    "        plt.show(block=False)\n"
   ]
  },
  {
   "cell_type": "code",
   "execution_count": 341,
   "metadata": {
    "collapsed": false,
    "scrolled": false
   },
   "outputs": [
    {
     "name": "stdout",
     "output_type": "stream",
     "text": [
      "Now running:  /anaconda/lib/python2.7/site-packages/ipykernel/__main__.py\n",
      "  Now engineering features!\n"
     ]
    }
   ],
   "source": [
    "# boilerplate to execute call to main() function\n",
    "if __name__ == '__main__':\n",
    "    main(feature_eng=True, heatmap=False, histograms=True)"
   ]
  },
  {
   "cell_type": "code",
   "execution_count": null,
   "metadata": {
    "collapsed": true
   },
   "outputs": [],
   "source": []
  },
  {
   "cell_type": "code",
   "execution_count": null,
   "metadata": {
    "collapsed": true
   },
   "outputs": [],
   "source": []
  },
  {
   "cell_type": "code",
   "execution_count": null,
   "metadata": {
    "collapsed": true
   },
   "outputs": [],
   "source": []
  }
 ],
 "metadata": {
  "kernelspec": {
   "display_name": "Python 2",
   "language": "python",
   "name": "python2"
  },
  "language_info": {
   "codemirror_mode": {
    "name": "ipython",
    "version": 2
   },
   "file_extension": ".py",
   "mimetype": "text/x-python",
   "name": "python",
   "nbconvert_exporter": "python",
   "pygments_lexer": "ipython2",
   "version": "2.7.11"
  }
 },
 "nbformat": 4,
 "nbformat_minor": 0
}
