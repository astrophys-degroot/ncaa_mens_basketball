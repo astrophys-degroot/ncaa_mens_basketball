{
 "cells": [
  {
   "cell_type": "code",
   "execution_count": 1,
   "metadata": {
    "collapsed": true
   },
   "outputs": [],
   "source": [
    "import numpy as np\n",
    "import pandas as pd\n",
    "\n",
    "import sys\n",
    "import os\n",
    "import time\n",
    "import re\n",
    "import urllib2\n",
    "import psycopg2\n",
    "\n",
    "from bs4 import BeautifulSoup\n",
    "from sqlalchemy import create_engine\n",
    "from sqlalchemy_utils import database_exists, create_database\n",
    "\n"
   ]
  },
  {
   "cell_type": "code",
   "execution_count": 2,
   "metadata": {
    "collapsed": true
   },
   "outputs": [],
   "source": [
    "def get_med_dir(year, month):\n",
    "    \n",
    "    if int(month) > 7:\n",
    "        med_dir = str(year) + '-' + str(int(year)+1) + '/'\n",
    "    else:\n",
    "        med_dir = str(int(year)-1) + '-' + str(year) + '/'\n",
    "\n",
    "    return med_dir"
   ]
  },
  {
   "cell_type": "code",
   "execution_count": 3,
   "metadata": {
    "collapsed": false
   },
   "outputs": [],
   "source": [
    "def start_games_db(dbname, username):\n",
    "    print '  Firing up the data base.'\n",
    "    \n",
    "    engine = create_engine('postgres://%s@localhost/%s'%(username,dbname))\n",
    "    print '    DB url:', engine.url\n",
    "    db_exist = database_exists(engine.url)\n",
    "    if not db_exist:\n",
    "        create_database(engine.url)\n",
    "    print '    DB exists? %s' % db_exist\n",
    "    \n",
    "    out_dict = {'dbname':dbname, 'username':username, \n",
    "                'exists':db_exist, 'engine_url':engine.url, 'engine':engine}\n",
    "    \n",
    "    return out_dict"
   ]
  },
  {
   "cell_type": "code",
   "execution_count": 4,
   "metadata": {
    "collapsed": true
   },
   "outputs": [],
   "source": [
    "def make_games_db(reset, dataframe, db_connect, boxscore_dict):\n",
    "    \n",
    "    #print reset\n",
    "    #print dataframe\n",
    "    #print db_connect\n",
    "    #print boxscore_dict\n",
    "    \n",
    "    if reset == 1:\n",
    "        my_if_exists = 'replace'\n",
    "    else:\n",
    "        my_if_exists = 'append'\n",
    "    #print my_if_exists\n",
    "    \n",
    "    #print db_connect['engine']\n",
    "    dataframe.to_sql(boxscore_dict['table'], db_connect['engine'], if_exists=my_if_exists)\n",
    "\n",
    "\n",
    "    #sys.exit(0) \n",
    "    reset = 0 #now it will append instead of replacing\n",
    "    return reset"
   ]
  },
  {
   "cell_type": "code",
   "execution_count": 5,
   "metadata": {
    "collapsed": true
   },
   "outputs": [],
   "source": [
    "def read_scoreboard(dir_file):\n",
    "    \n",
    "    target = open(dir_file, 'r')\n",
    "    file_text = target.read()\n",
    "    target.close()\n",
    "    \n",
    "    return file_text"
   ]
  },
  {
   "cell_type": "code",
   "execution_count": 6,
   "metadata": {
    "collapsed": true
   },
   "outputs": [],
   "source": [
    "def get_games_link(xscore_board):\n",
    "    \n",
    "    espn_links = []\n",
    "    soup = BeautifulSoup(xscore_board, 'lxml')\n",
    "    #finds = soup.find_all('a')\n",
    "\n",
    "    finds = soup.find_all('script')\n",
    "    for find in finds:\n",
    "        try:\n",
    "            text = find.get_text()\n",
    "            match = re.search('window.espn.scoreboardData.*', text)\n",
    "            if match is not None:\n",
    "                found_it = match.group(0)\n",
    "        except:\n",
    "            a = 1\n",
    "            \n",
    "    #print found_it\n",
    "    matches = re.findall('(http://espn.*?.com/.*?college.*?/.*?)\\\"\\,', found_it)\n",
    "    for match in matches:\n",
    "        next_match = re.search('boxscore', match)\n",
    "        if next_match is not None:\n",
    "            espn_links.append(match)\n",
    "            \n",
    "    return espn_links"
   ]
  },
  {
   "cell_type": "code",
   "execution_count": 7,
   "metadata": {
    "collapsed": true
   },
   "outputs": [],
   "source": [
    "def games_db_query(my_con, scoreboard_table_name):\n",
    "    print '    Now we query the table...'\n",
    "    "
   ]
  },
  {
   "cell_type": "code",
   "execution_count": 8,
   "metadata": {
    "collapsed": false
   },
   "outputs": [],
   "source": [
    "def get_games_pages(xgames_link, my_con, xfile, xid, \n",
    "                    write=False, \n",
    "                    writedir=None, meddir=None):\n",
    "#def get_yester_gamepage(yesterurl, my_con, udate, write=None, writedir=None):\n",
    "\n",
    "\n",
    "    if writedir == None:\n",
    "        writedir = 'boxscore_pages/'\n",
    "    else:\n",
    "        writedir = str(writedir)\n",
    "\n",
    "    if meddir == None:\n",
    "        meddir = ''\n",
    "    else:\n",
    "        meddir = str(meddir)\n",
    "    \n",
    "    \n",
    "    headers = {'User-Agent':'Mozilla/5.0'}\n",
    "    req = urllib2.Request(xgames_link, None, headers)\n",
    "    #time.sleep(0.29)\n",
    "    try:\n",
    "        html = urllib2.urlopen(req).read()  #request the page\n",
    "        soup = BeautifulSoup(html,'lxml')\n",
    "        score_page = soup.prettify(encoding='utf-8')\n",
    "\n",
    "        try:\n",
    "            cur = my_con.cursor()\n",
    "            cur.execute(\"UPDATE games SET in_hand=%s WHERE id=%s\", ('yes', xid))  \n",
    "            my_con.commit()\n",
    "        except psycopg2.DatabaseError, e:\n",
    "            if my_con:\n",
    "                my_con.rollback()\n",
    "            print 'Error %s' % e    \n",
    "        find = 1\n",
    "    except:\n",
    "        find = 0\n",
    "\n",
    "    if (write is True) and (find == 1):\n",
    "        file_name = writedir + meddir + 'ncaa_mbb_boxscore_' + str(xid) + '.txt'\n",
    "        #print file_name\n",
    "        target = open(file_name, 'w')\n",
    "        target.write(score_page)  #save to file\n",
    "        target.close\n",
    "        \n",
    "    return find"
   ]
  },
  {
   "cell_type": "code",
   "execution_count": 9,
   "metadata": {
    "collapsed": true
   },
   "outputs": [],
   "source": [
    "def create_snippet(file_in, file_out):\n",
    "    print 'File in:', file_in\n",
    "    print 'File out:', file_out\n",
    "    \n",
    "    #read in entire web page\n",
    "    target = open(file_in, 'r')\n",
    "    text = target.read()\n",
    "    target.close()\n",
    "    \n",
    "    #apply BS\n",
    "    soup = BeautifulSoup(text, 'lxml')\n",
    "    box_score = soup.div(id='my-players-table')\n",
    "\n",
    "    #read the file back in\n",
    "    target = open(file_out, 'w')\n",
    "    text = target.write(str(box_score))\n",
    "    target.close()\n",
    "    \n",
    "    #reapply BS - makes the structure a bit more managable \n",
    "    #  and hopefully consistent :|\n",
    "    target = open(file_out, 'r')\n",
    "    text = target.read()\n",
    "    target.close()\n",
    "    soup = BeautifulSoup(text, 'lxml')\n",
    "    \n",
    "    #resave file with better structure\n",
    "    target = open(file_out, 'w')\n",
    "    text = target.write(str(soup.prettify()))\n",
    "    target.close()\n",
    "\n",
    "\n"
   ]
  },
  {
   "cell_type": "code",
   "execution_count": null,
   "metadata": {
    "collapsed": true
   },
   "outputs": [],
   "source": []
  },
  {
   "cell_type": "code",
   "execution_count": 10,
   "metadata": {
    "collapsed": false
   },
   "outputs": [],
   "source": [
    "def main(indir=None, remake_db=False, get_games=False):\n",
    "\n",
    "    \n",
    "    if indir is None:\n",
    "        indir = 'scoreboard_pages/'\n",
    "    else:\n",
    "        indir = str(indir)\n",
    "    dbname = 'ncaa_mbb_db'\n",
    "    username = 'smaug'\n",
    "\n",
    "    scoreboard_file = 'ncaa_mbb_scoreboard_full_YYYYMMDD.txt'\n",
    "\n",
    "    boxscore_dir = 'boxscore_pages/'\n",
    "    boxscore_file = 'ncaa_mbb_boxscore_DDDDDDDDD.txt'\n",
    "    boxscore_table_name = 'games'\n",
    "    boxscore_dict = {'dir':boxscore_dir, 'file':boxscore_file, 'table':boxscore_table_name}\n",
    "\n",
    "    \n",
    "    #start up Postgres db\n",
    "    if remake_db:\n",
    "        print '  Now remaking games database.'\n",
    "        reset = 1 #do we append (0) or restart (1) the database\n",
    "        cnt = 1 #silly database index counter since we give it one at a time\n",
    "        scoreboard_table_name = 'scoreboard'\n",
    "        db_connect = start_games_db(dbname, username)\n",
    "\n",
    "        #connect to the database and query the scoreboard table\n",
    "        con = None\n",
    "        con = psycopg2.connect(database=dbname, user=username)\n",
    "\n",
    "        sql_query = \"SELECT date, year, month, day FROM %s WHERE in_hand='%s';\" % (scoreboard_table_name, 'yes')\n",
    "        #print sql_query\n",
    "        try:\n",
    "            dates_from_query = pd.read_sql_query(sql_query, con)\n",
    "            #print dates_from_query\n",
    "        except:\n",
    "            print '  scoreboard_table does not exist' \n",
    "\n",
    "        for ii in np.arange(len(dates_from_query)):\n",
    "            date_from_query = dates_from_query['date'][ii]\n",
    "            date_from_query = date_from_query.replace('-', '')\n",
    "            #print date_from_query\n",
    "            \n",
    "            med_dir = get_med_dir(dates_from_query['year'][ii], dates_from_query['month'][ii])\n",
    "            file_to_check = indir + med_dir + scoreboard_file.replace('YYYYMMDD',date_from_query)\n",
    "            print '    Checking file: %s.' % (file_to_check)\n",
    "            \n",
    "            file_text = read_scoreboard(file_to_check)\n",
    "            #print len(file_text)\n",
    "            game_links = get_games_link(file_text)\n",
    "            print '      There were %i games on this day.' % (len(game_links))\n",
    "            if len(game_links) != 0:\n",
    "                for game_link in game_links:\n",
    "                    game_id = re.search('(\\d.*\\d)', game_link)\n",
    "                    \n",
    "                    game_file = boxscore_dir + med_dir + boxscore_file.replace('DDDDDDDDD', game_id.group(1))\n",
    "                    #print game_file\n",
    "                    #print 'boxscore_pages/2002-2003/ncaa_mbb_boxscore_'\n",
    "                    f = os.path.exists(game_file)\n",
    "                    #help(f)\n",
    "                    #print f\n",
    "                    \n",
    "                    if f:\n",
    "                        #f.readlines()[0]\n",
    "                        in_hand = 'yes'\n",
    "                    else:\n",
    "                        #print f.readlines()\n",
    "                        in_hand = 'no'\n",
    "                    #print in_hand\n",
    "                    \n",
    "                    my_dict = {'id':int(game_id.group(1)),\n",
    "                              'date':dates_from_query['date'][ii], \n",
    "                              'year':dates_from_query['year'][ii], \n",
    "                              'month':dates_from_query['month'][ii],\n",
    "                              'day':dates_from_query['day'][ii], \n",
    "                              'team1':'unknown',\n",
    "                              'coach1':'unknown',\n",
    "                              'team2':'unknown',\n",
    "                              'coach2':'unknown',\n",
    "                              'in_hand':in_hand, \n",
    "                              'url':game_link\n",
    "                             }\n",
    "                    my_df = pd.DataFrame(my_dict, index=[cnt])\n",
    "                    #print my_df\n",
    "\n",
    "                    #print '**********', reset\n",
    "                    reset = make_games_db(reset, my_df, db_connect, boxscore_dict)\n",
    "                    #print reset\n",
    "                    cnt = cnt + 1\n",
    "\n",
    "                    #if cnt >= 25:\n",
    "                    #    sys.exit(0)\n",
    "        \n",
    "    if get_games:\n",
    "        print '  Now retrieve individual game pages.'\n",
    "        cnt = 1 #a counter to stop the for loop\n",
    "\n",
    "        #connect to the database and query the scoreboard table\n",
    "        print '    Connecting to the database...' \n",
    "        con = None\n",
    "        con = psycopg2.connect(database=dbname, user=username)\n",
    "\n",
    "        sql_query = \"SELECT url, year, month, id FROM %s WHERE in_hand='%s';\" % (boxscore_table_name, 'no')\n",
    "        #print sql_query\n",
    "        try:\n",
    "            data_from_query = pd.read_sql_query(sql_query, con)\n",
    "            print '    We still need %i game pages.' % (len(data_from_query))\n",
    "        except:\n",
    "            print '  games_table, games, does not exist' \n",
    "        print ''\n",
    "\n",
    "\n",
    "        \n",
    "        #print dates_from_query\n",
    "        urls_from_query = data_from_query['url']\n",
    "        for ii in np.arange(len(urls_from_query)):\n",
    "            print '      Getting game: ', urls_from_query[ii]\n",
    "            med_dir = get_med_dir(data_from_query['year'][ii], data_from_query['month'][ii])\n",
    "            #print med_dir\n",
    "            my_file = boxscore_file.replace('DDDDDDDDD', str(data_from_query['id'][ii]))\n",
    "            #print my_file\n",
    "            found = get_games_pages(urls_from_query[ii], con, \n",
    "                                    my_file, \n",
    "                                    data_from_query['id'][ii], \n",
    "                                    write=True, meddir=med_dir)\n",
    "\n",
    "            \n",
    "            \n",
    "            \n",
    "            cnt = cnt + 1\n",
    "            if cnt >= 50000:\n",
    "                sys.exit(0)\n",
    "\n"
   ]
  },
  {
   "cell_type": "code",
   "execution_count": 12,
   "metadata": {
    "collapsed": false,
    "scrolled": true
   },
   "outputs": [
    {
     "name": "stdout",
     "output_type": "stream",
     "text": [
      "  Now retrieve individual game pages.\n",
      "    Connecting to the database...\n",
      "    We still need 0 game pages.\n",
      "\n"
     ]
    }
   ],
   "source": [
    "# boilerplate to execute call to main() function\n",
    "if __name__ == '__main__':\n",
    "    #main(remake_db=True)   \n",
    "    main(remake_db=False, get_games=True)"
   ]
  },
  {
   "cell_type": "code",
   "execution_count": null,
   "metadata": {
    "collapsed": true
   },
   "outputs": [],
   "source": []
  },
  {
   "cell_type": "code",
   "execution_count": null,
   "metadata": {
    "collapsed": true
   },
   "outputs": [],
   "source": []
  },
  {
   "cell_type": "code",
   "execution_count": null,
   "metadata": {
    "collapsed": true
   },
   "outputs": [],
   "source": []
  },
  {
   "cell_type": "code",
   "execution_count": null,
   "metadata": {
    "collapsed": true
   },
   "outputs": [],
   "source": []
  },
  {
   "cell_type": "code",
   "execution_count": null,
   "metadata": {
    "collapsed": true
   },
   "outputs": [],
   "source": []
  },
  {
   "cell_type": "code",
   "execution_count": null,
   "metadata": {
    "collapsed": true
   },
   "outputs": [],
   "source": []
  },
  {
   "cell_type": "code",
   "execution_count": null,
   "metadata": {
    "collapsed": true
   },
   "outputs": [],
   "source": []
  },
  {
   "cell_type": "markdown",
   "metadata": {},
   "source": [
    "\n",
    "\n",
    "\n",
    "\n",
    "\n",
    "    sys.exit(0)\n",
    "    #deal with some folder stuff\n",
    "    in_dir = basedir + years + '/'\n",
    "    print '  Directory we are searching in:', in_dir\n",
    "    line = 'ls ' + in_dir + '*'\n",
    "    f = os.popen(line)\n",
    "    print ''\n",
    " \n",
    "    #the work horse section\n",
    "    #cnt = 0\n",
    "    for file in f.readlines():\n",
    "        match = re.search('.*?/.*?/(.*full.*)', file)\n",
    "        if match is not None:\n",
    "            file = match.group(1)\n",
    "            print '  File we are searching in:', file\n",
    "        \n",
    "            med_dir = get_med_dir(file)\n",
    "            #print med_dir\n",
    "            score_board = read_scoreboard(file, meddir=med_dir)\n",
    "            #print len(score_board)\n",
    "            games_link = get_games_link(score_board)\n",
    "            #print games_link\n",
    "            games_link_df = create_games_df(games_link, file)\n",
    "            \n",
    "            #if db_connect['exists']:\n",
    "            #    did_it_work = make_games_db(db_connect, games_link_df)\n",
    "                #print did_it_work\n",
    " \n",
    "            print games_link_df['id']\n",
    "            get_games_pages(games_link, file, games_link_df['id'], meddir=med_dir)\n",
    "            \n",
    "            print ''\n",
    "            #if cnt > 30:\n",
    "            #    sys.exit(0)\n",
    "            #cnt = cnt + 1"
   ]
  }
 ],
 "metadata": {
  "kernelspec": {
   "display_name": "Python 2",
   "language": "python",
   "name": "python2"
  },
  "language_info": {
   "codemirror_mode": {
    "name": "ipython",
    "version": 2
   },
   "file_extension": ".py",
   "mimetype": "text/x-python",
   "name": "python",
   "nbconvert_exporter": "python",
   "pygments_lexer": "ipython2",
   "version": "2.7.11"
  }
 },
 "nbformat": 4,
 "nbformat_minor": 0
}
