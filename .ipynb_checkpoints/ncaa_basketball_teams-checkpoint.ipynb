{
 "cells": [
  {
   "cell_type": "code",
   "execution_count": 468,
   "metadata": {
    "collapsed": true
   },
   "outputs": [],
   "source": [
    "import sys\n",
    "import pandas as pd\n",
    "import numpy as np\n",
    "import psycopg2\n",
    "import re\n",
    "from sqlalchemy import create_engine\n",
    "from sqlalchemy_utils import database_exists, create_database\n",
    "\n"
   ]
  },
  {
   "cell_type": "code",
   "execution_count": 469,
   "metadata": {
    "collapsed": false
   },
   "outputs": [],
   "source": [
    "def do_sanity_checks(my_con, my_sanity_checks):\n",
    "    my_table = 'stats' + my_sanity_checks\n",
    "    print '  Some basic sanity checks for the %s season table.' % my_table\n",
    "    \n",
    "    try:\n",
    "        sql_query = '''\n",
    "                    SELECT COUNT(*) from %s\n",
    "                    ''' % (my_table)\n",
    "        from_sql_df = pd.read_sql(sql_query, my_con)\n",
    "        print '      Total number of entries in table:'\n",
    "        print from_sql_df\n",
    "    except:\n",
    "        print '    Unable to determine total number of entries. '\n",
    "        \n",
    "    try:\n",
    "        sql_query = '''\n",
    "                    SELECT COUNT(DISTINCT(game_id)) from %s\n",
    "                    ''' % (my_table)\n",
    "        from_sql_df = pd.read_sql(sql_query, my_con)\n",
    "        print '      Total number of games in table:'\n",
    "        print from_sql_df.head(5)\n",
    "    except:\n",
    "        print '    Unable to determine total number of games. '\n",
    "\n",
    "    try:\n",
    "        sql_query = '''\n",
    "                    SELECT COUNT(DISTINCT(team_name)) from %s\n",
    "                    ''' % (my_table)\n",
    "        from_sql_df = pd.read_sql(sql_query, my_con)\n",
    "        print '      Total number of teams in table:'\n",
    "        print from_sql_df.head(100)\n",
    "    except:\n",
    "        print '    Unable to determine total number of teams. '\n",
    "\n",
    "    try:\n",
    "        sql_query = '''\n",
    "                    SELECT DISTINCT(team_name) from %s\n",
    "                     ORDER BY team_name ASC\n",
    "                    ''' % (my_table)\n",
    "        from_sql_df = pd.read_sql(sql_query, my_con)\n",
    "        print '      Teams in table:'\n",
    "        print from_sql_df\n",
    "    except:\n",
    "        print '    Unable to determine teams. '\n",
    "\n",
    "\n",
    "        \n",
    "        "
   ]
  },
  {
   "cell_type": "code",
   "execution_count": 470,
   "metadata": {
    "collapsed": false
   },
   "outputs": [],
   "source": [
    "def build_team_db(my_con, my_engine, season):\n",
    "    print '    Rebuilding teams database for %s season' % (season)\n",
    "    my_table = 'stats' + season\n",
    "    team_table = 'teams' + season\n",
    "    my_if_exists = 'replace'\n",
    "    \n",
    "    \n",
    "    cnt = 1\n",
    "    try:\n",
    "        sql_query = '''\n",
    "                    SELECT DISTINCT(team_name) from %s\n",
    "                     ORDER BY team_name ASC\n",
    "                    ''' % (my_table)\n",
    "        from_sql = pd.read_sql(sql_query, my_con)\n",
    "        #print '      Teams in table:'\n",
    "        #print from_sql['team_name']\n",
    "    except:\n",
    "        print '    Unable to determine teams. '\n",
    "        \n",
    "    \n",
    "    for team_name in from_sql['team_name']:\n",
    "        #SQL queries dont like single quotes in strings  \n",
    "        match = re.search('\\'',team_name)\n",
    "        if match is not None:\n",
    "            team_name = team_name.replace(\"'\", \"''\")\n",
    "            \n",
    "        #find games involving this team\n",
    "        sql_query_2 = '''\n",
    "                    SELECT DISTINCT(game_id) from %s\n",
    "                     WHERE team_name IN ('%s')\n",
    "                    ''' % (my_table, team_name)\n",
    "        from_sql_2 = pd.read_sql(sql_query_2, my_con)\n",
    "\n",
    "      \n",
    "        \n",
    "        for game_id in from_sql_2['game_id']:\n",
    "            print team_name, game_id\n",
    "            sql_query_3 = '''\n",
    "                    SELECT * from %s\n",
    "                     WHERE team_name IN ('%s')\n",
    "                      AND game_id IN ('%s')\n",
    "                    ''' % (my_table, team_name, game_id)\n",
    "            from_sql_3 = pd.read_sql(sql_query_3, my_con)\n",
    "            \n",
    "            this_wl = from_sql_3['wl'][0]\n",
    "            this_ha = from_sql_3['ha'][0]\n",
    "            this_game_id = from_sql_3['game_id'][0]\n",
    "            this_team_name = from_sql_3['team_name'][0]\n",
    "            from_sql_3 = from_sql_3.drop(['game_id', 'player_url', \n",
    "                                         'team_name', 'ha', 'wl',\n",
    "                                         'player_pos', 'player', 'index'], 1)\n",
    "            from_sql_3 = from_sql_3.astype('float')\n",
    "            \n",
    "            for_sql = from_sql_3.sum(axis=0)\n",
    "            for_sql['ftper'] = for_sql['ftm'] / for_sql['fta']\n",
    "            for_sql['fgper'] = for_sql['fgm'] / for_sql['fga']\n",
    "            for_sql['tpper'] = for_sql['tpm'] / for_sql['tpa']\n",
    "            for_sql['ha'] = this_ha\n",
    "            for_sql['wl'] = this_wl\n",
    "            for_sql['game_id'] = this_game_id\n",
    "            for_sql['team_name'] = this_team_name\n",
    "\n",
    "            #summing returns a series not a data frame. we put it back \n",
    "            df = pd.DataFrame(for_sql, index=for_sql.index)\n",
    "            df = df.transpose()            \n",
    "            df.to_sql(team_table, my_engine, if_exists=my_if_exists)\n",
    "            my_if_exists = 'append'\n",
    "\n",
    "\n",
    "\n",
    "            \n",
    "            #if cnt >= 3:\n",
    "            #    sys.exit(0)\n",
    "            #cnt = cnt + 1\n",
    "                \n",
    "\n",
    "    \n",
    "        "
   ]
  },
  {
   "cell_type": "code",
   "execution_count": null,
   "metadata": {
    "collapsed": true
   },
   "outputs": [],
   "source": []
  },
  {
   "cell_type": "code",
   "execution_count": null,
   "metadata": {
    "collapsed": true
   },
   "outputs": [],
   "source": []
  },
  {
   "cell_type": "code",
   "execution_count": null,
   "metadata": {
    "collapsed": true
   },
   "outputs": [],
   "source": []
  },
  {
   "cell_type": "code",
   "execution_count": 471,
   "metadata": {
    "collapsed": true
   },
   "outputs": [],
   "source": [
    "def main(sanity_checks=False, team_db=False):\n",
    "    print 'Now running: ', sys.argv[0]\n",
    "    \n",
    "    \n",
    "    #connect to the database\n",
    "    dbname = 'ncaa_mbb_db'\n",
    "    username = 'smaug'\n",
    "    con = None\n",
    "    con = psycopg2.connect(database=dbname, user=username)    \n",
    "    engine = create_engine('postgres://%s@localhost/%s' % (username, dbname))\n",
    "\n",
    "\n",
    "    #do sanity checks\n",
    "    if sanity_checks is not False:\n",
    "        chk = do_sanity_checks(con, sanity_checks)\n",
    "        \n",
    "    #remake teams database\n",
    "    if team_db is not False:\n",
    "        chk = build_team_db(con, engine, team_db)"
   ]
  },
  {
   "cell_type": "code",
   "execution_count": 472,
   "metadata": {
    "collapsed": false,
    "scrolled": false
   },
   "outputs": [
    {
     "name": "stdout",
     "output_type": "stream",
     "text": [
      "Now running:  /anaconda/lib/python2.7/site-packages/ipykernel/__main__.py\n",
      "    Rebuilding teams database for 1415 season\n",
      "AUB Montgomery Senators 400598788\n",
      "AUB Montgomery Senators 400600688\n",
      "Abilene Christian  Wildcats 400595589\n"
     ]
    },
    {
     "ename": "SystemExit",
     "evalue": "0",
     "output_type": "error",
     "traceback": [
      "An exception has occurred, use %tb to see the full traceback.\n",
      "\u001b[0;31mSystemExit\u001b[0m\u001b[0;31m:\u001b[0m 0\n"
     ]
    },
    {
     "name": "stderr",
     "output_type": "stream",
     "text": [
      "To exit: use 'exit', 'quit', or Ctrl-D.\n"
     ]
    }
   ],
   "source": [
    "# boilerplate to execute call to main() function\n",
    "if __name__ == '__main__':\n",
    "    main(sanity_checks=False, team_db='1415')"
   ]
  },
  {
   "cell_type": "code",
   "execution_count": null,
   "metadata": {
    "collapsed": true
   },
   "outputs": [],
   "source": []
  }
 ],
 "metadata": {
  "kernelspec": {
   "display_name": "Python 2",
   "language": "python",
   "name": "python2"
  },
  "language_info": {
   "codemirror_mode": {
    "name": "ipython",
    "version": 2
   },
   "file_extension": ".py",
   "mimetype": "text/x-python",
   "name": "python",
   "nbconvert_exporter": "python",
   "pygments_lexer": "ipython2",
   "version": "2.7.11"
  }
 },
 "nbformat": 4,
 "nbformat_minor": 0
}
