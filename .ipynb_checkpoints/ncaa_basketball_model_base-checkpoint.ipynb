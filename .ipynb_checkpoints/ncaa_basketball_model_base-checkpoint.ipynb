{
 "cells": [
  {
   "cell_type": "code",
   "execution_count": 48,
   "metadata": {
    "collapsed": false
   },
   "outputs": [],
   "source": [
    "%matplotlib inline\n",
    "\n",
    "import pandas as pd\n",
    "import numpy as np\n",
    "import scipy as sp\n",
    "import matplotlib.pyplot as plt\n",
    "\n",
    "from sqlalchemy import create_engine\n",
    "from sqlalchemy_utils import database_exists, create_database\n",
    "import psycopg2\n",
    "\n",
    "#import statsmodels.api as sm\n",
    "#from patsy import dmatrices\n",
    "from sklearn import metrics\n",
    "from sklearn.linear_model import LogisticRegression\n",
    "from sklearn.cross_validation import train_test_split\n",
    "from sklearn.cross_validation import cross_val_score\n"
   ]
  },
  {
   "cell_type": "code",
   "execution_count": 122,
   "metadata": {
    "collapsed": false,
    "scrolled": true
   },
   "outputs": [
    {
     "name": "stdout",
     "output_type": "stream",
     "text": [
      "\n",
      "            SELECT * \n",
      "             FROM teams1415 LEFT JOIN winloss ON (teams1415.wl=winloss.wl);\n",
      "            \n",
      "   pts  reb  to\n",
      "0   54   21  16\n",
      "1   60   22  21\n",
      "2   56   19  12\n",
      "3   61   20  14\n",
      "4   81   21  11\n",
      "\n",
      "            SELECT \"pts\", \"reb\", \"to\" \n",
      "             FROM teams1415 LEFT JOIN winloss ON (teams1415.wl=winloss.wl)\n",
      "             WHERE team_name = 'Wisconsin Badgers';\n",
      "            \n",
      "    pts  reb  to\n",
      "0    49   35  11\n",
      "1    80   21   6\n",
      "2    53   31   8\n",
      "3    71   30  10\n",
      "4    62   40   9\n",
      "5    69   31  10\n",
      "6    89   45   9\n",
      "7    76   29   9\n",
      "8    70   25   8\n",
      "9    86   34   9\n",
      "10   74   29   6\n",
      "11   79   33   5\n",
      "12   63   25   8\n",
      "13   68   30   8\n",
      "14   84   45   7\n",
      "15   85   18   8\n",
      "16   70   26   6\n",
      "17   68   25  13\n",
      "18   68   35   8\n",
      "19   81   32   7\n",
      "20   82   32   0\n",
      "21   68   29   4\n",
      "22   65   37   5\n",
      "23   72   27   6\n",
      "24   69   27   8\n",
      "25   86   35  10\n",
      "26   65   38   7\n",
      "27   78   27   5\n",
      "28   68   37   6\n",
      "29   89   25   9\n",
      "30   62   28   5\n",
      "31   92   21   6\n",
      "32   62   21   8\n",
      "33   55   34   8\n",
      "34   71   30   3\n",
      "35   63   33   5\n",
      "36   72   39   9\n",
      "37   72   29  10\n",
      "38   93   33   4\n",
      "39   71   33   7\n"
     ]
    }
   ],
   "source": [
    "team1 = 'Wisconsin Badgers'\n",
    "team2 = 'Arizona Wildcats'\n",
    "\n",
    "username = 'smaug'\n",
    "dbname = 'ncaa_mbb_db'\n",
    "\n",
    "con = None\n",
    "con = psycopg2.connect(database=dbname, user=username)\n",
    "\n",
    "\n",
    "sql_query = '''\n",
    "            SELECT * \n",
    "             FROM %s LEFT JOIN %s ON (%s.wl=%s.wl);\n",
    "            ''' % ('teams1415', 'winloss', 'teams1415', 'winloss')\n",
    "print sql_query\n",
    "try:\n",
    "    from_sql_query = pd.read_sql_query(sql_query, con)\n",
    "except:\n",
    "    print '  team stats table, %s, does not exist' % ('teams1415')\n",
    "\n",
    "avail_tags = list(from_sql_query.columns.values)\n",
    "rid_tags = ['wl', 'ha', 'team_name', 'index', 'game_id', 'min', 'wl_int', \n",
    "            'ast', 'blk', 'dreb', 'fga', 'fgm', 'fta', 'ftm', 'oreb', \n",
    "            'pf', 'stl', 'tpa', 'tpm', 'ftper', 'fgper', 'tpper']\n",
    "for_logreg = from_sql_query\n",
    "for_logreg = for_logreg.drop(rid_tags, 1)\n",
    "\n",
    "print for_logreg.head(5)\n",
    "for_logreg_tags = list(for_logreg.columns.values)\n",
    "XS = for_logreg #for_logreg.as_matrix()\n",
    "#print XS[0:5]\n",
    "size = np.shape(XS)\n",
    "\n",
    "ys = list(from_sql_query.loc[:,'wl_int'])\n",
    "#print YS[0:5]\n",
    "\n",
    "\n",
    "sql_cols = ''\n",
    "for ii in np.arange(len(for_logreg_tags)):\n",
    "    if ii == 0:\n",
    "        sql_cols = sql_cols + '\"' + for_logreg_tags[ii] + '\"'\n",
    "    else:\n",
    "        sql_cols = sql_cols + ', \"' + for_logreg_tags[ii] + '\"'\n",
    "\n",
    "        ###need to worry about distinct, every team is in there twice for each game\n",
    "        ###need to port over solution for team names with a \"'\" in the name\n",
    "sql_query = '''\n",
    "            SELECT %s \n",
    "             FROM %s LEFT JOIN %s ON (%s.wl=%s.wl)\n",
    "             WHERE team_name = '%s';\n",
    "            ''' % (sql_cols, 'teams1415', 'winloss', 'teams1415', 'winloss', team1)\n",
    "print sql_query\n",
    "try:\n",
    "    team1_sql_query = pd.read_sql_query(sql_query, con)\n",
    "except:\n",
    "    print '  team1 stats not obtained'\n",
    "print team1_sql_query.head(40)\n",
    "\n",
    "\n",
    "\n"
   ]
  },
  {
   "cell_type": "code",
   "execution_count": 89,
   "metadata": {
    "collapsed": false
   },
   "outputs": [
    {
     "name": "stdout",
     "output_type": "stream",
     "text": [
      "0 pts\n",
      "(0.088185527243149625, -77.115860284149989, 143.78878148361525)\n"
     ]
    },
    {
     "data": {
      "image/png": "[encoded data removed]",
      "text/plain": [
       "<matplotlib.figure.Figure at 0x10fcadf10>"
      ]
     },
     "metadata": {},
     "output_type": "display_data"
    },
    {
     "name": "stdout",
     "output_type": "stream",
     "text": [
      "1 reb\n",
      "(0.12673224449794362, -21.571033025116172, 52.129834741178925)\n"
     ]
    },
    {
     "data": {
      "image/png": "[encoded data removed]",
      "text/plain": [
       "<matplotlib.figure.Figure at 0x1176a7bd0>"
      ]
     },
     "metadata": {},
     "output_type": "display_data"
    },
    {
     "name": "stdout",
     "output_type": "stream",
     "text": [
      "2 to\n",
      "(0.16358602797717789, -12.245403908161538, 24.350162380819008)\n"
     ]
    },
    {
     "data": {
      "image/png": "[encoded data removed]",
      "text/plain": [
       "<matplotlib.figure.Figure at 0x11651f110>"
      ]
     },
     "metadata": {},
     "output_type": "display_data"
    }
   ],
   "source": [
    "for ii in np.arange(size[1]):\n",
    "    print ii, for_logreg_tags[ii]\n",
    "    \n",
    "    \n",
    "    if for_logreg_tags[ii] == 'pts':\n",
    "        bdict = {'grmin':30.0, 'grmax':100, 'grbins':70, \n",
    "                 'grtitle':'Frequency of Total Points Scored', \n",
    "                 'grxlab':'Total Points Scored',\n",
    "                 'cdfmin':0.0, 'cdfmax':130, 'cdfbins':130*5}\n",
    "    elif for_logreg_tags[ii] == 'reb':\n",
    "        bdict = {'grmin':0.0, 'grmax':60, 'grbins':60, \n",
    "                 'grtitle':'Frequency of Total Rebounds', \n",
    "                 'grxlab':'Total Rebounds',\n",
    "                 'cdfmin':0.0, 'cdfmax':70, 'cdfbins':70*5}\n",
    "    elif for_logreg_tags[ii] == 'to':\n",
    "        bdict = {'grmin':0.0, 'grmax':30, 'grbins':30, \n",
    "                 'grtitle':'Frequency of Turnovers', \n",
    "                 'grxlab':'Total Turnovers',\n",
    "                 'cdfmin':0.0, 'cdfmax':40, 'cdfbins':40*5}\n",
    "\n",
    "\n",
    "    else:\n",
    "        bdict = {'grmin':0.0, 'grmax':50, 'grbins':50, \n",
    "                 'grtitle':'Frequency of Variable', \n",
    "                 'grxlab':'Variable',\n",
    "                 'cdfmin':0.0, 'cdfmax':50, 'cdfbins':50*5}\n",
    "\n",
    "    #print bdict\n",
    "    cur_samp = list(from_sql_query.loc[:,for_logreg_tags[ii]])\n",
    "    #print cur_samp\n",
    "    \n",
    "    bins = ((bdict['grmax']-bdict['grmin']) / bdict['grbins']) * np.arange(bdict['grbins']+1) + bdict['grmin'] \n",
    "    #print bins\n",
    "    n, bins, patches = plt.hist(cur_samp, bins, normed=1, facecolor='green', alpha=0.30)\n",
    "    plt.title(bdict['grtitle'])\n",
    "    plt.xlabel(bdict['grxlab'])\n",
    "    plt.ylabel('Frequency')\n",
    "    plt.grid(True)\n",
    "\n",
    "\n",
    "    param=sp.stats.lognorm.fit(cur_samp) # fit the sample data\n",
    "    print param\n",
    "\n",
    "    pdf_fitted = sp.stats.lognorm.pdf(bins, param[0], loc=param[1], scale=param[2]) # fitted distribution\n",
    "    cdf_fitted = sp.stats.lognorm.cdf(cdf_bins, param[0], loc=param[1], scale=param[2]) # fitted distribution\n",
    "\n",
    "\n",
    "    plt.plot(bins,pdf_fitted, 'r-', linewidth=2)\n",
    "    #plt.plot(bins,cdf_fitted, 'g-')\n",
    "\n",
    "    plt.show()"
   ]
  },
  {
   "cell_type": "code",
   "execution_count": 79,
   "metadata": {
    "collapsed": false
   },
   "outputs": [
    {
     "name": "stdout",
     "output_type": "stream",
     "text": [
      "-0.00566691748849\n"
     ]
    }
   ],
   "source": [
    "mean_dreb = 20.9\n",
    "cdf_diff = [abs(mean_dreb-ii) for ii in cdf_bins]\n",
    "cdf_min_ind = cdf_diff.index(min(cdf_diff))\n",
    "first = cdf_fitted[cdf_min_ind]\n",
    "\n",
    "mean_dreb = 21.4\n",
    "cdf_diff = [abs(mean_dreb-ii) for ii in cdf_bins]\n",
    "cdf_min_ind = cdf_diff.index(min(cdf_diff))\n",
    "second = cdf_fitted[cdf_min_ind]\n",
    "\n",
    "print first - second\n",
    "\n",
    "\n",
    "\n"
   ]
  },
  {
   "cell_type": "code",
   "execution_count": null,
   "metadata": {
    "collapsed": true
   },
   "outputs": [],
   "source": []
  },
  {
   "cell_type": "code",
   "execution_count": null,
   "metadata": {
    "collapsed": true
   },
   "outputs": [],
   "source": []
  },
  {
   "cell_type": "code",
   "execution_count": null,
   "metadata": {
    "collapsed": true
   },
   "outputs": [],
   "source": []
  },
  {
   "cell_type": "code",
   "execution_count": null,
   "metadata": {
    "collapsed": true
   },
   "outputs": [],
   "source": []
  },
  {
   "cell_type": "code",
   "execution_count": null,
   "metadata": {
    "collapsed": true
   },
   "outputs": [],
   "source": []
  },
  {
   "cell_type": "code",
   "execution_count": null,
   "metadata": {
    "collapsed": true
   },
   "outputs": [],
   "source": []
  },
  {
   "cell_type": "code",
   "execution_count": null,
   "metadata": {
    "collapsed": true
   },
   "outputs": [],
   "source": []
  },
  {
   "cell_type": "markdown",
   "metadata": {},
   "source": [
    "### now we do the actual logistic regression fitting"
   ]
  },
  {
   "cell_type": "code",
   "execution_count": 9,
   "metadata": {
    "collapsed": false
   },
   "outputs": [
    {
     "name": "stdout",
     "output_type": "stream",
     "text": [
      "LogisticRegression(C=1.0, class_weight=None, dual=False, fit_intercept=True,\n",
      "          intercept_scaling=1, max_iter=100, multi_class='ovr',\n",
      "          penalty='l2', random_state=None, solver='liblinear', tol=0.0001,\n",
      "          verbose=0)\n",
      "0.880080958003\n",
      "0.0\n"
     ]
    },
    {
     "data": {
      "text/html": [
       "<div>\n",
       "<table border=\"1\" class=\"dataframe\">\n",
       "  <thead>\n",
       "    <tr style=\"text-align: right;\">\n",
       "      <th></th>\n",
       "      <th>0</th>\n",
       "      <th>1</th>\n",
       "    </tr>\n",
       "  </thead>\n",
       "  <tbody>\n",
       "    <tr>\n",
       "      <th>0</th>\n",
       "      <td>ast</td>\n",
       "      <td>[0.0659250771861]</td>\n",
       "    </tr>\n",
       "    <tr>\n",
       "      <th>1</th>\n",
       "      <td>blk</td>\n",
       "      <td>[0.117096808581]</td>\n",
       "    </tr>\n",
       "    <tr>\n",
       "      <th>2</th>\n",
       "      <td>dreb</td>\n",
       "      <td>[0.126957510913]</td>\n",
       "    </tr>\n",
       "    <tr>\n",
       "      <th>3</th>\n",
       "      <td>fga</td>\n",
       "      <td>[-0.360186901662]</td>\n",
       "    </tr>\n",
       "    <tr>\n",
       "      <th>4</th>\n",
       "      <td>fgm</td>\n",
       "      <td>[0.0575410857801]</td>\n",
       "    </tr>\n",
       "    <tr>\n",
       "      <th>5</th>\n",
       "      <td>fta</td>\n",
       "      <td>[-0.0692939112519]</td>\n",
       "    </tr>\n",
       "    <tr>\n",
       "      <th>6</th>\n",
       "      <td>ftm</td>\n",
       "      <td>[0.0383727096303]</td>\n",
       "    </tr>\n",
       "    <tr>\n",
       "      <th>7</th>\n",
       "      <td>oreb</td>\n",
       "      <td>[0.0969741994285]</td>\n",
       "    </tr>\n",
       "    <tr>\n",
       "      <th>8</th>\n",
       "      <td>pf</td>\n",
       "      <td>[-0.167530398327]</td>\n",
       "    </tr>\n",
       "    <tr>\n",
       "      <th>9</th>\n",
       "      <td>pts</td>\n",
       "      <td>[0.176785420356]</td>\n",
       "    </tr>\n",
       "    <tr>\n",
       "      <th>10</th>\n",
       "      <td>reb</td>\n",
       "      <td>[0.223931710328]</td>\n",
       "    </tr>\n",
       "    <tr>\n",
       "      <th>11</th>\n",
       "      <td>stl</td>\n",
       "      <td>[0.402748076938]</td>\n",
       "    </tr>\n",
       "    <tr>\n",
       "      <th>12</th>\n",
       "      <td>to</td>\n",
       "      <td>[-0.325937803459]</td>\n",
       "    </tr>\n",
       "    <tr>\n",
       "      <th>13</th>\n",
       "      <td>tpa</td>\n",
       "      <td>[-0.0283470780081]</td>\n",
       "    </tr>\n",
       "    <tr>\n",
       "      <th>14</th>\n",
       "      <td>tpm</td>\n",
       "      <td>[0.0233305391581]</td>\n",
       "    </tr>\n",
       "    <tr>\n",
       "      <th>15</th>\n",
       "      <td>ftper</td>\n",
       "      <td>[0.177489725483]</td>\n",
       "    </tr>\n",
       "    <tr>\n",
       "      <th>16</th>\n",
       "      <td>fgper</td>\n",
       "      <td>[0.0950929970698]</td>\n",
       "    </tr>\n",
       "    <tr>\n",
       "      <th>17</th>\n",
       "      <td>tpper</td>\n",
       "      <td>[0.10948592219]</td>\n",
       "    </tr>\n",
       "  </tbody>\n",
       "</table>\n",
       "</div>"
      ],
      "text/plain": [
       "        0                   1\n",
       "0     ast   [0.0659250771861]\n",
       "1     blk    [0.117096808581]\n",
       "2    dreb    [0.126957510913]\n",
       "3     fga   [-0.360186901662]\n",
       "4     fgm   [0.0575410857801]\n",
       "5     fta  [-0.0692939112519]\n",
       "6     ftm   [0.0383727096303]\n",
       "7    oreb   [0.0969741994285]\n",
       "8      pf   [-0.167530398327]\n",
       "9     pts    [0.176785420356]\n",
       "10    reb    [0.223931710328]\n",
       "11    stl    [0.402748076938]\n",
       "12     to   [-0.325937803459]\n",
       "13    tpa  [-0.0283470780081]\n",
       "14    tpm   [0.0233305391581]\n",
       "15  ftper    [0.177489725483]\n",
       "16  fgper   [0.0950929970698]\n",
       "17  tpper     [0.10948592219]"
      ]
     },
     "execution_count": 9,
     "metadata": {},
     "output_type": "execute_result"
    }
   ],
   "source": [
    "#just a basic logistic regression on all the data together\n",
    "model = LogisticRegression()\n",
    "print model\n",
    "\n",
    "model = model.fit(XS, ys)\n",
    "print model.score(XS, ys)\n",
    "print np.mean(ys)\n",
    "\n",
    "pd.DataFrame(zip(XS.columns, np.transpose(model.coef_)))"
   ]
  },
  {
   "cell_type": "code",
   "execution_count": 21,
   "metadata": {
    "collapsed": false
   },
   "outputs": [
    {
     "name": "stdout",
     "output_type": "stream",
     "text": [
      "9486 2372\n",
      "9486 2372\n",
      "[ 1 -1 -1 ..., -1  1 -1]\n",
      "[[  2.65529463e-04   9.99734471e-01]\n",
      " [  9.65521404e-01   3.44785961e-02]\n",
      " [  9.47895669e-01   5.21043309e-02]\n",
      " ..., \n",
      " [  9.72630337e-01   2.73696626e-02]\n",
      " [  1.28997543e-01   8.71002457e-01]\n",
      " [  8.62118050e-01   1.37881950e-01]]\n",
      "\n",
      "0.876053962901\n",
      "0.87521079258\n",
      "0.953308129082\n",
      "[[1033  131]\n",
      " [ 165 1043]]\n",
      "             precision    recall  f1-score   support\n",
      "\n",
      "         -1       0.86      0.89      0.87      1164\n",
      "          1       0.89      0.86      0.88      1208\n",
      "\n",
      "avg / total       0.88      0.88      0.88      2372\n",
      "\n"
     ]
    }
   ],
   "source": [
    "#now with a testing and a training set\n",
    "XS_train, XS_test, ys_train, ys_test = train_test_split(XS, ys, test_size=0.2, random_state=0)\n",
    "print len(XS_train), len(XS_test)\n",
    "print len(ys_train), len(ys_test)\n",
    "\n",
    "model2 = LogisticRegression()\n",
    "model2.fit(XS_train, ys_train)\n",
    "\n",
    "predicted = model2.predict(XS_test)\n",
    "print predicted\n",
    "probs = model2.predict_proba(XS_test)\n",
    "print probs\n",
    "print ''\n",
    "\n",
    "\n",
    "print model.score(XS_test, ys_test)\n",
    "print metrics.accuracy_score(ys_test, predicted)\n",
    "print metrics.roc_auc_score(ys_test, probs[:, 1])\n",
    "\n",
    "print '  Confusion matrix'\n",
    "print metrics.confusion_matrix(ys_test, predicted)\n",
    "print '  Classification report'\n",
    "print metrics.classification_report(ys_test, predicted)\n"
   ]
  },
  {
   "cell_type": "code",
   "execution_count": 26,
   "metadata": {
    "collapsed": false
   },
   "outputs": [
    {
     "name": "stdout",
     "output_type": "stream",
     "text": [
      " [ 0.87099494  0.86424958  0.88026981  0.89460371  0.87858347  0.89629005\n",
      "  0.8608769   0.8836425   0.88448567  0.87077703]\n",
      "    Average score: 0.878477365435\n",
      "    Std Dev of score: 0.0112731602323\n",
      "    Minimum score: 0.860876897133\n",
      "    Maximum score: 0.89629005059\n"
     ]
    }
   ],
   "source": [
    "#now with a 10 fold cross validation\n",
    "scores = cross_val_score(LogisticRegression(), XS, ys, scoring='accuracy', cv=10)\n",
    "print scores\n",
    "print '    Average score:', scores.mean()\n",
    "print '    Std Dev of score:', scores.std()\n",
    "print '    Minimum score:', scores.min()\n",
    "print '    Maximum score:', scores.max()\n",
    "\n",
    "\n"
   ]
  },
  {
   "cell_type": "code",
   "execution_count": null,
   "metadata": {
    "collapsed": true
   },
   "outputs": [],
   "source": []
  },
  {
   "cell_type": "code",
   "execution_count": null,
   "metadata": {
    "collapsed": true
   },
   "outputs": [],
   "source": []
  },
  {
   "cell_type": "code",
   "execution_count": null,
   "metadata": {
    "collapsed": true
   },
   "outputs": [],
   "source": []
  },
  {
   "cell_type": "code",
   "execution_count": null,
   "metadata": {
    "collapsed": true
   },
   "outputs": [],
   "source": []
  },
  {
   "cell_type": "code",
   "execution_count": null,
   "metadata": {
    "collapsed": true
   },
   "outputs": [],
   "source": []
  },
  {
   "cell_type": "code",
   "execution_count": 3,
   "metadata": {
    "collapsed": true
   },
   "outputs": [],
   "source": [
    "#example 1 of a Gaussian naive Bayes\n",
    "#import numpy as np\n",
    "#from sklearn.naive_bayes import GaussianNB\n",
    "\n",
    "#X = np.array([[-1, -1], [-2, -1], [-3, -2], \n",
    "#              [0, 1], [1, 0], [-0.5, 0.5],\n",
    "#              [1, 2], [2, 1], [3, 2]])\n",
    "#print X\n",
    "#Y = np.array([1, 1, 1, 2, 2, 2, 3, 3, 3])\n",
    "#print Y\n",
    "\n",
    "#clf = GaussianNB()\n",
    "#clf.fit(X, Y)\n",
    "#print clf\n",
    "#print(clf.predict_proba([[0,0]]))\n",
    "\n"
   ]
  },
  {
   "cell_type": "code",
   "execution_count": 4,
   "metadata": {
    "collapsed": true
   },
   "outputs": [],
   "source": [
    "#example 2 of a Gaussian naive Bayes\n",
    "#from sklearn import datasets\n",
    "#iris = datasets.load_iris()\n",
    "#print iris\n",
    "#print iris.data[0:10]\n",
    "#print iris.target\n",
    "#from sklearn.naive_bayes import GaussianNB\n",
    "#gnb = GaussianNB()\n",
    "#y_pred = gnb.fit(iris.data, iris.target).predict(iris.data)\n",
    "#print y_pred\n",
    "#print(\"Number of mislabeled points out of a total %d points : %d\"\n",
    "#       % (iris.data.shape[0],(iris.target != y_pred).sum()))"
   ]
  },
  {
   "cell_type": "code",
   "execution_count": 5,
   "metadata": {
    "collapsed": true
   },
   "outputs": [],
   "source": [
    "#username = 'smaug'\n",
    "#dbname = 'ncaa_mbb_db'\n",
    "\n",
    "#con = None\n",
    "#con = psycopg2.connect(database=dbname, user=username)\n",
    "\n",
    "#sql_query = \"SELECT * FROM %s;\" % ('winloss')\n",
    "\n",
    "#sql_query = '''\n",
    "#            SELECT * \n",
    "#             FROM %s LEFT JOIN %s ON (%s.wl=%s.wl)\n",
    "#             WHERE team_name = 'USC Trojans';\n",
    "#            ''' % ('teams1415', 'winloss', 'teams1415', 'winloss')\n",
    "#print sql_query\n",
    "#try:\n",
    "#from_sql_query = pd.read_sql_query(sql_query, con)\n",
    "#print from_sql_query.head(5)\n",
    "#except:\n",
    "#print '  stats table, %s, does not exist' % stats_table_name\n",
    "\n",
    "\n",
    "#stupidXS = from_sql_query['pts']\n",
    "#XS = []\n",
    "#for stupidX in stupidXS:\n",
    "#    XS.append(stupidX)\n",
    "\n",
    " \n",
    "#XS = list(from_sql_query['pts'].values)   \n",
    "#XS = np.array([XS]).transpose()\n",
    "#YS = list(from_sql_query['wl_int'].values)    \n",
    "#YS = np.array(YS)\n",
    "\n",
    "#print XS\n",
    "#print YS"
   ]
  },
  {
   "cell_type": "code",
   "execution_count": 6,
   "metadata": {
    "collapsed": false
   },
   "outputs": [],
   "source": [
    "#from sklearn.naive_bayes import GaussianNB\n",
    "#my_gnb = GaussianNB()\n",
    "\n",
    "#my_gnb.fit(XS, YS)\n",
    "\n",
    "#print my_gnb.predict_proba([[60]])"
   ]
  },
  {
   "cell_type": "code",
   "execution_count": null,
   "metadata": {
    "collapsed": true
   },
   "outputs": [],
   "source": []
  },
  {
   "cell_type": "code",
   "execution_count": null,
   "metadata": {
    "collapsed": true
   },
   "outputs": [],
   "source": []
  }
 ],
 "metadata": {
  "kernelspec": {
   "display_name": "Python 2",
   "language": "python",
   "name": "python2"
  },
  "language_info": {
   "codemirror_mode": {
    "name": "ipython",
    "version": 2
   },
   "file_extension": ".py",
   "mimetype": "text/x-python",
   "name": "python",
   "nbconvert_exporter": "python",
   "pygments_lexer": "ipython2",
   "version": "2.7.11"
  }
 },
 "nbformat": 4,
 "nbformat_minor": 0
}
