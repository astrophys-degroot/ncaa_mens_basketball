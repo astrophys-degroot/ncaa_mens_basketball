{
 "cells": [
  {
   "cell_type": "code",
   "execution_count": 1,
   "metadata": {
    "collapsed": false
   },
   "outputs": [],
   "source": [
    "#import packages\n",
    "\n",
    "import sys\n",
    "import re\n",
    "import os\n",
    "import numpy as np\n",
    "import pandas as pd\n",
    "from sqlalchemy import create_engine\n",
    "from sqlalchemy_utils import database_exists, create_database\n",
    "import psycopg2"
   ]
  },
  {
   "cell_type": "code",
   "execution_count": 2,
   "metadata": {
    "collapsed": true
   },
   "outputs": [],
   "source": [
    "'''\n",
    "credential and the three main databases info \n",
    "    1. scoreboard: database with info regarding the various ESPN scoreboard pages\n",
    "    2. games: database with info regarding all games played\n",
    "        -filled with data scraped from scoreboard pages \n",
    "    3. stats: database with info from all games played\n",
    "        -filled with data scrapped from games pages\n",
    "\n",
    "'''\n",
    "\n",
    "\n",
    "username = 'smaug'\n",
    "dbname = 'ncaa_mbb_db'\n",
    "\n",
    "scoreboard_dir = 'scoreboard_pages/'\n",
    "scoreboard_file = 'ncaa_mbb_scoreboard_full_YYYYMMDD.txt'\n",
    "scoreboard_table_name = 'scoreboard'\n",
    "scoreboard_table_range = [['20021101','20030430'], \n",
    "                            ['20031101','20040430'], \n",
    "                            ['20041101','20050430'],\n",
    "                            ['20051101','20060430'],\n",
    "                            ['20061101','20070430'],\n",
    "                            ['20071101','20080430'],\n",
    "                            ['20081101','20090430'],\n",
    "                            ['20091101','20100430'],\n",
    "                            ['20101101','20110430'],\n",
    "                            ['20111101','20120430'],\n",
    "                            ['20121101','20130430'],\n",
    "                            ['20131101','20140430'],\n",
    "                            ['20141101','20150430'],\n",
    "                            ['20151101','20160123'],\n",
    "                           ] \n",
    "\n",
    "boxscore_dir = 'boxscore_pages/'\n",
    "boxscore_file = 'ncaa_mbb_boxscore_DDDDDDDDD.txt'\n",
    "boxscore_table_name = 'games'\n",
    "\n",
    "stats_table_name = 'stats'\n"
   ]
  },
  {
   "cell_type": "code",
   "execution_count": null,
   "metadata": {
    "collapsed": true
   },
   "outputs": [],
   "source": []
  },
  {
   "cell_type": "markdown",
   "metadata": {},
   "source": [
    "# For creating the base scoreboard database"
   ]
  },
  {
   "cell_type": "code",
   "execution_count": 15,
   "metadata": {
    "collapsed": false
   },
   "outputs": [
    {
     "name": "stdout",
     "output_type": "stream",
     "text": [
      "  DB url: postgres://smaug@localhost/ncaa_mbb_db\n",
      "  DB exists? True\n",
      "            date day in_hand month  year\n",
      "2435  2016-01-19  19     yes    01  2016\n",
      "2436  2016-01-20  20     yes    01  2016\n",
      "2437  2016-01-21  21     yes    01  2016\n",
      "2438  2016-01-22  22     yes    01  2016\n",
      "2439  2016-01-23  23     yes    01  2016\n"
     ]
    }
   ],
   "source": [
    "### make base scoreboard database\n",
    "\n",
    "engine = create_engine('postgres://%s@localhost/%s'%(username, dbname))\n",
    "print '  DB url:', engine.url\n",
    "db_exist = database_exists(engine.url)\n",
    "if not db_exist:\n",
    "    create_database(engine.url)\n",
    "print '  DB exists? %s' % db_exist\n",
    "\n",
    "con = None\n",
    "con = psycopg2.connect(database=dbname, user=username)\n",
    "\n",
    "my_dates = []\n",
    "my_years = []\n",
    "my_months = []\n",
    "my_days = []\n",
    "for scoreboard in scoreboard_table_range:\n",
    "    dates_range = pd.date_range(start=scoreboard[0], end=scoreboard[1], freq='D')\n",
    "    for date_range in dates_range:\n",
    "        match = re.search('(\\d\\d\\d\\d)-(\\d\\d)-(\\d\\d)', str(date_range))\n",
    "        my_dates.append(match.group(0))\n",
    "        my_years.append(match.group(1))\n",
    "        my_months.append(match.group(2))\n",
    "        my_days.append(match.group(3))\n",
    "\n",
    "in_hand = []\n",
    "for ii in np.arange(len(my_dates)):\n",
    "    bit1 = scoreboard_file\n",
    "    bit1 = bit1.replace('YYYY', my_years[ii])\n",
    "    bit1 = bit1.replace('MM', my_months[ii])\n",
    "    bit1 = bit1.replace('DD', my_days[ii])\n",
    "    #print bit1\n",
    "\n",
    "    bit2 = scoreboard_dir  \n",
    "    if int(my_months[ii]) > 7:\n",
    "        bit2 = str(my_years[ii]) + '-' + str(int(my_years[ii])+1) + '/'\n",
    "    else:\n",
    "        bit2 = str(int(my_years[ii])-1) + '-' + str(my_years[ii]) + '/'\n",
    "    #print bit2\n",
    "   \n",
    "    line = 'ls ' + scoreboard_dir + bit2 + bit1\n",
    "    #print line\n",
    "    f = os.popen(line)\n",
    "    try:\n",
    "        f.readlines()[0]\n",
    "        in_hand.append('yes')\n",
    "    except:\n",
    "        #print f.readlines()\n",
    "        in_hand.append('no')\n",
    "\n",
    "\n",
    "scoreboard_df = pd.DataFrame({'date':my_dates, \n",
    "                              'year':my_years, \n",
    "                              'month':my_months,\n",
    "                              'day':my_days,\n",
    "                              'in_hand':in_hand,        \n",
    "                            })\n",
    "print scoreboard_df.tail(5)\n",
    "\n",
    "\n",
    "##################################################################\n",
    "###are you really sure you want to rebuild the entire scoreboard database???\n",
    "#scoreboard_df.to_sql(scoreboard_table_name, engine, if_exists='replace')\n",
    "##################################################################\n",
    "\n"
   ]
  },
  {
   "cell_type": "code",
   "execution_count": 5,
   "metadata": {
    "collapsed": false
   },
   "outputs": [
    {
     "name": "stdout",
     "output_type": "stream",
     "text": [
      "   <connection object at 0x109a29770; dsn: 'dbname=ncaa_mbb_db user=smaug', closed: 0>\n",
      "SELECT COUNT(*) FROM scoreboard;\n",
      "   count\n",
      "0   2440\n",
      "SELECT COUNT(*) FROM scoreboard WHERE in_hand='no';\n",
      "   count\n",
      "0      0\n"
     ]
    }
   ],
   "source": [
    "con = None\n",
    "con = psycopg2.connect(database=dbname, user=username)\n",
    "print '  ', con\n",
    "\n",
    "\n",
    "sql_query = \"SELECT COUNT(*) FROM %s;\" % (scoreboard_table_name)\n",
    "print sql_query\n",
    "try:\n",
    "    from_sql_query = pd.read_sql_query(sql_query, con)\n",
    "    print from_sql_query\n",
    "except:\n",
    "    print '  scoreboard_table does not exist' \n",
    "\n",
    "sql_query = \"SELECT COUNT(*) FROM %s WHERE in_hand='%s';\" % (scoreboard_table_name, 'no')\n",
    "print sql_query\n",
    "try:\n",
    "    from_sql_query = pd.read_sql_query(sql_query, con)\n",
    "    print from_sql_query\n",
    "except:\n",
    "    print '  scoreboard_table does not exist' \n",
    "\n",
    "\n",
    "\n"
   ]
  },
  {
   "cell_type": "markdown",
   "metadata": {
    "collapsed": true
   },
   "source": [
    "# For testing out the games database"
   ]
  },
  {
   "cell_type": "code",
   "execution_count": 16,
   "metadata": {
    "collapsed": false
   },
   "outputs": [
    {
     "name": "stdout",
     "output_type": "stream",
     "text": [
      "   <connection object at 0x109a29770; dsn: 'dbname=ncaa_mbb_db user=smaug', closed: 0>\n",
      "SELECT COUNT(*) FROM games;\n",
      "   count\n",
      "0  80100\n",
      "SELECT id, year FROM games WHERE in_hand='yes' AND id >320000000;\n",
      "          id  year\n",
      "0  320930096  2012\n",
      "1  320910096  2012\n",
      "2  320912305  2012\n",
      "3  320900221  2012\n",
      "4  320890024  2012\n"
     ]
    }
   ],
   "source": [
    "'''\n",
    "test out the 'games' database\n",
    "\n",
    "just two sample queries:\n",
    " 1. to find the total number in the database\n",
    " 2. to find the total number of entries in the database left to download\n",
    "'''\n",
    "\n",
    "con = None\n",
    "con = psycopg2.connect(database=dbname, user=username)\n",
    "print '  ', con\n",
    "\n",
    "\n",
    "sql_query = \"SELECT COUNT(*) FROM %s;\" % (boxscore_table_name)\n",
    "print sql_query\n",
    "try:\n",
    "    from_sql_query = pd.read_sql_query(sql_query, con)\n",
    "    print from_sql_query.head(5)\n",
    "except:\n",
    "    print '  games table, %s, does not exist' % boxscore_table_name\n",
    "\n",
    "sql_query = \"SELECT id, year FROM %s WHERE in_hand='%s' AND id >320000000;\" % (boxscore_table_name, 'yes')\n",
    "print sql_query\n",
    "try:\n",
    "    from_sql_query = pd.read_sql_query(sql_query, con)\n",
    "    print from_sql_query.head(5)\n",
    "except:\n",
    "    print '  games table, %s, does not exist' % boxscore_table_name\n",
    "\n",
    "\n",
    "\n",
    "\n"
   ]
  },
  {
   "cell_type": "code",
   "execution_count": null,
   "metadata": {
    "collapsed": true
   },
   "outputs": [],
   "source": []
  },
  {
   "cell_type": "markdown",
   "metadata": {
    "collapsed": true
   },
   "source": [
    "# For testing out the gamestats database"
   ]
  },
  {
   "cell_type": "code",
   "execution_count": 12,
   "metadata": {
    "collapsed": false
   },
   "outputs": [
    {
     "name": "stdout",
     "output_type": "stream",
     "text": [
      "   <connection object at 0x109a29770; dsn: 'dbname=ncaa_mbb_db user=smaug', closed: 0>\n",
      "SELECT COUNT(*) FROM stats;\n",
      "   count\n",
      "0     77\n",
      "SELECT pf, pts, ftm, fta, fgm FROM stats;\n",
      "   pf pts ftm fta fgm\n",
      "0   5  15   1   4   5\n",
      "1   2   9   1   2   4\n",
      "2   1  19  11  13   4\n",
      "3   3  11   0   0   5\n",
      "4   1  18  10  14   3\n",
      "5   2   0   0   0   0\n",
      "6   0   0   0   0   0\n",
      "7   0   0   0   0   0\n",
      "8   4   4   0   0   2\n",
      "9   2   0   0   0   0\n",
      "10  5  15   3   3   6\n",
      "11  5   4   0   0   2\n",
      "12  5  20   5   6   7\n",
      "13  4  10   2   3   4\n",
      "14  5   7   0   0   3\n"
     ]
    }
   ],
   "source": [
    "con = None\n",
    "con = psycopg2.connect(database=dbname, user=username)\n",
    "print '  ', con\n",
    "\n",
    "\n",
    "sql_query = \"SELECT COUNT(*) FROM %s;\" % (stats_table_name)\n",
    "print sql_query\n",
    "try:\n",
    "    from_sql_query = pd.read_sql_query(sql_query, con)\n",
    "    print from_sql_query.head(5)\n",
    "except:\n",
    "    print '  stats table, %s, does not exist' % stats_table_name\n",
    "\n",
    "\n",
    "#sql_query = \"select * from INFORMATION_SCHEMA.COLUMNS where TABLE_NAME='%s';\" % (stats_table_name)\n",
    "#sql_query = \"SELECT player, player_url, team_name, player_pos FROM %s;\" % (stats_table_name)\n",
    "sql_query = \"SELECT pf, pts, ftm, fta, fgm FROM %s;\" % (stats_table_name)\n",
    "\n",
    "\n",
    "print sql_query\n",
    "try:\n",
    "    from_sql_query = pd.read_sql_query(sql_query, con)\n",
    "    print from_sql_query.head(15)\n",
    "except:\n",
    "    print '  stats table, %s, does not exist' % stats_table_name\n",
    "\n",
    "\n"
   ]
  },
  {
   "cell_type": "code",
   "execution_count": null,
   "metadata": {
    "collapsed": true
   },
   "outputs": [],
   "source": []
  },
  {
   "cell_type": "code",
   "execution_count": null,
   "metadata": {
    "collapsed": true
   },
   "outputs": [],
   "source": []
  },
  {
   "cell_type": "code",
   "execution_count": null,
   "metadata": {
    "collapsed": true
   },
   "outputs": [],
   "source": []
  }
 ],
 "metadata": {
  "kernelspec": {
   "display_name": "Python 2",
   "language": "python",
   "name": "python2"
  },
  "language_info": {
   "codemirror_mode": {
    "name": "ipython",
    "version": 2
   },
   "file_extension": ".py",
   "mimetype": "text/x-python",
   "name": "python",
   "nbconvert_exporter": "python",
   "pygments_lexer": "ipython2",
   "version": "2.7.11"
  }
 },
 "nbformat": 4,
 "nbformat_minor": 0
}
