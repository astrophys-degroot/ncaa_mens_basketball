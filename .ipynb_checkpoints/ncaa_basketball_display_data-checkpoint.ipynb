{
 "cells": [
  {
   "cell_type": "code",
   "execution_count": 3,
   "metadata": {
    "collapsed": false
   },
   "outputs": [
    {
     "name": "stdout",
     "output_type": "stream",
     "text": [
      "\n"
     ]
    }
   ],
   "source": [
    "import sys\n",
    "import psycopg2\n",
    "\n",
    "import pandas as pd\n",
    "import numpy as np\n",
    "import matplotlib.pyplot as plt\n",
    "\n",
    "from sqlalchemy import create_engine\n",
    "from sqlalchemy_utils import database_exists, create_database\n"
   ]
  },
  {
   "cell_type": "code",
   "execution_count": 4,
   "metadata": {
    "collapsed": false
   },
   "outputs": [],
   "source": [
    "def load_data_db(sql_query):\n",
    "    \n",
    "    dbname = 'ncaa_mbb_db'\n",
    "    username = 'smaug'\n",
    "    #print '    database we are connecting to:', dbname\n",
    "    #engine = create_engine('postgres://%s@localhost/%s'%(username,dbname))\n",
    "    #print '    DB server:', engine.url\n",
    "\n",
    "    con = None\n",
    "    con = psycopg2.connect(database=dbname, user=username)\n",
    "    \n",
    "    #sql_query = \"\"\"\n",
    "    #SELECT COUNT(*) FROM games_table;\n",
    "    #\"\"\"\n",
    "    print sql_query\n",
    "    mbb_from_sql = pd.read_sql_query(sql_query, con)\n",
    "    print mbb_from_sql\n",
    "\n"
   ]
  },
  {
   "cell_type": "code",
   "execution_count": 5,
   "metadata": {
    "collapsed": true
   },
   "outputs": [],
   "source": [
    "def scatter_pts_vs_min(pts, min):\n",
    "    print 'now here'\n",
    "    \n",
    "    xs1 = mydata['MIN']\n",
    "    ys1 = mydata['PTS']\n",
    "    xs2 = mydata2['MIN']\n",
    "    ys2 = mydata2['PTS']\n",
    "    \n",
    "    #print mydata.keys()\n",
    "    #mydata.plot(kind='scatter', x=xs, y='PTS')\n",
    "    #mydata2.plot(kind='scatter', x=ys, y='PTS')\n",
    "\n",
    "    \n",
    "    plt.plot(xs1, ys1, 'ro', label='team1')\n",
    "    plt.plot(xs2, ys2, 'bo', label='team2')\n",
    "    plt.xlabel('Minutes Played')\n",
    "    plt.ylabel('Points Scored')\n",
    "    plt.title('Player Efficiency')\n",
    "    plt.legend(loc=2)\n",
    "\n",
    "\n",
    "    plt.show()"
   ]
  },
  {
   "cell_type": "code",
   "execution_count": 6,
   "metadata": {
    "collapsed": false
   },
   "outputs": [],
   "source": [
    "def main(heatmap=False):\n",
    "    print 'Now running: ', sys.argv[0]\n",
    "    \n",
    "    args = sys.argv[1:]\n",
    "    \n",
    "    \n",
    "    if heatmap is not False:\n",
    "        print '  Now making correlation heatmap'\n"
   ]
  },
  {
   "cell_type": "code",
   "execution_count": 7,
   "metadata": {
    "collapsed": false
   },
   "outputs": [
    {
     "name": "stdout",
     "output_type": "stream",
     "text": [
      "Now running:  /anaconda/lib/python2.7/site-packages/ipykernel/__main__.py\n"
     ]
    }
   ],
   "source": [
    "# boilerplate to execute call to main() function\n",
    "if __name__ == '__main__':\n",
    "    main()"
   ]
  },
  {
   "cell_type": "code",
   "execution_count": null,
   "metadata": {
    "collapsed": true
   },
   "outputs": [],
   "source": []
  },
  {
   "cell_type": "code",
   "execution_count": null,
   "metadata": {
    "collapsed": true
   },
   "outputs": [],
   "source": []
  }
 ],
 "metadata": {
  "kernelspec": {
   "display_name": "Python 2",
   "language": "python",
   "name": "python2"
  },
  "language_info": {
   "codemirror_mode": {
    "name": "ipython",
    "version": 2
   },
   "file_extension": ".py",
   "mimetype": "text/x-python",
   "name": "python",
   "nbconvert_exporter": "python",
   "pygments_lexer": "ipython2",
   "version": "2.7.11"
  }
 },
 "nbformat": 4,
 "nbformat_minor": 0
}
