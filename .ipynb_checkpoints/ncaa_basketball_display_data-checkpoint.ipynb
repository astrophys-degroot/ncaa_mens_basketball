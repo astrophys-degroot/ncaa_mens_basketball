{
 "cells": [
  {
   "cell_type": "code",
   "execution_count": 24,
   "metadata": {
    "collapsed": false
   },
   "outputs": [],
   "source": [
    "import sys\n",
    "import psycopg2\n",
    "\n",
    "import pandas as pd\n",
    "import numpy as np\n",
    "import matplotlib.pyplot as plt\n",
    "\n",
    "from sqlalchemy import create_engine\n",
    "from sqlalchemy_utils import database_exists, create_database\n"
   ]
  },
  {
   "cell_type": "code",
   "execution_count": 25,
   "metadata": {
    "collapsed": true
   },
   "outputs": [],
   "source": [
    "def load_data_csv(file, dirfile=None):\n",
    "    \n",
    "    if dirfile is not None:\n",
    "        file = dirfile + file\n",
    "    \n",
    "    data = pd.read_csv(file)\n",
    "    \n",
    "    return data"
   ]
  },
  {
   "cell_type": "code",
   "execution_count": 115,
   "metadata": {
    "collapsed": false
   },
   "outputs": [],
   "source": [
    "def load_data_db():\n",
    "    \n",
    "    dbname = 'ncaa_mbb_db'\n",
    "    username = 'smaug'\n",
    "    print '    database we are connecting to:', dbname\n",
    "    #engine = create_engine('postgres://%s@localhost/%s'%(username,dbname))\n",
    "    #print '    DB server:', engine.url\n",
    "\n",
    "    con = None\n",
    "    con = psycopg2.connect(database=dbname, user=username)\n",
    "    \n",
    "    sql_query = \"\"\"\n",
    "    SELECT COUNT(*) FROM games_table;\n",
    "    \"\"\"\n",
    "    print sql_query\n",
    "    mbb_from_sql = pd.read_sql_query(sql_query, con)\n",
    "    print mbb_from_sql\n",
    "\n",
    "\n",
    "    \n",
    "    sql_query = \"\"\"\n",
    "    SELECT * FROM games_table;\n",
    "    \"\"\"\n",
    "    print sql_query\n",
    "    mbb_from_sql = pd.read_sql_query(sql_query, con)\n",
    "    print mbb_from_sql.head(5)\n",
    "\n"
   ]
  },
  {
   "cell_type": "code",
   "execution_count": 116,
   "metadata": {
    "collapsed": true
   },
   "outputs": [],
   "source": [
    "def scatter_pts_vs_min(pts, min):\n",
    "    print 'now here'\n",
    "    \n",
    "    xs1 = mydata['MIN']\n",
    "    ys1 = mydata['PTS']\n",
    "    xs2 = mydata2['MIN']\n",
    "    ys2 = mydata2['PTS']\n",
    "    \n",
    "    #print mydata.keys()\n",
    "    #mydata.plot(kind='scatter', x=xs, y='PTS')\n",
    "    #mydata2.plot(kind='scatter', x=ys, y='PTS')\n",
    "\n",
    "    \n",
    "    plt.plot(xs1, ys1, 'ro', label='team1')\n",
    "    plt.plot(xs2, ys2, 'bo', label='team2')\n",
    "    plt.xlabel('Minutes Played')\n",
    "    plt.ylabel('Points Scored')\n",
    "    plt.title('Player Efficiency')\n",
    "    plt.legend(loc=2)\n",
    "\n",
    "\n",
    "    plt.show()"
   ]
  },
  {
   "cell_type": "code",
   "execution_count": 117,
   "metadata": {
    "collapsed": false
   },
   "outputs": [],
   "source": [
    "def main():\n",
    "    print 'Now running: ', sys.argv[0]\n",
    "    \n",
    "    args = sys.argv[1:]\n",
    "    if not args:\n",
    "        print 'Usage: [--whichdata string --dirfile string] file'\n",
    "        sys.exit(1)\n",
    "    \n",
    "    if args[0] == '--whichdata':\n",
    "        which_data = args[1]\n",
    "        del args[0:2]\n",
    "    else : which_data = 'db'\n",
    "\n",
    "    if args[0] == '--dirfile':\n",
    "        dir_file = args[1]\n",
    "        del args[0:2]\n",
    "    else : dir_file = 'boxscore_csv/'\n",
    "\n",
    "\n",
    "    if which_data == 'db':\n",
    "        print '  Looking in database for data...'\n",
    "        thing = load_data_db()\n",
    "        \n",
    "        \n",
    "    elif which_data == 'csv':\n",
    "        print ' Looking in .csv files for data...'\n",
    "\n",
    "        file = 'example1.csv'\n",
    "        mydata = load_data_csv(file, dirfile=dir_file)\n",
    "        file = 'example2.csv'\n",
    "        mydata2 = load_data_csv(file, dirfile=dir_file)\n",
    "   \n",
    "    else:\n",
    "        print \"WARNING!! 'whichdata' input not recognized!!\"\n",
    "    #help(mydata)\n",
    "    \n",
    " "
   ]
  },
  {
   "cell_type": "code",
   "execution_count": 118,
   "metadata": {
    "collapsed": false
   },
   "outputs": [
    {
     "name": "stdout",
     "output_type": "stream",
     "text": [
      "Now running:  /anaconda/lib/python2.7/site-packages/ipykernel/__main__.py\n",
      "  Looking in database for data...\n",
      "    database we are connecting to: ncaa_mbb_db\n",
      "\n",
      "    SELECT COUNT(*) FROM games_table;\n",
      "    \n",
      "   count\n",
      "0    111\n",
      "\n",
      "    SELECT * FROM games_table;\n",
      "    \n",
      "   index day         id month  \\\n",
      "0      0  23  400831523    01   \n",
      "1      1  23  400831524    01   \n",
      "2      2  23  400840311    01   \n",
      "3      3  23  400830919    01   \n",
      "4      4  23  400839325    01   \n",
      "\n",
      "                                                 url  year  \n",
      "0  http://espn.go.com/mens-college-basketball/box...  2016  \n",
      "1  http://espn.go.com/mens-college-basketball/box...  2016  \n",
      "2  http://espn.go.com/mens-college-basketball/box...  2016  \n",
      "3  http://espn.go.com/mens-college-basketball/box...  2016  \n",
      "4  http://espn.go.com/mens-college-basketball/box...  2016  \n"
     ]
    }
   ],
   "source": [
    "# boilerplate to execute call to main() function\n",
    "if __name__ == '__main__':\n",
    "    main()"
   ]
  },
  {
   "cell_type": "code",
   "execution_count": null,
   "metadata": {
    "collapsed": true
   },
   "outputs": [],
   "source": []
  },
  {
   "cell_type": "code",
   "execution_count": null,
   "metadata": {
    "collapsed": true
   },
   "outputs": [],
   "source": []
  }
 ],
 "metadata": {
  "kernelspec": {
   "display_name": "Python 2",
   "language": "python",
   "name": "python2"
  },
  "language_info": {
   "codemirror_mode": {
    "name": "ipython",
    "version": 2
   },
   "file_extension": ".py",
   "mimetype": "text/x-python",
   "name": "python",
   "nbconvert_exporter": "python",
   "pygments_lexer": "ipython2",
   "version": "2.7.11"
  }
 },
 "nbformat": 4,
 "nbformat_minor": 0
}
