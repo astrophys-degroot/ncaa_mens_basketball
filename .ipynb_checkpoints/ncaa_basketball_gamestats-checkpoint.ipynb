{
 "cells": [
  {
   "cell_type": "code",
   "execution_count": 1,
   "metadata": {
    "collapsed": false
   },
   "outputs": [],
   "source": [
    "#import our libraries\n",
    "import sys\n",
    "import time\n",
    "import psycopg2\n",
    "import pandas as pd\n",
    "import numpy as np\n",
    "import urllib2\n",
    "import re\n",
    "from bs4 import BeautifulSoup\n",
    "from sqlalchemy import create_engine\n",
    "from sqlalchemy_utils import database_exists, create_database\n",
    "\n"
   ]
  },
  {
   "cell_type": "code",
   "execution_count": 2,
   "metadata": {
    "collapsed": true
   },
   "outputs": [],
   "source": [
    "def load_boxscore_page():\n",
    "    print 'here also'"
   ]
  },
  {
   "cell_type": "code",
   "execution_count": 3,
   "metadata": {
    "collapsed": true
   },
   "outputs": [],
   "source": [
    "def load_snippet(filename=None, directory=None):\n",
    "\n",
    "    if filename is not None:\n",
    "        filename = str(filename)\n",
    "    else:\n",
    "        filename = 'sampleboxscorepage_snipet.txt'\n",
    "\n",
    "    if directory is not None:\n",
    "        directory = str(directory[0])\n",
    "    else:\n",
    "        directory = 'boxscore_pages/'\n",
    "\n",
    "    target = open(directory+filename, 'r')\n",
    "    soup = BeautifulSoup(target, 'lxml')\n",
    "\n",
    "    return soup"
   ]
  },
  {
   "cell_type": "code",
   "execution_count": 4,
   "metadata": {
    "collapsed": true
   },
   "outputs": [],
   "source": [
    "def bs_column_names(tag):\n",
    "    return tag.name == 'th' and tag.has_attr('width') "
   ]
  },
  {
   "cell_type": "code",
   "execution_count": 5,
   "metadata": {
    "collapsed": false
   },
   "outputs": [],
   "source": [
    "def get_column_names(namedata):\n",
    "    \n",
    "    column_names = []\n",
    "    for name in namedata.find_all(bs_column_names):\n",
    "        match = re.search('.*[A-Z]', str(name))\n",
    "        if name.get_text() not in column_names: \n",
    "            column_names.append(match.group(0).strip())\n",
    "\n",
    "    return column_names"
   ]
  },
  {
   "cell_type": "code",
   "execution_count": 6,
   "metadata": {
    "collapsed": true
   },
   "outputs": [],
   "source": [
    "def bs_column_data(tag):\n",
    "    return tag.name == 'td' and not tag.has_attr('style')"
   ]
  },
  {
   "cell_type": "code",
   "execution_count": 7,
   "metadata": {
    "collapsed": true
   },
   "outputs": [],
   "source": [
    "def get_column_data(datadata):\n",
    "\n",
    "    column_data = []\n",
    "    for data in datadata.find_all(bs_column_data):\n",
    "        match = re.search('.*[0-9]', str(data))\n",
    "        column_data.append(match.group(0).strip())\n",
    "\n",
    "    return column_data"
   ]
  },
  {
   "cell_type": "code",
   "execution_count": 8,
   "metadata": {
    "collapsed": false
   },
   "outputs": [],
   "source": [
    "def clean_player(mydict):\n",
    "    mykeys = mydict.keys()\n",
    "    myvals = mydict.values()\n",
    "\n",
    "    for ii in np.arange(len(mykeys)):\n",
    "        match_key = re.search('(.*?)-(.)', mykeys[ii])\n",
    "        match_value = re.search('(.*?)-(.*)', myvals[ii])\n",
    "        if match_key is not None:\n",
    "            mydict[match_key.group(1)] = match_value.group(1)\n",
    "            newkey = match_key.group(1)\n",
    "            newkey = newkey.replace(newkey[-1],match_key.group(2))\n",
    "            mydict[newkey] = match_value.group(2)\n",
    "    \n",
    "    return mydict"
   ]
  },
  {
   "cell_type": "code",
   "execution_count": 9,
   "metadata": {
    "collapsed": false
   },
   "outputs": [],
   "source": [
    "def build_player(bit1, alldict, team, data_columns):\n",
    " \n",
    "    #print bit1.prettify()\n",
    "    #team1_columns = get_column_names(bit1)\n",
    "    #print team1_columns\n",
    "    column_data = get_column_data(bit1)\n",
    "    #print column_data\n",
    "    matches = re.findall(', ([A-Z])', str(bit1))\n",
    "    #print matches\n",
    "\n",
    "\n",
    "    for player in bit1.find_all('a'):\n",
    "\n",
    "        #start a dictionaries\n",
    "        team1_dict1 = {'team_name':team, 'player':'', 'player_pos':'', 'player_url':''}\n",
    "        team1_dict2 = {}\n",
    "\n",
    "        #start filling dictionaries\n",
    "        team1_dict1['player_url'] = player['href']\n",
    "        team1_dict1['player'] = player.get_text().strip()\n",
    "        team1_dict1['player_pos'] = matches[0]\n",
    "        del matches[0]\n",
    "        #print team1_dict1\n",
    "   \n",
    "        for column in data_columns:\n",
    "            team1_dict2[column] = column_data[0]\n",
    "            del column_data[0]\n",
    "        #print team1_dict2     \n",
    "\n",
    "        #combine the two dictionaries\n",
    "        finaldict = team1_dict1.copy()\n",
    "        finaldict.update(team1_dict2)\n",
    "        finaldict = clean_player(finaldict)\n",
    "        alldict.append(finaldict)\n",
    "    \n",
    "    return alldict\n"
   ]
  },
  {
   "cell_type": "code",
   "execution_count": 10,
   "metadata": {
    "collapsed": false
   },
   "outputs": [],
   "source": [
    "def build_box_score(soup):\n",
    "\n",
    "    alldict1 = []    \n",
    "    box_score = soup.body.div.table\n",
    "    \n",
    "    #begin with the first team\n",
    "    bit1 = box_score.contents[1]\n",
    "    team = bit1.th.get_text()\n",
    "    team = team.strip()\n",
    "    data_columns = get_column_names(bit1)\n",
    "    alldict1 = build_player(box_score.contents[3], alldict1, team, data_columns)\n",
    "    alldict1 = build_player(box_score.contents[5], alldict1, team, data_columns)\n",
    "\n",
    "    #now do the second team\n",
    "    bit1 = box_score.contents[11]\n",
    "    team = bit1.th.get_text()\n",
    "    team = team.strip()\n",
    "    data_columns = get_column_names(bit1)\n",
    "    alldict1 = build_player(box_score.contents[13], alldict1, team, data_columns)\n",
    "    alldict1 = build_player(box_score.contents[15], alldict1, team, data_columns)\n",
    "\n",
    "    return alldict1"
   ]
  },
  {
   "cell_type": "code",
   "execution_count": 11,
   "metadata": {
    "collapsed": false
   },
   "outputs": [],
   "source": [
    "def write_boxscore(outdict, which=None):\n",
    "\n",
    "    if which is not None:\n",
    "        which = int(which)\n",
    "    else: \n",
    "        which = 1\n",
    "\n",
    "    if which == 1:\n",
    "        df_team1 = pd.DataFrame.from_records(outdict)\n",
    "        df_team1.to_csv('boxscore_csv/example1.csv')\n",
    "    \n",
    "    if which == 2:\n",
    "        df_team2 = pd.DataFrame.from_records(outdict)\n",
    "        df_team2.to_csv('boxscore_csv/example2.csv')"
   ]
  },
  {
   "cell_type": "code",
   "execution_count": 662,
   "metadata": {
    "collapsed": false
   },
   "outputs": [],
   "source": [
    "def main():\n",
    "    \n",
    "    fir = 'sampleboxscorepage_snipet'\n",
    "    sec = 'sampleboxscorepage2_snipet.txt'\n",
    "    soup = load_snippet(sec)\n",
    "    #print soup.prettify()\n",
    "    \n",
    "    outdict = build_box_score(soup)\n",
    "    \n",
    "    #write_boxscore(outdict, which=1)    \n",
    "    write_boxscore(outdict, which=2)    \n",
    "\n"
   ]
  },
  {
   "cell_type": "code",
   "execution_count": 663,
   "metadata": {
    "collapsed": false,
    "scrolled": false
   },
   "outputs": [],
   "source": [
    "# boilerplate to execute call to main() function\n",
    "if __name__ == '__main__':\n",
    "    main()"
   ]
  },
  {
   "cell_type": "code",
   "execution_count": null,
   "metadata": {
    "collapsed": true
   },
   "outputs": [],
   "source": []
  },
  {
   "cell_type": "code",
   "execution_count": null,
   "metadata": {
    "collapsed": true
   },
   "outputs": [],
   "source": []
  },
  {
   "cell_type": "code",
   "execution_count": null,
   "metadata": {
    "collapsed": true
   },
   "outputs": [],
   "source": []
  }
 ],
 "metadata": {
  "kernelspec": {
   "display_name": "Python 2",
   "language": "python",
   "name": "python2"
  },
  "language_info": {
   "codemirror_mode": {
    "name": "ipython",
    "version": 2
   },
   "file_extension": ".py",
   "mimetype": "text/x-python",
   "name": "python",
   "nbconvert_exporter": "python",
   "pygments_lexer": "ipython2",
   "version": "2.7.11"
  }
 },
 "nbformat": 4,
 "nbformat_minor": 0
}
