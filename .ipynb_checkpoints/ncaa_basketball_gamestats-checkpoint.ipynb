{
 "cells": [
  {
   "cell_type": "code",
   "execution_count": 765,
   "metadata": {
    "collapsed": false
   },
   "outputs": [],
   "source": [
    "#import our libraries\n",
    "import sys\n",
    "import time\n",
    "import psycopg2\n",
    "import pandas as pd\n",
    "import numpy as np\n",
    "import urllib2\n",
    "import re\n",
    "from bs4 import BeautifulSoup\n",
    "from sqlalchemy import create_engine\n",
    "from sqlalchemy_utils import database_exists, create_database\n",
    "\n"
   ]
  },
  {
   "cell_type": "code",
   "execution_count": 766,
   "metadata": {
    "collapsed": true
   },
   "outputs": [],
   "source": [
    "def make_it_lower(array):\n",
    "    \n",
    "    new_array = []\n",
    "    for item in array:\n",
    "        new_array.append(item.lower())\n",
    "        \n",
    "    return new_array"
   ]
  },
  {
   "cell_type": "code",
   "execution_count": 767,
   "metadata": {
    "collapsed": true
   },
   "outputs": [],
   "source": [
    "def bs_column_names(tag):\n",
    "    return tag.name == 'th' and tag.has_attr('width') "
   ]
  },
  {
   "cell_type": "code",
   "execution_count": 768,
   "metadata": {
    "collapsed": true
   },
   "outputs": [],
   "source": [
    "def get_column_names(namedata):\n",
    "    \n",
    "    column_names = []\n",
    "    for name in namedata.find_all(bs_column_names):\n",
    "        try:\n",
    "            match = re.search('([A-Z3].*[A-Z])', str(name))\n",
    "            #if name.get_text() not in column_names: \n",
    "            if match.group(0).strip() not in column_names: \n",
    "                column_names.append(match.group(0).strip())\n",
    "        except:\n",
    "            a = 1\n",
    "            \n",
    "    return column_names"
   ]
  },
  {
   "cell_type": "code",
   "execution_count": 769,
   "metadata": {
    "collapsed": true
   },
   "outputs": [],
   "source": [
    "def bs_column_data(tag):\n",
    "    return tag.name == 'td' and not tag.has_attr('style')"
   ]
  },
  {
   "cell_type": "code",
   "execution_count": 770,
   "metadata": {
    "collapsed": true
   },
   "outputs": [],
   "source": [
    "def get_column_data(datadata):\n",
    "\n",
    "    column_data = []\n",
    "    for data in datadata.find_all(bs_column_data):\n",
    "        try:\n",
    "            match = re.search('[0-9]*[0-9\\-]*[0-9\\-]*[0-9\\-]', str(data))\n",
    "            column_data.append(match.group(0).strip())\n",
    "        except:\n",
    "            a = 1 \n",
    "            \n",
    "    return column_data"
   ]
  },
  {
   "cell_type": "code",
   "execution_count": 771,
   "metadata": {
    "collapsed": true
   },
   "outputs": [],
   "source": [
    "def clean_player(mydict):\n",
    "    mykeys = mydict.keys()\n",
    "    myvals = mydict.values()\n",
    "\n",
    "    for ii in np.arange(len(mykeys)):\n",
    "        match_key = re.search('(.*?)-(.)', mykeys[ii])\n",
    "        match_value = re.search('(.*?)-(.*)', myvals[ii])\n",
    "        \n",
    "        #### figure out why the 3 pointer isnt tranlating \n",
    "        \n",
    "        if match_key is not None:\n",
    "            checking = re.search('^3', match_key.group(1))\n",
    "            if checking is None:\n",
    "                thatkey = match_key.group(1)\n",
    "            else:\n",
    "                thatkey = match_key.group(1)\n",
    "                thatkey = thatkey.replace('3','t')\n",
    "                \n",
    "            #print match_key.group(1), match_value.group(1)\n",
    "            mydict[thatkey] = match_value.group(1)\n",
    "            newkey = thatkey\n",
    "            newkey = newkey.replace(newkey[-1],match_key.group(2))\n",
    "            #print newkey, match_value.group(2) \n",
    "            mydict[newkey] = match_value.group(2) \n",
    "       \n",
    "    return mydict"
   ]
  },
  {
   "cell_type": "code",
   "execution_count": 772,
   "metadata": {
    "collapsed": false
   },
   "outputs": [],
   "source": [
    "def build_player(bit1, alldict, team, data_columns, gameid):\n",
    " \n",
    "    #print bit1.prettify()\n",
    "    #team1_columns = get_column_names(bit1)\n",
    "    #print team1_columns\n",
    "    column_data = get_column_data(bit1)\n",
    "    #print column_data\n",
    "    matches = re.findall(', ([A-Z])', str(bit1))\n",
    "    #print matches\n",
    "\n",
    "\n",
    "    for player in bit1.find_all('a'):\n",
    "\n",
    "        #start a dictionaries\n",
    "        team1_dict1 = {'team_name':team, 'player':'', 'player_pos':'', 'player_url':'', 'game_id':str(gameid)}\n",
    "        team1_dict2 = {}\n",
    "\n",
    "        #start filling dictionaries\n",
    "        team1_dict1['player_url'] = player['href']\n",
    "        team1_dict1['player'] = player.get_text().replace(r'\\n', '').strip()\n",
    "        team1_dict1['player_pos'] = matches[0]\n",
    "        del matches[0]\n",
    "        #print team1_dict1\n",
    "   \n",
    "        for column in data_columns:\n",
    "            #print column\n",
    "            #print column_data[0]\n",
    "            team1_dict2[column] = column_data[0]\n",
    "            del column_data[0]\n",
    "        #print team1_dict2     \n",
    "\n",
    "        #combine the two dictionaries\n",
    "        finaldict = team1_dict1.copy()\n",
    "        finaldict.update(team1_dict2)\n",
    "        finaldict = clean_player(finaldict)\n",
    "        #print finaldict\n",
    "        #print ''\n",
    "        alldict.append(finaldict)\n",
    "    \n",
    "\n",
    "        #print alldict[0]['tpa'], alldict[0]['tpm']\n",
    "        #print alldict\n",
    "        #print ''\n",
    "    return alldict"
   ]
  },
  {
   "cell_type": "code",
   "execution_count": 773,
   "metadata": {
    "collapsed": true
   },
   "outputs": [],
   "source": [
    "def build_box_score(soup, gameid):\n",
    "\n",
    "    if gameid > 400496833:\n",
    "        inds = [1,3,5,11,13,15]\n",
    "    else:\n",
    "        inds = [1,3,7,13,15,19]\n",
    "    \n",
    "    alldict1 = []\n",
    "    try:\n",
    "        box_score = soup.body.div.table\n",
    "\n",
    "        #begin with the first team\n",
    "        bit1 = box_score.contents[inds[0]]\n",
    "        team = bit1.th.get_text()\n",
    "        team = team.replace(r'\\n', '')\n",
    "        team = team.strip()\n",
    "        data_columns = get_column_names(bit1)\n",
    "        data_columns = make_it_lower(data_columns)   \n",
    "        alldict1 = build_player(box_score.contents[inds[1]], alldict1, team, data_columns, gameid)\n",
    "        #print alldict1\n",
    "        #print '**************'\n",
    "        alldict1 = build_player(box_score.contents[inds[2]], alldict1, team, data_columns, gameid)\n",
    "        \n",
    "        #now do the second team\n",
    "        bit1 = box_score.contents[inds[3]]\n",
    "        team = bit1.th.get_text()\n",
    "        team = team.replace(r'\\n', '')\n",
    "        team = team.strip()        \n",
    "        data_columns = get_column_names(bit1)\n",
    "        data_columns = make_it_lower(data_columns)\n",
    "        alldict1 = build_player(box_score.contents[inds[4]], alldict1, team, data_columns, gameid)\n",
    "        alldict1 = build_player(box_score.contents[inds[5]], alldict1, team, data_columns, gameid)\n",
    "    except:\n",
    "        alldict1 = []\n",
    "        \n",
    "    return alldict1"
   ]
  },
  {
   "cell_type": "code",
   "execution_count": 774,
   "metadata": {
    "collapsed": true
   },
   "outputs": [],
   "source": [
    "def get_med_dir(my_con, boxscore_table_name, id):\n",
    "    '''\n",
    "    function to return a directory folder based on \n",
    "    specified user inputs and knowledge of the games db.\n",
    "    \n",
    "    my_con: connection to Postgres server\n",
    "    boxscore_table_name: name of table on Postgres server to query\n",
    "    id: unique ESPN game id to find month and year of\n",
    "    '''\n",
    "    \n",
    "    \n",
    "    sql_query = \" SELECT year, month FROM %s WHERE id=%s; \" % (boxscore_table_name, id)\n",
    "    #print sql_query\n",
    "    try:\n",
    "        from_sql_query = pd.read_sql_query(sql_query, my_con)\n",
    "        #print from_sql_query.head(5)\n",
    "    except:\n",
    "        print '  games table, %s, does not exist' % boxscore_table_name\n",
    "\n",
    "    month = from_sql_query['month'][0]\n",
    "    year = from_sql_query['year'][0]\n",
    "    if int(month) > 7:\n",
    "        med_dir = str(year) + '-' + str(int(year)+1) + '/'\n",
    "    else:\n",
    "        med_dir = str(int(year)-1) + '-' + str(year) + '/'\n",
    "\n",
    "    return med_dir"
   ]
  },
  {
   "cell_type": "code",
   "execution_count": 775,
   "metadata": {
    "collapsed": true
   },
   "outputs": [],
   "source": [
    "def create_snippet(file_in, file_out=None):\n",
    "    \n",
    "    \n",
    "    if file_out is None:\n",
    "        file_out = 'temp.txt'\n",
    "    else:\n",
    "        file_out = str(file_out)\n",
    "    \n",
    "    #print 'File in:', file_in\n",
    "    #print 'File out:', file_out\n",
    "    \n",
    "    #read in entire web page\n",
    "    target = open(file_in, 'r')\n",
    "    text = target.read()\n",
    "    target.close()\n",
    "    \n",
    "    #apply BS\n",
    "    soup = BeautifulSoup(text, 'lxml')\n",
    "    box_score = soup.div(id='my-players-table')\n",
    "\n",
    "    #read the file back in\n",
    "    target = open(file_out, 'w')\n",
    "    text = target.write(str(box_score))\n",
    "    target.close()\n",
    "    \n",
    "    #reapply BS - makes the structure a bit more managable \n",
    "    #  and hopefully consistent :|\n",
    "    target = open(file_out, 'r')\n",
    "    text = target.read()\n",
    "    target.close()\n",
    "    soup = BeautifulSoup(text, 'lxml')\n",
    "    \n",
    "    #resave file with better structure\n",
    "    #target = open(file_out, 'w')\n",
    "    #text = target.write(str(soup.prettify()))\n",
    "    #target.close()\n",
    "\n",
    "    return soup"
   ]
  },
  {
   "cell_type": "code",
   "execution_count": 776,
   "metadata": {
    "collapsed": true
   },
   "outputs": [],
   "source": [
    "def start_games_db(dbname, username):\n",
    "    print '  Firing up the data base.'\n",
    "    \n",
    "    engine = create_engine('postgres://%s@localhost/%s'%(username,dbname))\n",
    "    print '    DB url:', engine.url\n",
    "    db_exist = database_exists(engine.url)\n",
    "    if not db_exist:\n",
    "        create_database(engine.url)\n",
    "    print '    DB exists? %s' % db_exist\n",
    "    \n",
    "    out_dict = {'dbname':dbname, 'username':username, \n",
    "                'exists':db_exist, 'engine_url':engine.url, 'engine':engine}\n",
    "    \n",
    "    return out_dict"
   ]
  },
  {
   "cell_type": "code",
   "execution_count": 777,
   "metadata": {
    "collapsed": false
   },
   "outputs": [],
   "source": [
    "def query_boxscore_db(my_con, boxscore_table_name):\n",
    "    print '    Now getting games for which to find stats.'\n",
    "    \n",
    "    #sql_query = \" SELECT id FROM %s WHERE in_hand='%s' and id>284000064; \" % (boxscore_table_name, 'yes')\n",
    "    #first game 2013 seson\n",
    "    #sql_query = \" SELECT id FROM %s WHERE in_hand='%s' and id>400496833; \" % (boxscore_table_name, 'yes') \n",
    "\n",
    "    sql_query = \" SELECT id FROM %s WHERE in_hand='%s' and id BETWEEN \" % (boxscore_table_name, 'yes')\n",
    "    #sql_query = sql_query + \"400585667 AND 400788981; \"  # for 2014-2015 season\n",
    "    sql_query = sql_query + \"400496833 AND 400551235; \"  # for 2013-2014 season\n",
    "\n",
    "\n",
    "\n",
    "    print sql_query\n",
    "    try:\n",
    "        from_sql_query = pd.read_sql_query(sql_query, my_con)\n",
    "        #print from_sql_query.head(5)\n",
    "    except:\n",
    "        print '  games table, %s, does not exist' % boxscore_table_name\n",
    "\n",
    "    \n",
    "    return from_sql_query"
   ]
  },
  {
   "cell_type": "code",
   "execution_count": 778,
   "metadata": {
    "collapsed": true
   },
   "outputs": [],
   "source": [
    "def make_gamestats_db(reset, dataframe, db_connect, stats_table):\n",
    "    \n",
    "    #print reset\n",
    "    #print dataframe\n",
    "    #print stats_table\n",
    "    #print db_connect\n",
    "    \n",
    "    if reset == 1:\n",
    "        my_if_exists = 'replace'\n",
    "    else:\n",
    "        my_if_exists = 'append'\n",
    "    \n",
    "    #print my_if_exists\n",
    "    dataframe.to_sql(stats_table, db_connect['engine'], if_exists=my_if_exists)\n",
    "\n",
    "    reset = 0 #now it will append instead of replacing\n",
    "    return reset"
   ]
  },
  {
   "cell_type": "code",
   "execution_count": null,
   "metadata": {
    "collapsed": false
   },
   "outputs": [],
   "source": [
    "def main(remake_db=False):\n",
    "    \n",
    "    dbname = 'ncaa_mbb_db'\n",
    "    username = 'smaug'\n",
    "\n",
    "    boxscore_dir = 'boxscore_pages/'\n",
    "    boxscore_file = 'ncaa_mbb_boxscore_DDDDDDDDD.txt'\n",
    "    boxscore_table_name = 'games'\n",
    "\n",
    "    #make sure you change the table name!!!!!\n",
    "    stats_table_name = 'stats1314'\n",
    "    sys.exit(0)\n",
    "\n",
    "    reset = 1\n",
    "    if remake_db:\n",
    "        print '  Now remaking the statistics database.'\n",
    "        \n",
    "        #fire up the database engine\n",
    "        db_connect = start_games_db(dbname, username)\n",
    "        #print db_engine\n",
    "        \n",
    "        #get a connection to the database\n",
    "        my_con = None\n",
    "        my_con = psycopg2.connect(database=dbname, user=username)\n",
    "        #print my_con\n",
    "        \n",
    "        \n",
    "        #query the boxscore database\n",
    "        games_to_get = query_boxscore_db(my_con, boxscore_table_name)\n",
    "        #print len(games_to_get)\n",
    "\n",
    "        cnt = 1\n",
    "        alldict = [] #this is a guess!!!!\n",
    "        team = 'unknown'#this is a guess!!!!\n",
    "        for game_to_get in games_to_get['id']:\n",
    "            print game_to_get\n",
    "\n",
    "            med_dir = get_med_dir(my_con, boxscore_table_name, game_to_get)    \n",
    "            this_file = (boxscore_dir + med_dir + \n",
    "                        boxscore_file.replace('DDDDDDDDD', str(game_to_get)))\n",
    "            this_game = create_snippet(this_file)\n",
    "            #print this_game\n",
    "            \n",
    "            my_boxscore = build_box_score(this_game, game_to_get)\n",
    "            if my_boxscore != []:\n",
    "                df_team1 = pd.DataFrame.from_records(my_boxscore)\n",
    "\n",
    "                df_team1 = df_team1.drop('3pm-a', 1)\n",
    "                df_team1 = df_team1.drop('fgm-a', 1)\n",
    "                df_team1 = df_team1.drop('ftm-a', 1)\n",
    "                \n",
    "                home_away = []\n",
    "                away_score = 0\n",
    "                home_score = 0\n",
    "                for ii in np.arange(len(df_team1.loc[:,'team_name'])):\n",
    "                    chk = df_team1.loc[ii,'team_name'] == df_team1.loc[0,'team_name']\n",
    "                    if chk:\n",
    "                        home_away.append('A')\n",
    "                        away_score = away_score + int(df_team1.loc[ii,'pts'])\n",
    "                    else:\n",
    "                        home_away.append('H')\n",
    "                        home_score = home_score + int(df_team1.loc[ii,'pts'])\n",
    "\n",
    "                df_team1['ha'] = home_away\n",
    "                if away_score > home_score:\n",
    "                    wls = ['w', 'l']\n",
    "                else:\n",
    "                    wls = ['l', 'w']\n",
    "                \n",
    "                win_loss = []\n",
    "                for ii in np.arange(len(df_team1.loc[:,'team_name'])):\n",
    "                    chk = df_team1.loc[ii,'team_name'] == df_team1.loc[0,'team_name']\n",
    "                    if chk:\n",
    "                        win_loss.append(wls[0])\n",
    "                    else:\n",
    "                        win_loss.append(wls[1])\n",
    "\n",
    "                df_team1['wl'] = win_loss\n",
    "                               \n",
    "                #df_team1.to_csv('example1.csv')\n",
    "                #df_team2 = pd.DataFrame.from_csv('example1.csv')\n",
    "                #print df_team2\n",
    "\n",
    "                #print df_team1\n",
    "                reset = make_gamestats_db(reset, df_team1, \n",
    "                                          db_connect, stats_table_name)\n",
    "\n",
    "            #if cnt >=3:\n",
    "            #    sys.exit(0)\n",
    "            #cnt = cnt + 1\n"
   ]
  },
  {
   "cell_type": "code",
   "execution_count": null,
   "metadata": {
    "collapsed": false,
    "scrolled": true
   },
   "outputs": [
    {
     "name": "stdout",
     "output_type": "stream",
     "text": [
      "  Now remaking the statistics database.\n",
      "  Firing up the data base.\n",
      "    DB url: postgres://smaug@localhost/ncaa_mbb_db\n",
      "    DB exists? True\n",
      "    Now getting games for which to find stats.\n",
      " SELECT id FROM games WHERE in_hand='yes' and id BETWEEN 400496833 AND 400551235; \n",
      "400498440\n",
      "400503854\n",
      "400502661\n",
      "400498234\n",
      "400502902\n",
      "400509954\n",
      "400502660\n",
      "400498235\n",
      "400499019\n",
      "400502665\n",
      "400499955\n",
      "400504456\n",
      "400496834\n",
      "400507033\n",
      "400504457\n",
      "400502663\n",
      "400506587\n",
      "400502662\n",
      "400506824\n",
      "400507725\n",
      "400499517\n",
      "400507707\n",
      "400498434\n",
      "400498238\n",
      "400499215\n",
      "400499219\n",
      "400502658\n",
      "400498435\n",
      "400498436\n",
      "400498439\n",
      "400498442\n",
      "400498694\n",
      "400499020\n",
      "400499021\n",
      "400499216\n",
      "400499218\n",
      "400499220\n",
      "400499518\n",
      "400499522\n",
      "400499752\n",
      "400502485\n",
      "400502487\n",
      "400502659\n",
      "400502664\n",
      "400504208\n",
      "400504209\n",
      "400507740\n",
      "400508059\n",
      "400508183\n",
      "400496836"
     ]
    }
   ],
   "source": [
    "# boilerplate to execute call to main() function\n",
    "if __name__ == '__main__':\n",
    "    main(remake_db=True)"
   ]
  },
  {
   "cell_type": "code",
   "execution_count": null,
   "metadata": {
    "collapsed": true
   },
   "outputs": [],
   "source": []
  },
  {
   "cell_type": "code",
   "execution_count": null,
   "metadata": {
    "collapsed": true
   },
   "outputs": [],
   "source": []
  },
  {
   "cell_type": "code",
   "execution_count": null,
   "metadata": {
    "collapsed": true
   },
   "outputs": [],
   "source": []
  },
  {
   "cell_type": "code",
   "execution_count": null,
   "metadata": {
    "collapsed": true
   },
   "outputs": [],
   "source": []
  },
  {
   "cell_type": "code",
   "execution_count": null,
   "metadata": {
    "collapsed": true
   },
   "outputs": [],
   "source": []
  }
 ],
 "metadata": {
  "kernelspec": {
   "display_name": "Python 2",
   "language": "python",
   "name": "python2"
  },
  "language_info": {
   "codemirror_mode": {
    "name": "ipython",
    "version": 2
   },
   "file_extension": ".py",
   "mimetype": "text/x-python",
   "name": "python",
   "nbconvert_exporter": "python",
   "pygments_lexer": "ipython2",
   "version": "2.7.11"
  }
 },
 "nbformat": 4,
 "nbformat_minor": 0
}
