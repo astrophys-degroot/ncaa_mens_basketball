{
 "cells": [
  {
   "cell_type": "code",
   "execution_count": 1,
   "metadata": {
    "collapsed": true
   },
   "outputs": [],
   "source": [
    "import sys\n",
    "import pandas as pd\n",
    "import numpy as np\n",
    "\n",
    "from sklearn.decomposition import PCA\n",
    "\n",
    "from sqlalchemy import create_engine\n",
    "from sqlalchemy_utils import database_exists, create_database\n",
    "import psycopg2"
   ]
  },
  {
   "cell_type": "markdown",
   "metadata": {},
   "source": [
    "### There are some issues that we need to deal with in our two stats databases\n",
    "#### Some of the differences are related to ESPN altering their boxscore format slightly between 2012-2013 season and the 2013-2014 season\n",
    "\n",
    "##### To change 'stats' table we do the following\n",
    "1. add a DREB column = REB col - OREB col\n",
    "2. add a 2PM, 2PA columns = FGM, FGA - 3PM, 3PA\n",
    "3. add a ppm column = pts col / min col\n",
    "4. add a W/L column based on total points\n",
    "\n",
    "##### To change 'stats2' table we do the following\n",
    "1. add a REB column = OREG + DREB\n",
    "2. add a 2PM, 2PA columns = FGM, FGA - 3PM, 3PA\n",
    "3. add a ppm column = pts col / min col\n",
    "4. add a W/L column based on total points\n",
    "\n"
   ]
  },
  {
   "cell_type": "code",
   "execution_count": 2,
   "metadata": {
    "collapsed": false
   },
   "outputs": [],
   "source": [
    "# Connect to the Postgres database\n",
    "\n",
    "username = 'smaug'\n",
    "dbname = 'ncaa_mbb_db'\n",
    "\n",
    "con = None\n",
    "con = psycopg2.connect(database=dbname, user=username)\n",
    "\n",
    "\n"
   ]
  },
  {
   "cell_type": "code",
   "execution_count": 56,
   "metadata": {
    "collapsed": false
   },
   "outputs": [
    {
     "name": "stdout",
     "output_type": "stream",
     "text": [
      "   count\n",
      "0  11858\n",
      "\n",
      "   ast  blk  dreb  fga  fgm  fta  ftm  oreb  pf  pts  reb  stl  to  tpa  tpm  \\\n",
      "0   11    3    14   50   23    8    7     7  14   54   21    3  16    7    1   \n",
      "1   13    5    21   44   17   27   20     1  19   60   22    7  21   19    6   \n",
      "2   10    3    13   53   19   13   11     6  15   56   19   10  12   16    7   \n",
      "3   12    4    15   45   22   21   13     5  20   61   20    7  14   16    4   \n",
      "4   11    2    18   59   31   16   10     3  27   81   21    4  11   22    9   \n",
      "\n",
      "      fgper     tpper  \n",
      "0  0.460000  0.142857  \n",
      "1  0.386364  0.315789  \n",
      "2  0.358491  0.437500  \n",
      "3  0.488889  0.250000  \n",
      "4  0.525424  0.409091  \n",
      "\n",
      "Explained variance ratio:  [  4.41939998e-01   1.93288629e-01   1.17874110e-01   7.13323575e-02\n",
      "   5.09455418e-02   3.88204475e-02   2.45558593e-02   1.60664175e-02\n",
      "   1.52432363e-02   1.07103184e-02   8.71654046e-03   6.28250240e-03\n",
      "   4.22114068e-03   2.68125151e-06   2.20305528e-07   7.62254681e-32\n",
      "   3.46073382e-32]\n",
      "\n"
     ]
    }
   ],
   "source": [
    "#deal with 'stats' database\n",
    "\n",
    "#a simple query to see how many entries we have\n",
    "sql_query = \"SELECT COUNT(*) FROM %s;\" % ('teams1415')\n",
    "from_sql_query = pd.read_sql_query(sql_query, con)\n",
    "print from_sql_query\n",
    "print ''\n",
    "\n",
    "#a query to get minutes and points\n",
    "sql_query = '''\n",
    "            SELECT * \n",
    "              FROM %s LEFT JOIN %s ON (%s.wl=%s.wl);\n",
    "            ''' % ('teams1415', 'winloss', 'teams1415', 'winloss')\n",
    "from_sql_query = pd.read_sql_query(sql_query, con)\n",
    "\n",
    "for_pca = from_sql_query\n",
    "for_pca = for_pca.drop(['wl', 'ha', 'team_name', 'index', 'game_id', 'min', 'wl_int'], 1)\n",
    "for_pca = for_pca.drop([], 1)\n",
    "for_pca = for_pca.drop(['ftper'], 1)\n",
    "\n",
    "print for_pca.head(5)\n",
    "print ''\n",
    "\n",
    "XS = for_pca.as_matrix()\n",
    "#print XS[0:5]\n",
    "\n",
    "pca = PCA()\n",
    "chk = pca.fit(XS)\n",
    "print 'Explained variance ratio: ', pca.explained_variance_ratio_ \n",
    "#print pca.components_\n",
    "print ''\n",
    "#print pca.get_covariance()\n",
    "\n",
    "#print pca.get_params()\n",
    "#newthing = pca.transform(XS)\n",
    "#print newthing[0:5]\n",
    "\n",
    "\n",
    "\n",
    "\n"
   ]
  },
  {
   "cell_type": "markdown",
   "metadata": {
    "collapsed": true
   },
   "source": [
    "### Example of sklearn Principle Component Analysis (PCA)\n",
    "\n"
   ]
  },
  {
   "cell_type": "code",
   "execution_count": 44,
   "metadata": {
    "collapsed": false
   },
   "outputs": [
    {
     "data": {
      "text/plain": [
       "\"\\n\\nX = np.array([[-1, -10], [-2, -1], [-3, 2], [1, -1], [2, 1], [3, 10]])\\nprint X\\n\\npca = PCA(n_components=2)\\n\\nchk = pca.fit(X)\\nprint pca.explained_variance_ratio_ \\n\\nprint pca.get_covariance()\\nprint ''\\nprint pca.get_precision()\\n\\nprint pca.score(X)\\n\\n\\n\\n\""
      ]
     },
     "execution_count": 44,
     "metadata": {},
     "output_type": "execute_result"
    }
   ],
   "source": [
    "'''\n",
    "\n",
    "X = np.array([[-1, -10], [-2, -1], [-3, 2], [1, -1], [2, 1], [3, 10]])\n",
    "print X\n",
    "\n",
    "pca = PCA(n_components=2)\n",
    "\n",
    "chk = pca.fit(X)\n",
    "print pca.explained_variance_ratio_ \n",
    "\n",
    "print pca.get_covariance()\n",
    "print ''\n",
    "print pca.get_precision()\n",
    "\n",
    "print pca.score(X)\n",
    "\n",
    "\n",
    "\n",
    "'''\n",
    "\n",
    "\n"
   ]
  },
  {
   "cell_type": "markdown",
   "metadata": {},
   "source": [
    "#possible future feature engineering to think about\n",
    "\n",
    "try:\n",
    "    cur = con.cursor()\n",
    "    cur.execute(\"ALTER TABLE %s ADD %s DEC(5,3);\" % ('stats', 'ppm'))        \n",
    "    con.commit()\n",
    "except psycopg2.DatabaseError, e:\n",
    "    if con:\n",
    "        con.rollback()\n",
    "    print 'Error %s' % e    \n",
    "\n",
    "sql_query = \"SELECT min, pts, ppm FROM %s;\" % ('stats')\n",
    "from_sql_query = pd.read_sql_query(sql_query, con)\n",
    "print from_sql_query.head(5)\n",
    "\n",
    "\n"
   ]
  },
  {
   "cell_type": "code",
   "execution_count": null,
   "metadata": {
    "collapsed": true
   },
   "outputs": [],
   "source": []
  },
  {
   "cell_type": "code",
   "execution_count": null,
   "metadata": {
    "collapsed": true
   },
   "outputs": [],
   "source": []
  }
 ],
 "metadata": {
  "kernelspec": {
   "display_name": "Python 2",
   "language": "python",
   "name": "python2"
  },
  "language_info": {
   "codemirror_mode": {
    "name": "ipython",
    "version": 2
   },
   "file_extension": ".py",
   "mimetype": "text/x-python",
   "name": "python",
   "nbconvert_exporter": "python",
   "pygments_lexer": "ipython2",
   "version": "2.7.11"
  }
 },
 "nbformat": 4,
 "nbformat_minor": 0
}
