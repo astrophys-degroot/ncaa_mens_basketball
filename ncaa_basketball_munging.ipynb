{
 "cells": [
  {
   "cell_type": "code",
   "execution_count": 3,
   "metadata": {
    "collapsed": true
   },
   "outputs": [],
   "source": [
    "import sys\n",
    "\n",
    "from sqlalchemy import create_engine\n",
    "from sqlalchemy_utils import database_exists, create_database\n",
    "import psycopg2"
   ]
  },
  {
   "cell_type": "markdown",
   "metadata": {},
   "source": [
    "### There are some issues that we need to deal with in our two stats databases\n",
    "#### Some of the differences are related to ESPN altering their boxscore format slightly between 2012-2013 season and the 2013-2014 season\n",
    "\n",
    "##### To change 'stats' table we do the following\n",
    "1. add a DREB column = REB col - OREB col\n",
    "2. add a 2PM, 2PA columns = FGM, FGA - 3PM, 3PA\n",
    "3. add a ppm column = pts col / min col\n",
    "4. add a W/L column based on total points\n",
    "\n",
    "##### To change 'stats2' table we do the following\n",
    "1. add a REB column = OREG + DREB\n",
    "2. add a 2PM, 2PA columns = FGM, FGA - 3PM, 3PA\n",
    "3. add a ppm column = pts col / min col\n",
    "4. add a W/L column based on total points\n",
    "\n"
   ]
  },
  {
   "cell_type": "code",
   "execution_count": 4,
   "metadata": {
    "collapsed": false
   },
   "outputs": [
    {
     "name": "stdout",
     "output_type": "stream",
     "text": [
      "Hello world!\n"
     ]
    }
   ],
   "source": [
    "# Connect to the Postgres database\n",
    "\n",
    "username = 'smaug'\n",
    "dbname = 'ncaa_mbb_db'\n",
    "\n",
    "con = None\n",
    "con = psycopg2.connect(database=dbname, user=username)\n",
    "\n"
   ]
  },
  {
   "cell_type": "code",
   "execution_count": null,
   "metadata": {
    "collapsed": true
   },
   "outputs": [],
   "source": [
    "#deal with 'stats' database\n",
    "\n",
    "\n",
    "\n"
   ]
  }
 ],
 "metadata": {
  "kernelspec": {
   "display_name": "Python 2",
   "language": "python",
   "name": "python2"
  },
  "language_info": {
   "codemirror_mode": {
    "name": "ipython",
    "version": 2
   },
   "file_extension": ".py",
   "mimetype": "text/x-python",
   "name": "python",
   "nbconvert_exporter": "python",
   "pygments_lexer": "ipython2",
   "version": "2.7.11"
  }
 },
 "nbformat": 4,
 "nbformat_minor": 0
}
